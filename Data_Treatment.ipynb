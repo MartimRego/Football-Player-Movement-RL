{
 "cells": [
  {
   "cell_type": "code",
   "execution_count": 1,
   "id": "53e4c2d4",
   "metadata": {},
   "outputs": [],
   "source": [
    "#Custom python file with visualization tools\n",
    "import visuais as v\n",
    "\n",
    "#Main Packages\n",
    "import numpy as np\n",
    "import pandas as pd\n",
    "import math\n",
    "import time\n",
    "import copy\n",
    "import random\n",
    "\n",
    "#Visualizations\n",
    "from matplotlib import animation\n",
    "from matplotlib import pyplot as plt\n",
    "import os\n",
    "import moviepy\n",
    "import glob\n",
    "from moviepy.editor import VideoFileClip, concatenate_videoclips\n",
    "from scipy.spatial import ConvexHull\n",
    "from matplotlib.patches import Polygon\n",
    "from matplotlib.animation import FFMpegWriter\n",
    "\n",
    "#Statistics packages\n",
    "from sklearn.cluster import SpectralClustering\n",
    "from pyclustering.cluster.kmedoids import kmedoids\n",
    "from sklearn.cluster import AgglomerativeClustering\n",
    "from scipy.stats import pearsonr \n",
    "from sklearn.metrics import roc_auc_score, accuracy_score, f1_score, precision_recall_curve, auc, precision_score, recall_score, confusion_matrix\n",
    "from sklearn.preprocessing import StandardScaler\n",
    "\n",
    "#Multiprocessing\n",
    "import multiprocessing as mp\n",
    "from multiprocessing import Pool\n",
    "\n",
    "#Others\n",
    "from ast import literal_eval #Used to convert the dataframe containing PCM transitions\n",
    "from scipy.optimize import minimize \n",
    "from itertools import islice"
   ]
  },
  {
   "cell_type": "markdown",
   "id": "9e865fe6",
   "metadata": {},
   "source": [
    "# Load the Data"
   ]
  },
  {
   "cell_type": "code",
   "execution_count": 2,
   "id": "8318ebe5-958d-45e1-b669-4b3a33d9ca12",
   "metadata": {},
   "outputs": [],
   "source": [
    "# We load the ball dataset separately as a design choice, since it needed to be generated below\n",
    "def LoadGame(n):\n",
    "    if n==1: #Ini1\n",
    "        timeframe1 = 912 #The timeframes indicate the beggining and end of each half\n",
    "        timeframe2 = 21930\n",
    "        timeframe3 = 23817\n",
    "        timeframe4 = 36610 #Final minutes ignored due to bug in tracking data\n",
    "        field_dim = [50.21011206*2,30.55290322*2] #Manually extracted from the data\n",
    "        dfhome=pd.read_csv('INI1_eq1_J1.csv',header=None)\n",
    "        dfaway=pd.read_csv('INI1_eq2_J1.csv',header=None)\n",
    "        dfcodes=pd.read_csv('F_PB_INI1C.csv',header=None)\n",
    "        dfcodes = dfcodes.drop_duplicates()\n",
    "        return timeframe1, timeframe2, timeframe3, timeframe4, field_dim, dfhome, dfaway, dfcodes\n",
    "    elif n==2: #Ini2\n",
    "        timeframe1 = 145\n",
    "        timeframe2 = 21132\n",
    "        timeframe3 = 24648\n",
    "        timeframe4 = 43682\n",
    "        field_dim = [50.21011206*2,30.55290322*2]\n",
    "        dfhome=pd.read_csv('INI2_eq2_J1.csv',header=None)\n",
    "        dfaway=pd.read_csv('INI2_eq1_J1.csv',header=None)\n",
    "        dfcodes=pd.read_csv('F_PB_INI2.csv',header=None)\n",
    "        dfcodes = dfcodes.drop_duplicates()\n",
    "        return timeframe1, timeframe2, timeframe3, timeframe4, field_dim, dfhome, dfaway, dfcodes\n",
    "    elif n==3: #Ini3\n",
    "        timeframe1 = 700\n",
    "        timeframe2 = 21119\n",
    "        timeframe3 = 25150\n",
    "        timeframe4 = 35694\n",
    "        field_dim = [50.21011206*2,30.55290322*2]\n",
    "        dfhome=pd.read_csv('INI3_eq1_J1.csv',header=None)\n",
    "        dfaway=pd.read_csv('INI3_eq2_J1.csv',header=None)\n",
    "        dfcodes=pd.read_csv('F_PB_INI3.csv',header=None)\n",
    "        dfcodes = dfcodes.drop_duplicates()\n",
    "        return timeframe1, timeframe2, timeframe3, timeframe4, field_dim, dfhome, dfaway, dfcodes\n",
    "    elif n==4: #Juv2\n",
    "        timeframe1 = 30492\n",
    "        timeframe2 = 55227\n",
    "        timeframe3 = 62176\n",
    "        timeframe4 = 86598\n",
    "        field_dim = [49.96530488*2,24.97946377*2]\n",
    "        dfhome=pd.read_csv('Dia1_eq1_JUV2.csv',header=None)\n",
    "        dfaway=pd.read_csv('Dia1_eq2_JUV2.csv',header=None)\n",
    "        dfcodes=pd.read_csv('F_PB_NC_JUV2.csv',header=None)\n",
    "        dfcodes = dfcodes.drop_duplicates()\n",
    "        return timeframe1, timeframe2, timeframe3, timeframe4, field_dim, dfhome, dfaway, dfcodes\n",
    "    elif n==5: #Juv3\n",
    "        timeframe1 = 23445\n",
    "        timeframe2 = 48923\n",
    "        timeframe3 = 56647\n",
    "        timeframe4 = 56647 #Second half removed due to bugs in the tracking data\n",
    "        field_dim = [50.7950451700000016330704966094*2,27.9822253899999999759984348202*2]\n",
    "        dfhome=pd.read_csv('Dia1_eq1_JUV3.csv',header=None)\n",
    "        dfaway=pd.read_csv('Dia1_eq2_JUV3.csv',header=None)\n",
    "        dfcodes=pd.read_csv('F_PB_NC_JUV3.csv',header=None)\n",
    "        dfcodes = dfcodes.drop_duplicates()\n",
    "        return timeframe1, timeframe2, timeframe3, timeframe4, field_dim, dfhome, dfaway, dfcodes\n",
    "    elif n==6: #Jun2\n",
    "        timeframe1 = 8152\n",
    "        timeframe2 = 27184\n",
    "        timeframe3 = 35908\n",
    "        timeframe4 = 35908 #Second half removed due to bugs in the tracking data\n",
    "        field_dim = [51.83099678*2,32.68346768*2]\n",
    "        dfhome=pd.read_csv('JUN2_eq2.csv',header=None)\n",
    "        dfaway=pd.read_csv('JUN2_eq1.csv',header=None)\n",
    "        dfcodes=pd.read_csv('F_PB_JUN2.csv',header=None)\n",
    "        dfcodes = dfcodes.drop_duplicates()\n",
    "        return timeframe1, timeframe2, timeframe3, timeframe4, field_dim, dfhome, dfaway, dfcodes\n",
    "    elif n==7: #Jun3\n",
    "        timeframe1 = 27760\n",
    "        timeframe2 = 51543\n",
    "        timeframe3 = 54660\n",
    "        timeframe4 = 78822\n",
    "        field_dim = [52.66518242*2,30.13992891*2]\n",
    "        dfhome=pd.read_csv('eq1.xlsx - eq1.csv',header=None)\n",
    "        dfaway=pd.read_csv('eq2.xlsx - eq2.csv',header=None)\n",
    "        dfcodes=pd.read_csv('F_PB_JUN3.csv',header=None)\n",
    "        dfcodes = dfcodes.drop_duplicates()\n",
    "        return timeframe1, timeframe2, timeframe3, timeframe4, field_dim, dfhome, dfaway, dfcodes"
   ]
  },
  {
   "cell_type": "code",
   "execution_count": 3,
   "id": "f1d88110-2bb5-4502-8b74-b9e713edeaf4",
   "metadata": {},
   "outputs": [],
   "source": [
    "#Choose game to load\n",
    "Match_index = 7"
   ]
  },
  {
   "cell_type": "code",
   "execution_count": 4,
   "id": "8356b715-0dea-41de-8890-eec8ed0c7c6e",
   "metadata": {},
   "outputs": [],
   "source": [
    "a, b, c, d, field_dim, dfhome, dfaway, dfcodes = LoadGame(Match_index)"
   ]
  },
  {
   "cell_type": "code",
   "execution_count": 5,
   "id": "220b0f54",
   "metadata": {},
   "outputs": [],
   "source": [
    "def invert(x): #an inversion is performed for the second half to have both teams attacking to the same side at all times\n",
    "    return -x\n",
    "dfawaytemp2 = dfaway.copy() #Dataframes that will be used for the second half\n",
    "dfhometemp2 = dfhome.copy()\n",
    "for i in range(2,24):\n",
    "    dfawaytemp2[i] = dfawaytemp2[i].apply(invert)\n",
    "    dfhometemp2[i] = dfhometemp2[i].apply(invert)\n",
    "# First Half home team\n",
    "dfhome1 = dfhome.iloc[a-2:b+1] #An extra frame was placed at the beginning and end, for the purpose of velocity, will be excluded later\n",
    "# Second half home team\n",
    "dfhome2 = dfhometemp2.iloc[c-2:d+1] #An extra frame was placed at the beginning and end, for the purpose of velocity, will be excluded later\n",
    "# Creates the final dataframe with both halves\n",
    "dfhome = pd.concat([dfhome1,dfhome2], axis=0)\n",
    "\n",
    "\n",
    "# Same treatment for the away team\n",
    "dfaway1 = dfaway.iloc[a-2:b+1] \n",
    "dfaway2 = dfawaytemp2.iloc[c-2:d+1]\n",
    "dfaway = pd.concat([dfaway1,dfaway2], axis=0)\n"
   ]
  },
  {
   "cell_type": "code",
   "execution_count": 6,
   "id": "f6f748e1-6ae2-4950-ac15-accfb0ab0662",
   "metadata": {},
   "outputs": [],
   "source": [
    "if Match_index == 2 or Match_index == 6: #fixes the fact that teams are flipped in these games\n",
    "    i=0\n",
    "    while i < len(dfcodes):\n",
    "        if dfcodes.iloc[i][1] == 1:\n",
    "            dfcodes.iloc[i][1] = 2\n",
    "        elif dfcodes.iloc[i][1] == 2:\n",
    "            dfcodes.iloc[i][1] = 1\n",
    "        i += 1"
   ]
  },
  {
   "cell_type": "markdown",
   "id": "8c42ae5a",
   "metadata": {},
   "source": [
    "## Creating the ball dataframe"
   ]
  },
  {
   "cell_type": "code",
   "execution_count": 7,
   "id": "d6d1ddb1",
   "metadata": {},
   "outputs": [],
   "source": [
    "#Placeholder for code to generate the ball dataframe (Not required to run more than once)"
   ]
  },
  {
   "cell_type": "code",
   "execution_count": 8,
   "id": "3cf4ddd2-9e7a-4b5e-ada3-1b5d1e9bd742",
   "metadata": {},
   "outputs": [],
   "source": [
    "#dfball = dfball.reset_index(drop=True)"
   ]
  },
  {
   "cell_type": "code",
   "execution_count": 9,
   "id": "5d4cfd0a-c8af-4530-819f-3134d40852f6",
   "metadata": {},
   "outputs": [],
   "source": [
    "#dfball.to_csv('dfbJUN2.csv',index = False)"
   ]
  },
  {
   "cell_type": "code",
   "execution_count": 10,
   "id": "5ec88f43-16e4-4184-8ff9-60ae5341286e",
   "metadata": {},
   "outputs": [],
   "source": [
    "#Load ball dataframe\n",
    "if Match_index == 1:\n",
    "    dfball = pd.read_csv('dfbINI1.csv')\n",
    "elif Match_index == 2:\n",
    "    dfball = pd.read_csv('dfbINI2.csv')\n",
    "elif Match_index == 3:\n",
    "    dfball = pd.read_csv('dfbINI3.csv')\n",
    "elif Match_index == 4:\n",
    "    dfball = pd.read_csv('dfbJUV2.csv')\n",
    "elif Match_index == 5:\n",
    "    dfball = pd.read_csv('dfbJUV3.csv')\n",
    "elif Match_index == 6:\n",
    "    dfball = pd.read_csv('dfbJUN2.csv')\n",
    "elif Match_index == 7:\n",
    "    dfball = pd.read_csv('dfbJUN3.csv')"
   ]
  },
  {
   "cell_type": "code",
   "execution_count": 11,
   "id": "c992a6c8-1ebf-469d-ae1e-71ce2016af15",
   "metadata": {},
   "outputs": [],
   "source": [
    "def FrameToIndex(Frame): #A function that receives a frame and outputs the corresponding dataframe index\n",
    "    return dfball.loc[dfball['Frame']==Frame].index[0]"
   ]
  },
  {
   "cell_type": "code",
   "execution_count": 12,
   "id": "d0e653ab-a2d6-4f2c-8929-d3cf70c63032",
   "metadata": {},
   "outputs": [],
   "source": [
    "def IndexToFrame(n): #Reverse of above function\n",
    "    return dfball.iloc[n,0]"
   ]
  },
  {
   "cell_type": "markdown",
   "id": "3caf4b1b",
   "metadata": {},
   "source": [
    "## Create velocity dataframe"
   ]
  },
  {
   "cell_type": "code",
   "execution_count": 13,
   "id": "1eacb229",
   "metadata": {
    "scrolled": true
   },
   "outputs": [],
   "source": [
    "num_players = (len(dfaway.columns) - 2) // 2  # We remove the 2 columns that don't correspond to players\n",
    "velocity_dfaway = dfaway.iloc[:,2:24].diff() #We create a difference dataframe, so velocity will be the difference between consecutive positions\n",
    "velocity_dfaway = velocity_dfaway.fillna(0)\n",
    "velocity_dfaway = velocity_dfaway.multiply(10) #Turn velocity into m/s\n",
    "velocity_dfaway.insert(0, 'Frame', dfaway.iloc[:, 1])\n",
    "players=[]\n",
    "for i in range(1,num_players+1):\n",
    "    players=players+[f'Player {i} X']\n",
    "    players=players+[f'Player {i} Y']\n",
    "velocity_dfaway.columns = ['Frame']+players"
   ]
  },
  {
   "cell_type": "code",
   "execution_count": 14,
   "id": "b6adac67",
   "metadata": {},
   "outputs": [],
   "source": [
    "num_players = (len(dfhome.columns) - 2) // 2  # We remove the 2 columns that don't correspond to players\n",
    "velocity_dfhome = dfhome.iloc[:,2:24].diff() #We create a difference dataframe, so velocity will be the difference between consecutive positions\n",
    "velocity_dfhome = velocity_dfhome.fillna(0)\n",
    "velocity_dfhome = velocity_dfhome.multiply(10) #Turn velocity into m/s\n",
    "velocity_dfhome.insert(0, 'Frame', dfhome.iloc[:, 1])\n",
    "players=[]\n",
    "for i in range(1,num_players+1):\n",
    "    players=players+[f'Player {i} X']\n",
    "    players=players+[f'Player {i} Y']\n",
    "velocity_dfhome.columns = ['Frame']+players"
   ]
  },
  {
   "cell_type": "code",
   "execution_count": 15,
   "id": "40abb0dc",
   "metadata": {},
   "outputs": [],
   "source": [
    "# Similar treatment to obtain  ball velocity\n",
    "velocity_dfball = dfball.iloc[:,1:3].diff()\n",
    "velocity_dfball = velocity_dfball.fillna(0)\n",
    "velocity_dfball = velocity_dfball.multiply(10)\n",
    "velocity_dfball.insert(0, 'Frame', dfball.iloc[:, 0])"
   ]
  },
  {
   "cell_type": "markdown",
   "id": "52a2753a",
   "metadata": {},
   "source": [
    "## Create Acceleration dataframe"
   ]
  },
  {
   "cell_type": "code",
   "execution_count": 16,
   "id": "e26dbec7",
   "metadata": {},
   "outputs": [],
   "source": [
    "num_players = (len(dfaway.columns) - 2) // 2  \n",
    "acc_dfaway = velocity_dfaway.iloc[:,1:23].diff()\n",
    "acc_dfaway = acc_dfaway.multiply(10) #turn into m/s^2\n",
    "acc_dfaway.insert(0, 'Frame', dfaway.iloc[:, 1])\n",
    "store = acc_dfaway['Frame'].iloc[-1] #Storing the last frame to insert back later\n",
    "acc_dfaway['Frame'] = acc_dfaway['Frame'].shift(1) #shifting the frames down since we want a_n = v_{n+1} - v_n\n",
    "acc_dfaway = acc_dfaway.shift(-1) #shifting entire dataframe back up to get back to normal\n",
    "acc_dfaway = acc_dfaway.fillna(0)\n",
    "acc_dfaway['Frame'].iloc[-1] = store #Restoring the last frame\n",
    "players=[]\n",
    "for i in range(1,num_players+1):\n",
    "    players=players+[f'Player {i} X']\n",
    "    players=players+[f'Player {i} Y']\n",
    "acc_dfaway.columns = ['Frame']+players"
   ]
  },
  {
   "cell_type": "code",
   "execution_count": 17,
   "id": "e4b0ff05",
   "metadata": {},
   "outputs": [],
   "source": [
    "num_players = (len(dfhome.columns) - 2) // 2  \n",
    "acc_dfhome = velocity_dfhome.iloc[:,1:23].diff()\n",
    "acc_dfhome = acc_dfhome.multiply(10) #turn into m/s^2\n",
    "acc_dfhome.insert(0, 'Frame', dfhome.iloc[:, 1])\n",
    "store = acc_dfhome['Frame'].iloc[-1] #Storing the last frame to insert back later\n",
    "acc_dfhome['Frame'] = acc_dfhome['Frame'].shift(1) #shifting the frames down since we want a_n = v_{n+1} - v_n\n",
    "acc_dfhome = acc_dfhome.shift(-1) #shifting entire dataframe back up to get back to normal\n",
    "acc_dfhome = acc_dfhome.fillna(0)\n",
    "acc_dfhome['Frame'].iloc[-1] = store #Restoring the last frame\n",
    "players=[]\n",
    "for i in range(1,num_players+1):\n",
    "    players=players+[f'Player {i} X']\n",
    "    players=players+[f'Player {i} Y']\n",
    "acc_dfhome.columns = ['Frame']+players"
   ]
  },
  {
   "cell_type": "markdown",
   "id": "dc63f191-9e7f-4747-afd9-2316610f8888",
   "metadata": {},
   "source": [
    "### Creation of temporary acceleration and velocity dataframes"
   ]
  },
  {
   "cell_type": "markdown",
   "id": "fa4d19a8-0da2-4b96-9870-2070cd7b3d01",
   "metadata": {},
   "source": [
    "These serve to simply analyse the max speeds and accelerations that we encounter"
   ]
  },
  {
   "cell_type": "code",
   "execution_count": 18,
   "id": "61628c1c-0bf9-4edc-9da5-4e755e2ce082",
   "metadata": {},
   "outputs": [],
   "source": [
    "#Creation of temporary dataframe with absolute values for the velocity of each player\n",
    "num_players = (len(dfaway.columns) - 2) // 2 \n",
    "# Calculating absolute velocity for each player and each frame\n",
    "player_dist = []\n",
    "for i in range(num_players):\n",
    "    x, y = dfaway.iloc[:, 2*i+2], dfaway.iloc[:, 2*i+3]\n",
    "    dist = np.sqrt((x.diff()**2 + y.diff()**2).fillna(0))\n",
    "    player_dist.append(dist)\n",
    "    \n",
    "# Convert velocities into dataframe and adding player identification\n",
    "players = [f'Player_{i}' for i in range(1, num_players+1)]\n",
    "tempvelocity_dfaway = pd.concat(player_dist, axis=1)\n",
    "tempvelocity_dfaway = tempvelocity_dfaway.multiply(10)\n",
    "tempvelocity_dfaway.columns = players\n",
    "tempvelocity_dfaway.insert(0, 'Frame', dfaway.iloc[:, 1])\n",
    "tempvelocity_dfaway = tempvelocity_dfaway.drop([a-2,b,c-2,d])"
   ]
  },
  {
   "cell_type": "code",
   "execution_count": 19,
   "id": "38d2b03f-b630-470c-b470-51e48813322b",
   "metadata": {},
   "outputs": [],
   "source": [
    "#Creation of temporary dataframe with absolute values for the acceleration of each player\n",
    "num_players = (len(dfaway.columns) - 2) // 2 \n",
    "# Calculating absolute acceleration for each player and each frame\n",
    "player_acc = []\n",
    "for i in range(num_players):\n",
    "    x, y = velocity_dfaway.iloc[:, 2*i+1], velocity_dfaway.iloc[:, 2*i+2]\n",
    "    acc = np.sqrt((x.diff()**2 + y.diff()**2).fillna(0))\n",
    "    player_acc.append(acc)\n",
    "    \n",
    "# Convert accelerations into dataframe and adding player identification\n",
    "players = [f'Player_{i}' for i in range(1, num_players+1)]\n",
    "tempacc_dfaway = pd.concat(player_acc, axis=1)\n",
    "tempacc_dfaway = tempacc_dfaway.multiply(10)\n",
    "tempacc_dfaway.columns = players\n",
    "tempacc_dfaway.insert(0, 'Frame', dfaway.iloc[:, 1])\n",
    "store = tempacc_dfaway['Frame'].iloc[-1] #Storing the last frame to insert back later\n",
    "tempacc_dfaway['Frame'] = tempacc_dfaway['Frame'].shift(1) #shifting the frames down since we want a_n = v_{n+1} - v_n\n",
    "tempacc_dfaway = tempacc_dfaway.shift(-1) #shifting entire dataframe back up to get back to normal\n",
    "tempacc_dfaway = tempacc_dfaway.fillna(0)\n",
    "tempacc_dfaway['Frame'].iloc[-1] = store #Restoring the last frame\n",
    "tempacc_dfaway = tempacc_dfaway.drop([a-2,b,c-2,d])"
   ]
  },
  {
   "cell_type": "code",
   "execution_count": 20,
   "id": "a341fd22-ef1f-4925-ae55-ddf3aeff7dc6",
   "metadata": {
    "scrolled": true
   },
   "outputs": [
    {
     "data": {
      "text/plain": [
       "50280    5.961543\n",
       "50279    5.948109\n",
       "50278    5.916925\n",
       "50277    5.852350\n",
       "59146    5.656854\n",
       "50281    5.646238\n",
       "59144    5.643580\n",
       "33290    5.641640\n",
       "33291    5.565932\n",
       "50276    5.531727\n",
       "33289    5.526672\n",
       "59145    5.458938\n",
       "28333    5.350037\n",
       "59143    5.333854\n",
       "28332    5.307391\n",
       "50275    5.303772\n",
       "67144    5.285558\n",
       "50282    5.281098\n",
       "33292    5.278219\n",
       "59147    5.261179\n",
       "67145    5.224496\n",
       "28334    5.221532\n",
       "33288    5.221197\n",
       "67143    5.216835\n",
       "28335    5.206006\n",
       "59148    5.197115\n",
       "67124    5.056679\n",
       "67142    5.055989\n",
       "59142    5.035871\n",
       "50283    5.032892\n",
       "Name: Player_1, dtype: float64"
      ]
     },
     "execution_count": 20,
     "metadata": {},
     "output_type": "execute_result"
    }
   ],
   "source": [
    "#Checking maximum velocities and accelerations for a given player, will give an idea of the maximum velocity and acceleration parameters for the PCM\n",
    "#We look at the 30 highest results to account for possible inconsistencies in the tracking data\n",
    "tempacc_dfaway.Player_1.nlargest(30)"
   ]
  },
  {
   "cell_type": "markdown",
   "id": "1a3d3945-03b7-465c-8e70-0322b3aa3bbe",
   "metadata": {},
   "source": [
    "#### Dropping extra frames"
   ]
  },
  {
   "cell_type": "markdown",
   "id": "8d7c7eb5-4fa6-4380-aac0-4c100e244b12",
   "metadata": {},
   "source": [
    "Dropping the extra frames created for velocity and acceleration, required to run"
   ]
  },
  {
   "cell_type": "code",
   "execution_count": 21,
   "id": "62893bea-5f8b-4153-8780-dcb910313de0",
   "metadata": {
    "scrolled": true
   },
   "outputs": [],
   "source": [
    "#Dropping the extra frames\n",
    "dfaway = dfaway.drop([a-2,b,c-2,d]).reset_index(drop=True)\n",
    "velocity_dfaway = velocity_dfaway.drop([a-2,b,c-2,d]).reset_index(drop=True)\n",
    "acc_dfaway = acc_dfaway.drop([a-2,b,c-2,d]).reset_index(drop=True)\n",
    "dfhome = dfhome.drop([a-2,b,c-2,d]).reset_index(drop=True)\n",
    "velocity_dfhome = velocity_dfhome.drop([a-2,b,c-2,d]).reset_index(drop=True)\n",
    "acc_dfhome = acc_dfhome.drop([a-2,b,c-2,d]).reset_index(drop=True)\n",
    "velocity_dfball = velocity_dfball.drop([FrameToIndex(a-1),FrameToIndex(b+1),FrameToIndex(c-1),FrameToIndex(d+1)]).reset_index(drop=True)\n",
    "dfball = dfball.drop([FrameToIndex(a-1),FrameToIndex(b+1),FrameToIndex(c-1),FrameToIndex(d+1)]).reset_index(drop=True)"
   ]
  },
  {
   "cell_type": "markdown",
   "id": "f7db0002",
   "metadata": {},
   "source": [
    "## Creating possession list"
   ]
  },
  {
   "cell_type": "markdown",
   "id": "c20ad1fc",
   "metadata": {},
   "source": [
    "We aim to create a list of possessions per team, with start and end frame as well as the terminal state of the possession"
   ]
  },
  {
   "cell_type": "code",
   "execution_count": 22,
   "id": "2827d63e",
   "metadata": {
    "scrolled": true
   },
   "outputs": [],
   "source": [
    "pos=[] #List in which possessions will be stored\n",
    "EndsInPossession = False #Flag that indicates if a game ended with a team in possession\n",
    "i=0\n",
    "l=len(dfcodes)\n",
    "while i<l:\n",
    "    while i < l-1 and dfcodes[0].iloc[i] == dfcodes[0].iloc[i+1]: #skip repeated frames\n",
    "        i += 1\n",
    "    temp = [dfcodes[0].iloc[i]] #Storing the frame\n",
    "    Team = dfcodes[1].iloc[i] #Storing team in possession\n",
    "    if Team > 2: #Covers for a special case in which skipping a frame leads to an event, meaning there was a single frame possession by a team\n",
    "        temp += [temp[0],dfcodes[1].iloc[i-1],True] #last element is a SingleTouchFlag, to use later\n",
    "        pos += [temp]\n",
    "        i += 1\n",
    "    else:\n",
    "        SingleTouchFlag = False #Used later to determine final result of possession and differentiate turnovers from deflections from the opponent\n",
    "        oldi = i\n",
    "        while i < l and dfcodes[1].iloc[i] == Team:\n",
    "            i += 1\n",
    "        if i - oldi == 1: #This would imply that there was a single touch possession, which we'll qualify as a deflection\n",
    "            SingleTouchFlag = True \n",
    "        if i == l: #covers the case of last possession of the game\n",
    "            temp += [dfcodes[0].iloc[i-1],Team,SingleTouchFlag]\n",
    "            pos += [temp]\n",
    "            EndsInPossession = True #Flag that indicates if a game ended with a team in possession\n",
    "        else:\n",
    "            temp += [dfcodes[0].iloc[i]-1,Team,SingleTouchFlag]\n",
    "            pos += [temp]\n",
    "            while i < l and dfcodes[1].iloc[i] > 2:\n",
    "                i += 1\n",
    "### Populating the list with the final results of each possession ###\n",
    "#Creating a list of the final frames of each possession, to search later\n",
    "FinalFrameList = []\n",
    "for i in range(len(pos)):\n",
    "    if pos[i][0] == pos[i][1] or (EndsInPossession and i == len(pos)-1):\n",
    "        if len(dfcodes.loc[dfcodes[0] == pos[i][0] + 1][1].tolist()) == 1: #Fix for single frame possessions\n",
    "            FinalFrameList += [pos[i][1]+1]\n",
    "        else:\n",
    "            FinalFrameList += [pos[i][1]]\n",
    "    else:\n",
    "        FinalFrameList += [pos[i][1]+1]\n",
    "i = len(pos) - 1\n",
    "l = 0\n",
    "while i >= l: #We work backwards to facilitate the creation of the OutKept final result\n",
    "    FinalFrame = FinalFrameList[i]\n",
    "    if i > 0 and FinalFrame == FinalFrameList[i-1]: #Single frame case, taking the second line of dfcodes\n",
    "        if i != len(pos)-1:\n",
    "            code = dfcodes.loc[dfcodes[0] == FinalFrame][1].tolist()[1]\n",
    "            code2 = dfcodes.loc[dfcodes[0] == FinalFrame][2].tolist()[1]\n",
    "        else:\n",
    "            code = dfcodes.loc[dfcodes[0] == FinalFrame][1].tolist()[0]\n",
    "            code2 = dfcodes.loc[dfcodes[0] == FinalFrame][2].tolist()[0]\n",
    "    else:\n",
    "        code = dfcodes.loc[dfcodes[0] == FinalFrame][1].tolist()[0]\n",
    "        code2 = dfcodes.loc[dfcodes[0] == FinalFrame][2].tolist()[0]\n",
    "    if (EndsInPossession and i == len(pos)-1): #Serves for occasions where the game ends during a possession \n",
    "        pos[i] += ['GameEnd']                  #this never happened for half-time in this dataset, so that case was not covered\n",
    "    else:\n",
    "        if code == 3:\n",
    "            pos[i] += ['OutThrow']\n",
    "        if code == 4:\n",
    "            if (code2 < 4 and pos[i][2] == 1) or (code2 > 3 and pos[i][2] == 2):\n",
    "                pos[i] += ['OutCorner']\n",
    "            else:\n",
    "                pos[i] += ['OutGK']\n",
    "        elif code == 6:\n",
    "            pos[i] += ['Goal']\n",
    "        elif code == 7:\n",
    "            pos[i] += ['Foul']\n",
    "        elif code == 1 or code == 2: #If there was a turnover but it was a single touch possession that went out, we consider it a deflection and classify it as Outkept, meaning the team did not truly lose the ball\n",
    "            if (pos[i+1][-1] == 'OutThrow' or pos[i+1][-1] == 'OutCorner' or pos[i+1][-1] == 'OutGK') and pos[i+1][-2]:\n",
    "                pos[i] += ['OutKept']\n",
    "            else:\n",
    "                pos[i] += ['Turnover']\n",
    "    i -= 1\n",
    "i = len(pos)-2\n",
    "while i >= 0: #Deleting possessions immediately following a ball out or a foul, as we want to remove set pieces from the dataset\n",
    "    if (pos[i][-1] == 'OutCorner' or pos[i][-1] == 'OutThrow' or pos[i][-1] == 'OutGK' or pos[i][-1] == 'Foul'):\n",
    "        del pos[i+1]\n",
    "    i -= 1\n",
    "specialpos = copy.deepcopy(pos) #keeps single touch possessions, will be necessary for model validation of the PCM\n",
    "i = 0\n",
    "while i < len(pos): #Delete single touch possessions and flag\n",
    "    if pos[i][3] == True:\n",
    "        del pos[i]\n",
    "    else:\n",
    "        del pos[i][3]\n",
    "        i += 1\n",
    "i = 0\n",
    "while i < len(specialpos):\n",
    "    del specialpos[i][3]\n",
    "    i += 1\n",
    "poslist =[] #Creates a by frame list of possession state\n",
    "for i in pos:\n",
    "    for j in range(i[0],i[1]+1):\n",
    "        poslist += [[j,i[2]]]\n",
    "    poslist += [i[-1]]\n",
    "specialposlist =[] #Creates a by frame list of possession state for the specialpos\n",
    "for i in specialpos:\n",
    "    for j in range(i[0],i[1]+1):\n",
    "        specialposlist += [[j,i[2]]]\n",
    "    specialposlist += [i[-1]]"
   ]
  },
  {
   "cell_type": "code",
   "execution_count": 23,
   "id": "f48bb6d5-b7da-43bd-9b11-1c5f598d6db8",
   "metadata": {},
   "outputs": [],
   "source": [
    "def FrameToTeam(Frame): #For a given frame, outputs the team in possession, used later\n",
    "    for i in poslist:\n",
    "        if not isinstance(i,str):\n",
    "            if i[0] == Frame:\n",
    "                return i[1]\n",
    "    return 0 #If there's no team in possession (that is, the game is stopped)"
   ]
  },
  {
   "cell_type": "markdown",
   "id": "000a550b-9b37-4951-9d9a-4cee5d0c0bf4",
   "metadata": {},
   "source": [
    "### Possession by player"
   ]
  },
  {
   "cell_type": "markdown",
   "id": "3fb6e4de",
   "metadata": {},
   "source": [
    "We want a similar list of possessions, but broken down by player instead"
   ]
  },
  {
   "cell_type": "code",
   "execution_count": 24,
   "id": "b53b6454-f366-4569-9dcc-ab324fbdf93f",
   "metadata": {},
   "outputs": [],
   "source": [
    "### Similar to code above, but breaks down possession on a player by player basis###\n",
    "PlayerPos = [] \n",
    "i = 0\n",
    "l=len(dfcodes)\n",
    "while i<l:\n",
    "    while i < l-1 and dfcodes[0].iloc[i] == dfcodes[0].iloc[i+1]: #skip repeated frames\n",
    "        i += 1\n",
    "    temp = [dfcodes[0].iloc[i]]\n",
    "    Team = dfcodes[1].iloc[i]\n",
    "    p = dfcodes[2].iloc[i]\n",
    "    if Team > 2: #Covers for a special case in which skipping a frame leads to an event, meaning there was a single frame possession by a team\n",
    "        temp += [temp[0],dfcodes[1].iloc[i-1],dfcodes[2].iloc[i-1]]\n",
    "        PlayerPos += [temp]\n",
    "        i += 1\n",
    "    else:\n",
    "        while i < l and dfcodes[1].iloc[i] == Team and dfcodes[2].iloc[i] == p:\n",
    "            i += 1\n",
    "        if i == l: #covers for last possession of the game\n",
    "            temp += [dfcodes[0].iloc[i-1],Team,p]\n",
    "            PlayerPos += [temp]\n",
    "        else:\n",
    "            temp += [dfcodes[0].iloc[i-1],Team,p]\n",
    "            PlayerPos += [temp]\n",
    "            temp = [dfcodes[0].iloc[i-1]+1,dfcodes[0].iloc[i]-1,Team,0] #Creates a possession with assigned team but no player, ball is in flight\n",
    "            PlayerPos += [temp]\n",
    "            while i < l and dfcodes[1].iloc[i] > 2:\n",
    "                i += 1\n",
    "l = len(PlayerPos)\n",
    "i = 0\n",
    "while i < l: #Solving special case\n",
    "    if PlayerPos[i][0] > PlayerPos[i][1]:\n",
    "        del PlayerPos[i]\n",
    "        l -= 1\n",
    "    i += 1\n",
    "l = len(PlayerPos)\n",
    "i = 0\n",
    "while i < l-1: #Solving special case\n",
    "    if PlayerPos[i][1] == PlayerPos[i+1][0]:\n",
    "        PlayerPos[i][1] -= 1\n",
    "    i += 1\n",
    "PlayerPoslist =[] #Creating a frame by frame possession list, with final outcomes\n",
    "for i in PlayerPos:\n",
    "    for j in range(i[0],i[1]+1):\n",
    "        PlayerPoslist += [[j,i[2],i[3]]]\n",
    "SpecialPlayerPoslist = copy.deepcopy(PlayerPoslist)\n",
    "i = 0\n",
    "while i < len(PlayerPoslist): #Delete frames to match Poslist\n",
    "    if not FrameToTeam(PlayerPoslist[i][0]):\n",
    "        del PlayerPoslist[i]\n",
    "    else:\n",
    "        i += 1\n",
    "i = 0\n",
    "while i < len(PlayerPoslist): #Include final outcomes from poslist\n",
    "    if not isinstance(poslist[i],str):\n",
    "        if PlayerPoslist[i][0] != poslist[i][0]:\n",
    "            del PlayerPoslist[i]\n",
    "        else:\n",
    "            i += 1\n",
    "    else:\n",
    "        PlayerPoslist.insert(i,poslist[i])\n",
    "        i += 1\n",
    "PlayerPoslist += [poslist[-1]] #Add final string\n",
    "res = copy.deepcopy(SpecialPlayerPoslist)\n",
    "i = 0\n",
    "Flag = True\n",
    "while i < len(SpecialPlayerPoslist): #Do the same for the special case\n",
    "    if i < len(specialposlist) and not isinstance(specialposlist[i],str):\n",
    "        if SpecialPlayerPoslist[i][0] != specialposlist[i][0]:\n",
    "            del SpecialPlayerPoslist[i]\n",
    "        else:\n",
    "            i += 1\n",
    "    elif i < len(specialposlist):\n",
    "        SpecialPlayerPoslist.insert(i,specialposlist[i])\n",
    "        i += 1\n",
    "    else: #Handling case where last possession is deleted\n",
    "        del SpecialPlayerPoslist[i]\n",
    "        Flag = False\n",
    "if Flag:\n",
    "    SpecialPlayerPoslist += [specialposlist[-1]] #Add final string"
   ]
  },
  {
   "cell_type": "code",
   "execution_count": 25,
   "id": "9df9482e-d297-46c6-aae4-02f71c04d976",
   "metadata": {},
   "outputs": [],
   "source": [
    "def FrameToPlayer(Frame): #For a given frame, outputs the player in possession, used later\n",
    "    for i in PlayerPoslist:\n",
    "        if not isinstance(i,str):\n",
    "            if i[0] == Frame:\n",
    "                return [i[1],i[2]]\n",
    "    return 0 #If there's no player in possession"
   ]
  },
  {
   "cell_type": "markdown",
   "id": "36e538b8-0042-4bb6-aeb4-67ceaddf995f",
   "metadata": {},
   "source": [
    "# Pitch Control Model"
   ]
  },
  {
   "cell_type": "markdown",
   "id": "6628f4aa-4415-4ff1-ad3c-123aa985d113",
   "metadata": {},
   "source": [
    "Pitch control model based on the work of Spearman (2017), later updated in 2018 in the paper \"Beyond Expected goals\". This implementation heavily borrows from the work of Laurie Shaw found here: https://github.com/Friends-of-Tracking-Data-FoTD/LaurieOnTracking"
   ]
  },
  {
   "cell_type": "code",
   "execution_count": 26,
   "id": "44c79984-0f54-4cde-b058-700af4d56c74",
   "metadata": {},
   "outputs": [],
   "source": [
    "#Parameter Definition\n",
    "MaxVelocity = 7\n",
    "MaxAcceleration = 4\n",
    "BallSpeed = 15\n",
    "dt = 0.04\n",
    "max_int = 10\n",
    "conv_tol = 0.01\n",
    "OffsideTolerance = 0.5 \n",
    "########################################################"
   ]
  },
  {
   "cell_type": "code",
   "execution_count": 27,
   "id": "82ab7fda",
   "metadata": {},
   "outputs": [],
   "source": [
    "def initPCM(n,Team, lamb = 4.925, k = 1.048): #Function that initializes player and ball positions for the PCM model, for index n\n",
    "    AttPlayers = [] #List that will store all attacking players\n",
    "    DefPlayers = [] #List that will store all defensive players\n",
    "    lambd = k*lamb\n",
    "    lambg = 3*lambd\n",
    "    BallPosition = [dfball.iloc[n,1],dfball.iloc[n,2]] #Determine Ball Position\n",
    "    if Team==1:\n",
    "        for i in range(1,12): #For each player registers position and velocity\n",
    "            AttPlayers = AttPlayers +[[dfhome.iloc[n,2*i],dfhome.iloc[n,2*i+1],velocity_dfhome.iloc[n,2*i-1],velocity_dfhome.iloc[n,2*i]]]\n",
    "            DefPlayers = DefPlayers +[[dfaway.iloc[n,2*i],dfaway.iloc[n,2*i+1],velocity_dfaway.iloc[n,2*i-1],velocity_dfaway.iloc[n,2*i]]]\n",
    "    else:\n",
    "        for i in range(1,12):\n",
    "            DefPlayers = DefPlayers +[[dfhome.iloc[n,2*i],dfhome.iloc[n,2*i+1],velocity_dfhome.iloc[n,2*i-1],velocity_dfhome.iloc[n,2*i]]]\n",
    "            AttPlayers = AttPlayers +[[dfaway.iloc[n,2*i],dfaway.iloc[n,2*i+1],velocity_dfaway.iloc[n,2*i-1],velocity_dfaway.iloc[n,2*i]]]\n",
    "    i=0\n",
    "    while i < 11: #initialize lambdas, pcf and tti for later use\n",
    "        AttPlayers[i] = AttPlayers[i] + [lamb, 0, 0]\n",
    "        i += 1\n",
    "    DefPlayers[0] = DefPlayers[0] + [lambg, 0, 0] #Goalkeeper gets special lambda value\n",
    "    i = 1\n",
    "    while i < 11:\n",
    "        DefPlayers[i] = DefPlayers[i] + [lambd,0, 0]\n",
    "        i += 1\n",
    "    return AttPlayers,DefPlayers,BallPosition"
   ]
  },
  {
   "cell_type": "code",
   "execution_count": 28,
   "id": "e78ba9cb",
   "metadata": {},
   "outputs": [],
   "source": [
    "def checkoffsides(AttPlayers,DefPlayers,BallPosition,Team,tol): #removes attacking players for being offside, given some tolerance\n",
    "    if Team==1:\n",
    "        xlist = []\n",
    "        for i in DefPlayers:\n",
    "            xlist += [i[0]]\n",
    "        xlist.sort()\n",
    "        lim = max(xlist[-2],0,BallPosition[0]) #offside limit\n",
    "        AttPlayers = [i for i in AttPlayers if i[0] < lim + tol]\n",
    "        return AttPlayers\n",
    "    if Team==2:\n",
    "        xlist = []\n",
    "        for i in DefPlayers:\n",
    "            xlist += [i[0]]\n",
    "        xlist.sort()\n",
    "        lim = min(xlist[1],0,BallPosition[0])\n",
    "        AttPlayers = [i for i in AttPlayers if i[0] > lim - tol]\n",
    "        return AttPlayers\n",
    "        "
   ]
  },
  {
   "cell_type": "code",
   "execution_count": 29,
   "id": "5363e4b3-a69f-4e1f-b8b9-67daede808b2",
   "metadata": {},
   "outputs": [],
   "source": [
    "def IntegrateVelocity(d,InitialVelocity,MaxVelocity,acc): #Given a distance d, initial velocity, max velocity and acceleration, outputs time to reach target\n",
    "    if InitialVelocity >= MaxVelocity:\n",
    "        return d/MaxVelocity\n",
    "    T0 = (MaxVelocity-InitialVelocity)/acc #Time to reach max speed\n",
    "    d0 = InitialVelocity*T0 + (acc/2)*(T0**2) #Distance covered during acceleration phase\n",
    "    if d0 > d: #Case where the target is reached during acceleration phase\n",
    "        return (-InitialVelocity + np.sqrt(InitialVelocity**2 +2*acc*d))/acc\n",
    "    else: #Case where target is only reached past the accelerating phase\n",
    "        return (d-d0)/MaxVelocity + T0"
   ]
  },
  {
   "cell_type": "code",
   "execution_count": 30,
   "id": "9d7e40c5",
   "metadata": {},
   "outputs": [],
   "source": [
    "def TimeToIntercept(PlayerPosition,PlayerVelocity,TargetPosition,MaxAcceleration,MaxVelocity,ReactionTime,model): \n",
    "    #Given a player current position, a target position, current velocity, max acceleration and velocity and reaction time\n",
    "    #Outputs expected time to intercept.\n",
    "    #Model = 0 is our implementation with the trained parameters\n",
    "    #Model = 1 is Shaw's implementation with trained parameters\n",
    "    #Model = 2 is our implementation with custom parameters\n",
    "    #Model = 3 is Shaw's implementation with custom parameters\n",
    "    if not model%2: #Our model, implements our method\n",
    "        ReactionPosition = [PlayerPosition[0] + PlayerVelocity[0]*ReactionTime,PlayerPosition[1] + PlayerVelocity[1]*ReactionTime] #Position after reaction time\n",
    "        DistanceVector = [TargetPosition[0]-ReactionPosition[0],TargetPosition[1]-ReactionPosition[1]]\n",
    "        Distance = np.sqrt(DistanceVector[0]**2 + DistanceVector[1]**2) #Total distance to cover after reaction time\n",
    "        if Distance == 0:\n",
    "            return ReactionTime\n",
    "        InitialVelocity = (PlayerVelocity[0]*DistanceVector[0]+PlayerVelocity[1]*DistanceVector[1])/Distance #Projects the vector onto the distance vector to obtain a InitialVelocity\n",
    "        return ReactionTime + IntegrateVelocity(Distance,InitialVelocity,MaxVelocity,MaxAcceleration)\n",
    "    else: #Shaw's model, implements Shaw's method\n",
    "        ReactionPosition = [PlayerPosition[0] + PlayerVelocity[0]*ReactionTime,PlayerPosition[1] + PlayerVelocity[1]*ReactionTime]\n",
    "        DistanceVector = [TargetPosition[0]-ReactionPosition[0],TargetPosition[1]-ReactionPosition[1]]\n",
    "        Distance = np.sqrt(DistanceVector[0]**2 + DistanceVector[1]**2)\n",
    "        if Distance == 0:\n",
    "            return ReactionTime\n",
    "        return ReactionTime + Distance/MaxVelocity"
   ]
  },
  {
   "cell_type": "code",
   "execution_count": 31,
   "id": "fd82d74f",
   "metadata": {},
   "outputs": [],
   "source": [
    "def probability_intercept_ball(T,s,exp):\n",
    "        # probability of a player arriving at target location at time 'T' given their expected time_to_intercept (time of arrival), as described in Spearman 2018\n",
    "        f = 1/(1. + np.exp( -np.pi/np.sqrt(3.0)/s * (T-exp) ) )\n",
    "        return f"
   ]
  },
  {
   "cell_type": "code",
   "execution_count": 32,
   "id": "440bb918",
   "metadata": {},
   "outputs": [],
   "source": [
    "def pcm_at_target(TargetPosition,AttPlayers,DefPlayers,BallPosition,model = 0, s = 0.233, lamb = 5.793, lambd = 5.793, lambg = 17.379, ttca = 2.0797991363203825, ttcd = 2.0797991363203825, ReactionTime = 0.2):\n",
    "    #Given a target position, the information of the ball and players, gives out the value of the PCM\n",
    "    ############################################################\n",
    "    if ((TargetPosition[0] > -34 and TargetPosition[0] < 34) or TargetPosition[1] > 20 or TargetPosition[1] < -20):\n",
    "        #Checking if we're inside one of the boxes to update goalkeeper lambda (doesn't check if it's the defensive box)\n",
    "        DefPlayers[0][4] = lambd\n",
    "    i=0\n",
    "    while i < 11: #Initializes ppcf and time to intercept (overrides what's done in initPCM)\n",
    "        DefPlayers[i][5] = 0\n",
    "        DefPlayers[i][6] = TimeToIntercept([DefPlayers[i][0],DefPlayers[i][1]],[DefPlayers[i][2],DefPlayers[i][3]],TargetPosition,MaxAcceleration,MaxVelocity,ReactionTime,model)\n",
    "        i += 1\n",
    "    i=0\n",
    "    while i < len(AttPlayers): #Initializes ppcf and time to intercept, being careful to account for the potential of offside attackers\n",
    "        AttPlayers[i][5] = 0\n",
    "        AttPlayers[i][6] = TimeToIntercept([AttPlayers[i][0],AttPlayers[i][1]],[AttPlayers[i][2],AttPlayers[i][3]],TargetPosition,MaxAcceleration,MaxVelocity,ReactionTime,model)\n",
    "        i += 1\n",
    "    # ball travel time is distance to target position from current ball position divided by assumed average ball speed\n",
    "    ball_travel_time = np.sqrt((TargetPosition[0]-BallPosition[0])**2 + (TargetPosition[1]-BallPosition[1])**2)/BallSpeed\n",
    "\n",
    "    # first get arrival time of 'nearest' attacking player (nearest also dependent on current velocity)\n",
    "    tau_min_att = np.nanmin( [p[6] for p in AttPlayers] )\n",
    "    tau_min_def = np.nanmin( [p[6] for p in DefPlayers] )\n",
    "\n",
    "    # check whether we actually need to solve differential equation\n",
    "    if tau_min_att-max(ball_travel_time,tau_min_def) >= ttcd:\n",
    "        # if defending team can arrive significantly before attacking team, no need to solve pitch control model\n",
    "        return 0., 1.\n",
    "    elif tau_min_def-max(ball_travel_time,tau_min_att) >= ttca:\n",
    "        # if attacking team can arrive significantly before defending team, no need to solve pitch control model\n",
    "        return 1., 0.\n",
    "    else: \n",
    "        # solve pitch control model by integrating equation 3 in Spearman et al.\n",
    "        # first remove any player that is far (in time) from the target location\n",
    "        attacking_players = [p for p in AttPlayers if p[6]-tau_min_att < ttca ]\n",
    "        defending_players = [p for p in DefPlayers if p[6]-tau_min_def < ttcd ]\n",
    "        # set up integration arrays\n",
    "        dT_array = np.arange(ball_travel_time-dt, ball_travel_time + max_int, dt) \n",
    "        PPCFatt = np.zeros_like( dT_array )\n",
    "        PPCFdef = np.zeros_like( dT_array )\n",
    "        # integration equation 3 of Spearman 2018 until convergence or tolerance limit hit\n",
    "        ptot = 0.0\n",
    "        i = 1\n",
    "        while 1-ptot>conv_tol and i<dT_array.size: \n",
    "            T = dT_array[i]\n",
    "            for p in attacking_players:\n",
    "                # calculate ball control probablity for 'player' in time interval T+dt\n",
    "                dPPCFdT = (1-PPCFatt[i-1]-PPCFdef[i-1])*probability_intercept_ball(T,s,p[6]) * p[4]\n",
    "                # make sure it's greater than zero\n",
    "                assert dPPCFdT>=0, 'Invalid attacking player probability (calculate_pitch_control_at_target)'\n",
    "                p[5] += dPPCFdT*dt # total contribution from individual player\n",
    "                PPCFatt[i] += p[5] # add to sum over players in the attacking team (remembering array element is zero at the start of each integration iteration)\n",
    "            for p in defending_players:\n",
    "                # calculate ball control probablity for 'player' in time interval T+dt\n",
    "                dPPCFdT = (1-PPCFatt[i-1]-PPCFdef[i-1])*probability_intercept_ball(T,s,p[6]) * p[4]\n",
    "                # make sure it's greater than zero\n",
    "                assert dPPCFdT>=0, 'Invalid defending player probability (calculate_pitch_control_at_target)'\n",
    "                p[5] += dPPCFdT*dt # total contribution from individual player\n",
    "                PPCFdef[i] += p[5] # add to sum over players in the defending team\n",
    "            ptot = PPCFdef[i]+PPCFatt[i] # total pitch control probability \n",
    "            i += 1\n",
    "        if i>=dT_array.size:\n",
    "            print(\"Integration failed to converge: %1.3f\" % (ptot) )\n",
    "        return min(PPCFatt[i-1]/ptot,1.), min(PPCFdef[i-1]/ptot,1) #Make them add up to 1"
   ]
  },
  {
   "cell_type": "code",
   "execution_count": null,
   "id": "46589c7d-b17e-4cc1-a68c-3ccdc8dcf7ce",
   "metadata": {},
   "outputs": [],
   "source": [
    "dt = 0.04\n",
    "max_int = 10\n",
    "conv_tol = 0.01"
   ]
  },
  {
   "cell_type": "code",
   "execution_count": 33,
   "id": "bff69680",
   "metadata": {},
   "outputs": [],
   "source": [
    "def RunLine(l):\n",
    "    #Auxiliary function to allow multiprocessing in the main PCM function. Only used when generating a single PCM\n",
    "    i, xgrid, ygrid, AttPlayers, DefPlayers, BallPosition, model, s, lamb, lambd, lambg, ttca, ttcd, ReactionTime = l[0], l[1], l[2], l[3], l[4], l[5], l[6], l[7], l[8], l[9], l[10], l[11], l[12], l[13]\n",
    "    outputa = []\n",
    "    outputd = []\n",
    "    for j in range( len(xgrid) ):\n",
    "        TargetPosition = [xgrid[j], ygrid[i]]\n",
    "        res = pcm_at_target(TargetPosition,AttPlayers,DefPlayers,BallPosition,model, s, lamb, lambd, lambg, ttca, ttcd, ReactionTime)\n",
    "        outputa += [[res[0]]]\n",
    "        outputd += [[res[1]]]\n",
    "    return [outputa, outputd]\n",
    "\n",
    "def generate_PCM(n, mp = False, model = 0, params = None):\n",
    "    Frame = IndexToFrame(n)\n",
    "    Team = FrameToTeam(Frame)\n",
    "    if not model%2: #Check if our model\n",
    "        #Parameters\n",
    "        ReactionTime = 0.2\n",
    "        ########################################################\n",
    "    else:\n",
    "        #Parameters (Shaw)\n",
    "        ReactionTime = 0.7\n",
    "        ########################################################\n",
    "    if model == 0:\n",
    "        s = 0.462 \n",
    "        lamb = 4.925 \n",
    "        k = 1.048 \n",
    "        lambd = k*lamb\n",
    "        lambg = 3*lambd\n",
    "    elif model == 1:\n",
    "        s = 0.353\n",
    "        lamb = 5.035\n",
    "        k = 1.039\n",
    "        lambd = k*lamb\n",
    "        lambg = 3*lambd\n",
    "    else:\n",
    "        s = params[0]\n",
    "        lamb = params[1]\n",
    "        k = params[2]\n",
    "        lambd = k*lamb\n",
    "        lambg = 3*lambd\n",
    "    ttca = 3*np.log(10) * (np.sqrt(3)*s/np.pi + 1/lamb)\n",
    "    ttcd = 3*np.log(10) * (np.sqrt(3)*s/np.pi + 1/lambd)\n",
    "    AttPlayers, DefPlayers, BallPosition = initPCM(n,Team,lamb,k)\n",
    "    # break the pitch down into a grid\n",
    "    n_grid_cells_x = 100\n",
    "    n_grid_cells_y = 60\n",
    "    dx = field_dim[0]/n_grid_cells_x\n",
    "    dy = field_dim[1]/n_grid_cells_y\n",
    "    xgrid = np.arange(n_grid_cells_x)*dx - field_dim[0]/2. + dx/2.\n",
    "    ygrid = np.arange(n_grid_cells_y)*dy - field_dim[1]/2. + dy/2.\n",
    "    # initialise pitch control grids for attacking and defending teams \n",
    "    PPCFa = np.zeros( shape = (len(ygrid), len(xgrid)) )\n",
    "    PPCFd = np.zeros( shape = (len(ygrid), len(xgrid)) )\n",
    "    # find any attacking players that are offside and remove them from the pitch control calculation\n",
    "    AttPlayers = checkoffsides(AttPlayers,DefPlayers,BallPosition,Team,OffsideTolerance)\n",
    "    # calculate potential pitch control model at each location on the pitch\n",
    "    if mp: #multiprocessing, only used if function is called once. If called multiple times, mp is done externally\n",
    "        inputs = []\n",
    "        for i in range(len(ygrid)):\n",
    "            inputs += [[i,xgrid,ygrid,AttPlayers,DefPlayers,BallPosition,model, s, lamb, lambd, lambg, ttca, ttcd, ReactionTime]]\n",
    "        with Pool() as pool:\n",
    "            results = pool.map(RunLine,inputs)\n",
    "        for i in range( len(ygrid) ):\n",
    "            for j in range( len(xgrid) ):\n",
    "                PPCFa[i,j] = results[i][0][j][0]\n",
    "                PPCFd[i,j] = results[i][1][j][0]\n",
    "    else:\n",
    "        for i in range( len(ygrid) ):\n",
    "            for j in range( len(xgrid) ):\n",
    "                TargetPosition = [xgrid[j], ygrid[i]]\n",
    "                PPCFa[i,j],PPCFd[i,j] = pcm_at_target(TargetPosition,AttPlayers,DefPlayers,BallPosition,model, s, lamb, lambd, lambg, ttca, ttcd, ReactionTime)\n",
    "    # check probabilitiy sums within convergence\n",
    "    checksum = np.sum( PPCFa + PPCFd ) / float(n_grid_cells_y*n_grid_cells_x ) \n",
    "    assert 1-checksum < 0.01, \"Checksum failed: %1.3f %1.0f\" % (1-checksum,n)\n",
    "    return PPCFd,xgrid,ygrid"
   ]
  },
  {
   "cell_type": "code",
   "execution_count": 34,
   "id": "2139b16c-c93e-4eae-b0f8-a012dfeec1b3",
   "metadata": {},
   "outputs": [],
   "source": [
    "def plot_PCM(dfhome, dfaway, dfb, dist_dfhome, dist_dfaway, Frame, PPCF, alpha = 0.7, include_player_velocities=True, annotate=False, field_dimen = (100.0,60)):\n",
    "    Frame2 = IndexToFrame(Frame)\n",
    "    Team = FrameToTeam(Frame2)\n",
    "    awayteam = dfaway[Frame:Frame+1]\n",
    "    hometeam = dfhome[Frame:Frame+1]\n",
    "    vhometeam = dist_dfhome[Frame:Frame+1]\n",
    "    vawayteam = dist_dfaway[Frame:Frame+1]\n",
    "    ball = dfb[Frame:Frame+1].values.tolist()[0]\n",
    "    \n",
    "    # plot frame and event\n",
    "    fig,ax = v.plot_pitch(field_color='white', field_dimen = field_dimen)\n",
    "    v.plot_frame( hometeam, awayteam, ball, vhometeam, vawayteam, figax=(fig,ax), team_colors=('b','r'), field_dimen = field_dimen, include_player_velocities=include_player_velocities, PlayerMarkerSize=10, PlayerAlpha=alpha, annotate=annotate)   \n",
    "    # plot pitch control surface\n",
    "    if Team==1:\n",
    "        cmap = 'bwr'\n",
    "    else:\n",
    "        cmap = 'bwr_r'\n",
    "    ax.imshow(np.flipud(PPCF), extent=(-field_dimen[0]/2., field_dimen[0]/2., -field_dimen[1]/2., field_dimen[1]/2.),interpolation='spline36',vmin=0.0,vmax=1.0,cmap=cmap,alpha=0.5)\n",
    "\n",
    "    return fig,ax\n"
   ]
  },
  {
   "cell_type": "markdown",
   "id": "cbd16c33",
   "metadata": {},
   "source": [
    "Example of a PCM plot"
   ]
  },
  {
   "cell_type": "code",
   "execution_count": 35,
   "id": "2346965d-5b07-4e52-a717-59d298a07ac6",
   "metadata": {},
   "outputs": [
    {
     "data": {
      "text/plain": [
       "(<Figure size 1200x800 with 1 Axes>, <Axes: >)"
      ]
     },
     "execution_count": 35,
     "metadata": {},
     "output_type": "execute_result"
    },
    {
     "data": {
      "image/png": "[encoded data removed]",
      "text/plain": [
       "<Figure size 1200x800 with 1 Axes>"
      ]
     },
     "metadata": {},
     "output_type": "display_data"
    }
   ],
   "source": [
    "PPCF = generate_PCM(0,mp = True, model = 0)[0]\n",
    "plot_PCM(dfhome,dfaway,dfball,velocity_dfhome,velocity_dfaway,0,PPCF,annotate=True, field_dimen = field_dim)"
   ]
  },
  {
   "cell_type": "markdown",
   "id": "58bb6a9b-598e-489a-835e-02601c3046ce",
   "metadata": {},
   "source": [
    "## Parameter Estimation"
   ]
  },
  {
   "cell_type": "markdown",
   "id": "4c79e197-e48c-40e3-8794-ea403d3a21b4",
   "metadata": {},
   "source": [
    "Estimating the optimal parameters for the PCM model"
   ]
  },
  {
   "cell_type": "code",
   "execution_count": 36,
   "id": "4db9c4a8-ae09-4cc8-8e9f-0d7e776cc065",
   "metadata": {},
   "outputs": [],
   "source": [
    "#Version of the PCM implementation that will be used to train the parameters\n",
    "def pcm_at_target_train(TargetPosition,AttPlayers,DefPlayers,BallPosition,model = 0, params = None):\n",
    "    #Given a target position, the information of the ball and players, gives out the value of the PCM\n",
    "    if not model%2: #Check if our model\n",
    "        #Parameters\n",
    "        ReactionTime = 0.2\n",
    "        ########################################################\n",
    "    else:\n",
    "        #Parameters (Shaw)\n",
    "        ReactionTime = 0.7\n",
    "        ########################################################\n",
    "    if model == 0:\n",
    "        s = 0.462 #0.54\n",
    "        lamb = 4.925 #3.99\n",
    "        k = 1.048 # 1.72\n",
    "        lambd = k*lamb\n",
    "        lambg = 3*lambd\n",
    "    elif model == 1:\n",
    "        s = 0.353\n",
    "        lamb = 5.035\n",
    "        k = 1.039\n",
    "        lambd = k*lamb\n",
    "        lambg = 3*lambd\n",
    "    else:\n",
    "        s = params[0]\n",
    "        lamb = params[1]\n",
    "        k = params[2]\n",
    "        lambd = k*lamb\n",
    "        lambg = 3*lambd\n",
    "    ttca = 3*np.log(10) * (np.sqrt(3)*s/np.pi + 1/lamb)\n",
    "    ttcd = 3*np.log(10) * (np.sqrt(3)*s/np.pi + 1/lambd)\n",
    "    ############################################################\n",
    "    if ((TargetPosition[0] > -34 and TargetPosition[0] < 34) or TargetPosition[1] > 20 or TargetPosition[1] < -20):\n",
    "        #Checking if we're inside one of the boxes to update goalkeeper lambda (doesn't check if it's the defensive box)\n",
    "        DefPlayers[0][4] = lambd\n",
    "    else:\n",
    "        DefPlayers[0][4] = lambg\n",
    "    i = 1\n",
    "    #Update lambdas\n",
    "    while i < 11:\n",
    "        DefPlayers[i][4] = lambd\n",
    "        i += 1\n",
    "    for j in AttPlayers:\n",
    "        j[4] = lamb\n",
    "    i=0\n",
    "    while i < 11: #Initializes ppcf and time to intercept\n",
    "        DefPlayers[i][5] = 0\n",
    "        DefPlayers[i][6] = TimeToIntercept([DefPlayers[i][0],DefPlayers[i][1]],[DefPlayers[i][2],DefPlayers[i][3]],TargetPosition,MaxAcceleration,MaxVelocity,ReactionTime,model)\n",
    "        i += 1\n",
    "    i=0\n",
    "    while i < len(AttPlayers): #Initializes ppcf and time to intercept, being careful to account for the potential of offside attackers\n",
    "        AttPlayers[i][5] = 0\n",
    "        AttPlayers[i][6] = TimeToIntercept([AttPlayers[i][0],AttPlayers[i][1]],[AttPlayers[i][2],AttPlayers[i][3]],TargetPosition,MaxAcceleration,MaxVelocity,ReactionTime,model)\n",
    "        i += 1\n",
    "    # ball travel time is distance to target position from current ball position divided assumed average ball speed\n",
    "    ball_travel_time = np.sqrt((TargetPosition[0]-BallPosition[0])**2 + (TargetPosition[1]-BallPosition[1])**2)/BallSpeed\n",
    "\n",
    "    # first get arrival time of 'nearest' attacking player (nearest also dependent on current velocity)\n",
    "    tau_min_att = np.nanmin( [p[6] for p in AttPlayers] )\n",
    "    tau_min_def = np.nanmin( [p[6] for p in DefPlayers] )\n",
    "\n",
    "    # check whether we actually need to solve equation 3\n",
    "    if tau_min_att-max(ball_travel_time,tau_min_def) >= ttcd:\n",
    "        # if defending team can arrive significantly before attacking team, no need to solve pitch control model\n",
    "        return 0., 1.\n",
    "    elif tau_min_def-max(ball_travel_time,tau_min_att) >= ttca:\n",
    "        # if attacking team can arrive significantly before defending team, no need to solve pitch control model\n",
    "        return 1., 0.\n",
    "    else: \n",
    "        # solve pitch control model by integrating equation 3 in Spearman et al.\n",
    "        # first remove any player that is far (in time) from the target location\n",
    "        attacking_players = [p for p in AttPlayers if p[6]-tau_min_att < ttca ]\n",
    "        defending_players = [p for p in DefPlayers if p[6]-tau_min_def < ttcd ]\n",
    "        # set up integration arrays\n",
    "        dT_array = np.arange(ball_travel_time-dt, ball_travel_time + max_int, dt) \n",
    "        PPCFatt = np.zeros_like( dT_array )\n",
    "        PPCFdef = np.zeros_like( dT_array )\n",
    "        # integration equation 3 of Spearman 2018 until convergence or tolerance limit hit (see 'params')\n",
    "        ptot = 0.0\n",
    "        i = 1\n",
    "        while 1-ptot>conv_tol and i<dT_array.size: \n",
    "            T = dT_array[i]\n",
    "            for p in attacking_players:\n",
    "                # calculate ball control probablity for 'player' in time interval T+dt\n",
    "                dPPCFdT = (1-PPCFatt[i-1]-PPCFdef[i-1])*probability_intercept_ball(T,s,p[6]) * p[4]\n",
    "                # make sure it's greater than zero\n",
    "                assert dPPCFdT>=0, 'Invalid attacking player probability (calculate_pitch_control_at_target)'\n",
    "                p[5] += dPPCFdT*dt # total contribution from individual player\n",
    "                PPCFatt[i] += p[5] # add to sum over players in the attacking team (remembering array element is zero at the start of each integration iteration)\n",
    "            for p in defending_players:\n",
    "                # calculate ball control probablity for 'player' in time interval T+dt\n",
    "                dPPCFdT = (1-PPCFatt[i-1]-PPCFdef[i-1])*probability_intercept_ball(T,s,p[6]) * p[4]\n",
    "                # make sure it's greater than zero\n",
    "                assert dPPCFdT>=0, 'Invalid defending player probability (calculate_pitch_control_at_target)'\n",
    "                p[5] += dPPCFdT*dt # total contribution from individual player\n",
    "                PPCFdef[i] += p[5] # add to sum over players in the defending team\n",
    "            ptot = PPCFdef[i]+PPCFatt[i] # total pitch control probability \n",
    "            i += 1\n",
    "        if i>=dT_array.size:\n",
    "            print(\"Integration failed to converge: %1.3f\" % (ptot) )\n",
    "        return min(PPCFatt[i-1]/ptot,1.), min(PPCFdef[i-1]/ptot,1)"
   ]
  },
  {
   "cell_type": "markdown",
   "id": "3d0f7132",
   "metadata": {},
   "source": [
    "Creating a dataset of the ball transitions that concern the PCM"
   ]
  },
  {
   "cell_type": "code",
   "execution_count": 37,
   "id": "fc232dc9-7ce4-4712-b91e-95b106797188",
   "metadata": {},
   "outputs": [],
   "source": [
    "#Creates a list of every single ball transition\n",
    "#Auxiliary function that adds single transition\n",
    "def AddTransition1(Player1,Player2,Transitions):\n",
    "    InitFrame = Player1[0] #Frame where pass begins\n",
    "    Team = Player1[1] #Team executing the pass\n",
    "    AttPlayers,DefPlayers,BallPosition = initPCM(FrameToIndex(InitFrame),Team, 0, 0) #Game information\n",
    "    FinalFrame = Player2[0] #Frame where pass is received\n",
    "    PlayerID = [Player2[1],Player2[2]] #Team and player receiving the pass\n",
    "    SuccessFlag = Player2[3] #Whether the pass was successful\n",
    "    if SuccessFlag: #Check controlled touch\n",
    "        for j in range(FinalFrame,FinalFrame + 21): #Check if team stays in possession for 2 full seconds (To be considered controlled touch)\n",
    "            if FrameToTeam(j) != Team:\n",
    "                SuccessFlag = 0\n",
    "                break\n",
    "    if PlayerID[0] == 1: \n",
    "        X = dfhome[2*PlayerID[1]].loc[FrameToIndex(FinalFrame)]\n",
    "        Y = dfhome[2*PlayerID[1]+1].loc[FrameToIndex(FinalFrame)]\n",
    "        return Transitions + [(InitFrame,[X,Y],AttPlayers,DefPlayers,BallPosition,SuccessFlag)]\n",
    "    else:\n",
    "        X = dfaway[2*PlayerID[1]].loc[FrameToIndex(FinalFrame)]\n",
    "        Y = dfaway[2*PlayerID[1]+1].loc[FrameToIndex(FinalFrame)]\n",
    "        return Transitions + [(InitFrame,[X,Y],AttPlayers,DefPlayers,BallPosition,SuccessFlag)]\n",
    "def PCM_transitions1():\n",
    "    i = 0\n",
    "    Transitions = []\n",
    "    while i < len(PlayerPoslist):\n",
    "        Player = [PlayerPoslist[i][1],PlayerPoslist[i][2]] #Player executing pass (assumes play always resumes with a player controlling the ball)\n",
    "        while not isinstance(PlayerPoslist[i],str) and PlayerPoslist[i][2] == Player[1] and PlayerPoslist[i][1] == Player[0]:\n",
    "            #While nothing changes, do nothing\n",
    "            i += 1\n",
    "        if isinstance(PlayerPoslist[i],str):\n",
    "            if PlayerPoslist[i] == 'Turnover':\n",
    "                #Indicates the pass failed, saves player that received the pass and adds the transition with a success flag of 0\n",
    "                Player1 = [PlayerPoslist[i-1][0]] + Player #saves frame of pass\n",
    "                i += 1\n",
    "                if i == len(PlayerPoslist):\n",
    "                    break\n",
    "                #Handling special case where turnover happens into a single touch possession that was deleted\n",
    "                FrameOfReception = PlayerPoslist[i-2][0] + 1\n",
    "                for j in SpecialPlayerPoslist:\n",
    "                    if not isinstance(j,str):\n",
    "                        if j[0] == FrameOfReception:\n",
    "                            Player2 = [FrameOfReception,j[1],j[2],0]\n",
    "                Transitions = AddTransition1(Player1,Player2,Transitions)\n",
    "            else:\n",
    "                #For our purposes, the transition never happened\n",
    "                i += 1\n",
    "                if i == len(PlayerPoslist):\n",
    "                    break\n",
    "        elif PlayerPoslist[i][2] != 0: #if pass immediately goes to another player, without flight time for the ball\n",
    "            #Indicates the pass succeeded, saves player that received the pass and adds the transition with a success flag of 1\n",
    "            Player1 = [PlayerPoslist[i-1][0]] + Player #saves frame of pass\n",
    "            Player2 = [PlayerPoslist[i][0],PlayerPoslist[i][1],PlayerPoslist[i][2],1]\n",
    "            Transitions = AddTransition1(Player1,Player2,Transitions)\n",
    "        else:\n",
    "            Player1 = [PlayerPoslist[i-1][0]] + Player #saves frame of pass\n",
    "            while not isinstance(PlayerPoslist[i],str) and PlayerPoslist[i][2] == 0: #skips over flight time of the ball\n",
    "                i += 1\n",
    "                if i == len(PlayerPoslist):\n",
    "                    break\n",
    "            if isinstance(PlayerPoslist[i],str):\n",
    "                if PlayerPoslist[i] == 'Turnover':\n",
    "                    #Indicates the pass failed, saves player that received the pass and adds the transition with a success flag of 0\n",
    "                    i += 1\n",
    "                    if i == len(PlayerPoslist):\n",
    "                        break\n",
    "                    #Handling special case where turnover happens into a single touch possession that was deleted\n",
    "                    FrameOfReception = PlayerPoslist[i-2][0] + 1\n",
    "                    for j in SpecialPlayerPoslist:\n",
    "                        if not isinstance(j,str):\n",
    "                            if j[0] == FrameOfReception:\n",
    "                                Player2 = [FrameOfReception,j[1],j[2],0]\n",
    "                    Transitions = AddTransition1(Player1,Player2,Transitions)\n",
    "                else:\n",
    "                    #For our purposes, the transition never happened\n",
    "                    i += 1\n",
    "                    if i == len(PlayerPoslist):\n",
    "                        break\n",
    "            else:\n",
    "                #Indicates the pass succeeded, saves player that received the pass and adds the transition with a success flag of 1\n",
    "                Player2 = [PlayerPoslist[i][0],PlayerPoslist[i][1],PlayerPoslist[i][2],1]\n",
    "                Transitions = AddTransition1(Player1,Player2,Transitions)\n",
    "    return Transitions"
   ]
  },
  {
   "cell_type": "code",
   "execution_count": 38,
   "id": "2d8218e7-ca83-4577-b65f-96066fddee53",
   "metadata": {},
   "outputs": [],
   "source": [
    "#TransList = PCM_transitions1()"
   ]
  },
  {
   "cell_type": "code",
   "execution_count": 39,
   "id": "f64733ed-1237-4788-a6c9-0df1d51b2b96",
   "metadata": {},
   "outputs": [],
   "source": [
    "#TransList = pd.DataFrame(TransList)"
   ]
  },
  {
   "cell_type": "code",
   "execution_count": 40,
   "id": "5c8c3a4a-30aa-495a-be48-8d78a4360861",
   "metadata": {},
   "outputs": [],
   "source": [
    "#TransList.to_csv('NewPCMTransJUN3.csv',header = False, index = False)"
   ]
  },
  {
   "cell_type": "markdown",
   "id": "c96dfb11",
   "metadata": {},
   "source": [
    "Creating a dataset with all transitions by running each game individually"
   ]
  },
  {
   "cell_type": "code",
   "execution_count": 41,
   "id": "b3075cc5-0085-4f17-97ca-633fc98e428f",
   "metadata": {},
   "outputs": [],
   "source": [
    "#df1 = pd.read_csv('NewPCMTransINI1.csv',header=None)\n",
    "#df2 = pd.read_csv('NewPCMTransINI2.csv',header=None)\n",
    "#df3 = pd.read_csv('NewPCMTransINI3.csv',header=None)\n",
    "##df4 = pd.read_csv('NewPCMTransJUV2.csv',header=None)\n",
    "#df5 = pd.read_csv('NewPCMTransJUV3.csv',header=None)\n",
    "#df6 = pd.read_csv('NewPCMTransJUN2.csv',header=None)\n",
    "#df7 = pd.read_csv('NewPCMTransJUN3.csv',header=None)\n",
    "#concatenated_df = pd.concat([df1, df2,df3,df4,df5,df6,df7])\n",
    "#concatenated_df = pd.concat([df1, df2,df3,df5,df6,df7])\n",
    "#concatenated_df.columns  = ['Frame','TargetPosition','AttPlayers','DefPlayers','BallPosition','SuccessFlag']\n",
    "#concatenated_df.to_csv('NewPCMTrans2.csv',header = True, index = False)"
   ]
  },
  {
   "cell_type": "code",
   "execution_count": 42,
   "id": "5512c395-a641-4890-84bf-957511dae31c",
   "metadata": {},
   "outputs": [],
   "source": [
    "FullTransList = pd.read_csv('NewPCMTrans.csv',index_col = False)"
   ]
  },
  {
   "cell_type": "code",
   "execution_count": 43,
   "id": "b23d27fb-3dfb-41cb-9e31-7da12c03adcd",
   "metadata": {},
   "outputs": [],
   "source": [
    "#Train-test split\n",
    "from sklearn.model_selection import train_test_split \n",
    "xtrain, xtest = train_test_split( \n",
    "    FullTransList, test_size=0.2, random_state=2023)"
   ]
  },
  {
   "cell_type": "code",
   "execution_count": 44,
   "id": "ebc82a46-fd81-4e81-a36b-477c25c5d520",
   "metadata": {},
   "outputs": [],
   "source": [
    "#Fixing lists being turned to strings\n",
    "xtrain.TargetPosition = FullTransList.TargetPosition.apply(literal_eval)\n",
    "xtrain.AttPlayers = FullTransList.AttPlayers.apply(literal_eval)\n",
    "xtrain.DefPlayers = FullTransList.DefPlayers.apply(literal_eval)\n",
    "xtrain.BallPosition = FullTransList.BallPosition.apply(literal_eval)\n",
    "xtest.TargetPosition = FullTransList.TargetPosition.apply(literal_eval)\n",
    "xtest.AttPlayers = FullTransList.AttPlayers.apply(literal_eval)\n",
    "xtest.DefPlayers = FullTransList.DefPlayers.apply(literal_eval)\n",
    "xtest.BallPosition = FullTransList.BallPosition.apply(literal_eval)"
   ]
  },
  {
   "cell_type": "code",
   "execution_count": 45,
   "id": "9c9c02be-5b06-43c6-9200-e7d784f2e5e5",
   "metadata": {},
   "outputs": [],
   "source": [
    "xtrain = xtrain.values.tolist()\n",
    "xtest = xtest.values.tolist()"
   ]
  },
  {
   "cell_type": "code",
   "execution_count": 46,
   "id": "02886a1a-06e9-4f00-a3bc-fc3d1386478b",
   "metadata": {},
   "outputs": [],
   "source": [
    "def NLL(params,data,model): #Used as target function to minimize\n",
    "    nll = 0\n",
    "    for i in data:\n",
    "        if i[-1] == 0:\n",
    "            #If pass fails, check the PCM score for the defending team\n",
    "            prob = pcm_at_target_train(i[1],i[2],i[3],i[4],model,params)[1]\n",
    "            if prob == 0:\n",
    "                prob = 0.0001 #Prevents an undefined error by assigning very low probability instead of 0\n",
    "            nll -= np.log(prob)\n",
    "        else:\n",
    "            #If pass succeeds, check the PCM score for the attacking team\n",
    "            prob = pcm_at_target_train(i[1],i[2],i[3],i[4],model,params)[0]\n",
    "            if prob == 0:\n",
    "                prob = 0.0001\n",
    "            nll -= np.log(prob)\n",
    "    return nll"
   ]
  },
  {
   "cell_type": "code",
   "execution_count": 47,
   "id": "978e73bd-6a22-4424-89df-bd2497daa7cb",
   "metadata": {},
   "outputs": [],
   "source": [
    "def numerical_gradient(params, data, model, epsilon=1e-4):\n",
    "    #Creates list of gradients to apply gradient descent\n",
    "    gradients = np.zeros(len(params)) \n",
    "    for i in range(len(params)):\n",
    "        params_plus = params.copy()\n",
    "        params_plus[i] += epsilon\n",
    "\n",
    "        params_minus = params.copy()\n",
    "        params_minus[i] -= epsilon\n",
    "\n",
    "        loss_plus = NLL(params_plus, data, model)\n",
    "        loss_minus = NLL(params_minus, data, model)\n",
    "\n",
    "        gradients[i] = (loss_plus - loss_minus) / (2 * epsilon)\n",
    "    return gradients"
   ]
  },
  {
   "cell_type": "code",
   "execution_count": 48,
   "id": "c8a7568a-3523-465e-927b-4c37e29f26a2",
   "metadata": {},
   "outputs": [],
   "source": [
    "def ChangeParams(params, learning_rate, gradients):\n",
    "    #Changes prameters according to obtained gradients, while keeping them within certain limits\n",
    "    for i in range(len(params)):\n",
    "        params[i] -= learning_rate * gradients[i]\n",
    "        if params[i] < 0.1:\n",
    "            params[i] = 0.1\n",
    "    if params[0] > 1:\n",
    "        params[0] = 1\n",
    "    if params[1] > 8:\n",
    "        params[1] = 8\n",
    "    if params[2] > 2:\n",
    "        params[2] = 2\n",
    "    if params[2] < 1:\n",
    "        params[2] = 1\n",
    "    return params"
   ]
  },
  {
   "cell_type": "code",
   "execution_count": 49,
   "id": "3353db6b-713b-4180-902e-30da4c73f966",
   "metadata": {},
   "outputs": [],
   "source": [
    "def gradient_descent(data, model, initial_params, learning_rate=0.0001, num_iterations=15000, epsilon=1e-4):\n",
    "    #Applies gradient descent\n",
    "    params = initial_params\n",
    "    for i in range(num_iterations):\n",
    "        gradients = numerical_gradient(params, data, model, epsilon)\n",
    "        oldparams = params.copy()\n",
    "        params = ChangeParams(params, learning_rate, gradients)\n",
    "        print(params)\n",
    "        # Convergence check based on how much the parameters change between iterations\n",
    "        if np.linalg.norm(np.array(oldparams)-np.array(params)) < epsilon:\n",
    "            print(f\"Converged after {i+1} iterations.\")\n",
    "            break\n",
    "\n",
    "    return params"
   ]
  },
  {
   "cell_type": "markdown",
   "id": "5ab4c42f-5893-4276-9f84-7b50007f421a",
   "metadata": {},
   "source": [
    "Our model - [0.46191719221773386, 4.924687289365513, 1.0480191527351803] - 5637 iterations \n",
    "\n",
    "Shaw - [0.3527658362223292, 5.035284677307049, 1.0394405796319006] - 12588 iterations"
   ]
  },
  {
   "cell_type": "code",
   "execution_count": 50,
   "id": "e2b01e90-8c88-4410-80cd-b3f6de021a47",
   "metadata": {
    "scrolled": true
   },
   "outputs": [],
   "source": [
    "#Run gradient descent (The initial values are based on the 2 different Spearman papers)\n",
    "#gradient_descent(xtrain, 2, [0.54, 3.99, 1.72])"
   ]
  },
  {
   "cell_type": "markdown",
   "id": "95847023-1c55-4725-83f7-a22372f31e91",
   "metadata": {},
   "source": [
    "## Model Validation"
   ]
  },
  {
   "cell_type": "code",
   "execution_count": 51,
   "id": "afb6e842-f1ef-4bbd-963a-8aa21ae7e15e",
   "metadata": {},
   "outputs": [],
   "source": [
    "def GetYs(model,params): #obtain predictions and true outcomes\n",
    "    ytrue = []\n",
    "    ypred = []\n",
    "    for i in xtest:\n",
    "        ytrue += [i[-1]]\n",
    "        prob = pcm_at_target_train(i[1],i[2],i[3],i[4],model,params)[0]\n",
    "        ypred += [prob]\n",
    "    return ytrue, ypred"
   ]
  },
  {
   "cell_type": "code",
   "execution_count": 52,
   "id": "2c23b603-e389-4bf0-a491-996ded04ebe1",
   "metadata": {},
   "outputs": [],
   "source": [
    "def PrintModelEvaluation(model,params): #Performs model evaluation on several metrics\n",
    "    ytrue, ypred = GetYs(model,params)\n",
    "    ybin = []\n",
    "    for i in ypred: #0.5 is used as the cutoff point\n",
    "        if i > 0.5:\n",
    "            ybin += [1]\n",
    "        else:\n",
    "            ybin += [0]\n",
    "    print (\"Accuracy : \", accuracy_score(ytrue, ybin))\n",
    "    print(\"F1Score : \",f1_score(ytrue, ybin, average=\"weighted\"))\n",
    "    print(\"Precision : \", precision_score(ytrue, ybin))\n",
    "    print(\"Recall : \", recall_score(ytrue, ybin))\n",
    "    Matrix = confusion_matrix(ytrue, ybin)\n",
    "    tn = Matrix[0][0]\n",
    "    fp = Matrix[0][1]\n",
    "    fn = Matrix[1][0]\n",
    "    tp = Matrix[1][1]\n",
    "    print(\"Negative Predictive Value : \", tn/(tn+fn))\n",
    "    print(\"Specificity : \", tn/(tn+fp))\n",
    "    print(\"Confusion Matrix : \", Matrix)\n",
    "    print(\"AUC Score : \", roc_auc_score(ytrue, ypred))\n",
    "    precision, recall, _= precision_recall_curve(ytrue, ypred) \n",
    "    pr_auc = auc(recall, precision)\n",
    "    print(\"PR-AUC Score:\", pr_auc)\n",
    "    return None"
   ]
  },
  {
   "cell_type": "code",
   "execution_count": 53,
   "id": "9abbe65f-d790-4967-bc09-5136b8280f65",
   "metadata": {},
   "outputs": [
    {
     "name": "stdout",
     "output_type": "stream",
     "text": [
      "Accuracy :  0.8244837758112095\n",
      "F1Score :  0.8188003297115432\n",
      "Precision :  0.8389662027833003\n",
      "Recall :  0.9173913043478261\n",
      "Negative Predictive Value :  0.7828571428571428\n",
      "Specificity :  0.6284403669724771\n",
      "Confusion Matrix :  [[137  81]\n",
      " [ 38 422]]\n",
      "AUC Score :  0.8682189868368567\n",
      "PR-AUC Score: 0.9267826826272921\n"
     ]
    }
   ],
   "source": [
    "#Trained Shaw evaluation\n",
    "PrintModelEvaluation(3, [0.353, 5.035, 1.039])"
   ]
  },
  {
   "cell_type": "code",
   "execution_count": 54,
   "id": "6b2d885e-0278-466a-94d4-fddd97522d09",
   "metadata": {},
   "outputs": [
    {
     "name": "stdout",
     "output_type": "stream",
     "text": [
      "Accuracy :  0.8126843657817109\n",
      "F1Score :  0.8069587284476184\n",
      "Precision :  0.8323353293413174\n",
      "Recall :  0.9065217391304348\n",
      "Negative Predictive Value :  0.7570621468926554\n",
      "Specificity :  0.6146788990825688\n",
      "Confusion Matrix :  [[134  84]\n",
      " [ 43 417]]\n",
      "AUC Score :  0.8634124451535701\n",
      "PR-AUC Score: 0.9246987833950571\n"
     ]
    }
   ],
   "source": [
    "#Untrained Shaw evaluation\n",
    "PrintModelEvaluation(3,[0.45, 4.3, 1])"
   ]
  },
  {
   "cell_type": "code",
   "execution_count": 55,
   "id": "39faee56-d465-430a-a2f5-29e3185ed60c",
   "metadata": {},
   "outputs": [
    {
     "name": "stdout",
     "output_type": "stream",
     "text": [
      "Accuracy :  0.8303834808259587\n",
      "F1Score :  0.8255011190205824\n",
      "Precision :  0.845691382765531\n",
      "Recall :  0.9173913043478261\n",
      "Negative Predictive Value :  0.7877094972067039\n",
      "Specificity :  0.6467889908256881\n",
      "Confusion Matrix :  [[141  77]\n",
      " [ 38 422]]\n",
      "AUC Score :  0.8727562824092541\n",
      "PR-AUC Score: 0.9263184763838723\n"
     ]
    }
   ],
   "source": [
    "#Our trained model evaluation\n",
    "PrintModelEvaluation(2,[0.462, 4.925, 1.048])"
   ]
  },
  {
   "cell_type": "code",
   "execution_count": 56,
   "id": "4af5f1c5-c8bf-4d28-9377-cf0d279b9d7f",
   "metadata": {},
   "outputs": [
    {
     "name": "stdout",
     "output_type": "stream",
     "text": [
      "Accuracy :  0.803834808259587\n",
      "F1Score :  0.8064140837360028\n",
      "Precision :  0.8758620689655172\n",
      "Recall :  0.8282608695652174\n",
      "Negative Predictive Value :  0.6748971193415638\n",
      "Specificity :  0.7522935779816514\n",
      "Confusion Matrix :  [[164  54]\n",
      " [ 79 381]]\n",
      "AUC Score :  0.8722875947347427\n",
      "PR-AUC Score: 0.9262760635506221\n"
     ]
    }
   ],
   "source": [
    "#Our untrained model evaluation\n",
    "PrintModelEvaluation(2,[0.54, 3.99, 1.72])"
   ]
  },
  {
   "cell_type": "markdown",
   "id": "05b51829-76c2-4b30-9b67-4e4115323eb5",
   "metadata": {},
   "source": [
    "# Pressure Model"
   ]
  },
  {
   "cell_type": "markdown",
   "id": "886dc1a9-7736-4994-8c6d-15703d321c55",
   "metadata": {},
   "source": [
    "Generation of the transitions dataset to train the pressure model (Actual implementation of the classifier is done in another notebook)"
   ]
  },
  {
   "cell_type": "code",
   "execution_count": 57,
   "id": "580b991a-7b67-4cc7-acb2-b584e82d2264",
   "metadata": {},
   "outputs": [],
   "source": [
    "def initFrame(n,Team): #initializes the data for clustering, as well as the affinity matrix for the RBF kernel model\n",
    "    Sigma = 5 #sigma value for the rbf kernel affinity matrix spectral clustering\n",
    "    DefData = []\n",
    "    AttData = []\n",
    "    PlayerInPos = FrameToPlayer(IndexToFrame(n))\n",
    "    BallPosition = [dfball.iloc[n,1],dfball.iloc[n,2]]\n",
    "    VVector = [] #Vector of defensive player velocities\n",
    "    if Team==1: #Creates the data, consisting of x and y positions, velocity towards the ball and distance to it, for each defensive player\n",
    "        for i in range(2,12): #exclude goalkeeper\n",
    "            x = dfaway.iloc[n,2*i]\n",
    "            y = dfaway.iloc[n,2*i+1]\n",
    "            vx = velocity_dfaway.iloc[n,2*i-1]\n",
    "            vy = velocity_dfaway.iloc[n,2*i]\n",
    "            VVector += [[vx,vy]]\n",
    "            DVector = [BallPosition[0]-x,BallPosition[1]-y]\n",
    "            DVectorNorm = np.sqrt(DVector[0]**2 + DVector[1]**2)\n",
    "            ProjVel = (VVector[-1][0]*DVector[0] + VVector[-1][1]*DVector[1]) / DVectorNorm\n",
    "            DefData += [[x,y,ProjVel,DVectorNorm]]\n",
    "        for i in range(1,12): #Create data for the attacking team, relevant for the FreePlayers variable\n",
    "            x = dfhome.iloc[n,2*i]\n",
    "            y = dfhome.iloc[n,2*i+1]\n",
    "            vx = velocity_dfhome.iloc[n,2*i-1]\n",
    "            vy = velocity_dfhome.iloc[n,2*i]\n",
    "            AttData += [[x,y,vx,vy]]\n",
    "    else:\n",
    "        for i in range(2,12):\n",
    "            x = dfhome.iloc[n,2*i]\n",
    "            y = dfhome.iloc[n,2*i+1]\n",
    "            vx = velocity_dfhome.iloc[n,2*i-1]\n",
    "            vy = velocity_dfhome.iloc[n,2*i]\n",
    "            VVector += [[vx,vy]]\n",
    "            DVector = [BallPosition[0]-x,BallPosition[1]-y]\n",
    "            DVectorNorm = np.sqrt(DVector[0]**2 + DVector[1]**2)\n",
    "            ProjVel = (VVector[-1][0]*DVector[0] + VVector[-1][1]*DVector[1]) / DVectorNorm\n",
    "            DefData += [[x,y,ProjVel,DVectorNorm]]\n",
    "        for i in range(1,12):\n",
    "            x = dfaway.iloc[n,2*i]\n",
    "            y = dfaway.iloc[n,2*i+1]\n",
    "            vx = velocity_dfaway.iloc[n,2*i-1]\n",
    "            vy = velocity_dfaway.iloc[n,2*i]\n",
    "            AttData += [[x,y,vx,vy]]\n",
    "    #Creates Affinity Matrix with RBF kernel\n",
    "    AffMatrix = np.zeros([10,10])\n",
    "    DefData = np.array(DefData)\n",
    "    scaler = StandardScaler() #Standardizes the data\n",
    "    DefData_standardized = scaler.fit_transform(DefData)\n",
    "    Weights = [3,3,1,2] #We give more importance to how close the players are to each other and the ball\n",
    "    i = 0\n",
    "    while i < len(DefData_standardized): #Applies the weights\n",
    "        j = 0\n",
    "        while j < 4:\n",
    "            DefData_standardized[i][j] *= Weights[j]\n",
    "            j += 1\n",
    "        i += 1\n",
    "    i = 1\n",
    "    while i < 10: #Creation of a custom affinity matrix to implement rbf kernel\n",
    "        for j in range(i):\n",
    "            dist = np.linalg.norm(DefData_standardized[i] - DefData_standardized[j])\n",
    "            AffMatrix[i][j] = dist\n",
    "            AffMatrix[j][i] = dist\n",
    "        i += 1\n",
    "    AffMatrix = np.exp(- AffMatrix ** 2 / (2. * Sigma ** 2))\n",
    "    #Pass down the necessary variables, DefData is still necessary to pass the unstandardized distances\n",
    "    return BallPosition, AffMatrix, DefData, AttData, PlayerInPos, VVector, DefData_standardized"
   ]
  },
  {
   "cell_type": "code",
   "execution_count": 58,
   "id": "4de5ffca-0c4c-44c1-a3a3-5c547b07a713",
   "metadata": {},
   "outputs": [],
   "source": [
    "def ClusterFrame(n,Team,model = 0): #Defines the clusters for a given frame and team in possession.\n",
    "    #Model = 0 - RBF kernel affinity matrix spectral clustering\n",
    "    #Model = 1 - KNN affinity matrix spectral clustering\n",
    "    #Model = 2 - Hierarchical (agglomerative) clustering\n",
    "    #Model = 3 - K-medoids clustering\n",
    "    BallPosition, AffMatrix, DefData, AttData, PlayerInPos, VVector, DefData_standardized = initFrame(n,Team)\n",
    "    if model == 0: #RBF kernel spectral clustering\n",
    "        clustering = SpectralClustering(n_clusters=3, affinity='precomputed', n_init = 20, assign_labels='kmeans', random_state=0).fit(AffMatrix)\n",
    "        labels = clustering.labels_ #Saves the label for each player\n",
    "    elif model == 1: #KNN spectral clustering\n",
    "        clustering = SpectralClustering(n_clusters=3, n_neighbors = 5, affinity='nearest_neighbors', n_init = 20, assign_labels='kmeans', random_state=0).fit(DefData_standardized)\n",
    "        labels = clustering.labels_\n",
    "    elif model == 2: #Agglomerative clustering\n",
    "        agglomerative = AgglomerativeClustering(n_clusters=3)\n",
    "        labels = agglomerative.fit_predict(DefData_standardized)\n",
    "    else: # K-medoids\n",
    "        data = [tuple(point) for point in DefData_standardized]\n",
    "        kmedoids_instance = kmedoids(data, initial_index_medoids=np.random.choice(len(data), 3, replace=False))\n",
    "        kmedoids_instance.process()\n",
    "        labels = kmedoids_instance.get_clusters()\n",
    "    distances = [i[-1] for i in DefData] #Saves list of distances to the ball to figure out closest player\n",
    "    min_index = np.argmin(distances) #Closest player\n",
    "    Min = distances[min_index] #Get distance of closest player to the ball\n",
    "    MinPos = [DefData[min_index][0], DefData[min_index][1]]\n",
    "    #MinVel = [DefData[min_index][2], DefData[min_index][3]]\n",
    "    #VectorToBall = [BallPosition[0]-MinPos[0],BallPosition[1]-MinPos[1]]\n",
    "    #MinProjectedVelocity = (VectorToBall[0]*MinVel[0] + VectorToBall[1]*MinVel[1]) / Min\n",
    "    MinProjectedVelocity = DefData[min_index][2]\n",
    "    if model < 3: #The labels for k-medoids work differently and are handled separately\n",
    "        TempClusters = [[],[],[]]\n",
    "        for i in range(len(labels)): #Organizing the 3 clusters to calculate centroid centers\n",
    "            if labels[i] == 0:\n",
    "                TempClusters[0] += [i+2]\n",
    "            if labels[i] == 1:\n",
    "                TempClusters[1] += [i+2]\n",
    "            if labels[i] == 2:\n",
    "                TempClusters[2] += [i+2]\n",
    "    else: #Handling labels for k-medoids\n",
    "        TempClusters = []\n",
    "        for i in labels:\n",
    "            i = [x+2 for x in i]\n",
    "            TempClusters += [i]\n",
    "    CentroidDistances = []\n",
    "    for j in TempClusters: #Storing the centroid distances to the ball\n",
    "        x = 0\n",
    "        y = 0\n",
    "        for i in j:\n",
    "            x = x + DefData[i-2][0]\n",
    "            y = y + DefData[i-2][1]\n",
    "        size = len(j)\n",
    "        x = x/size\n",
    "        y = y/size\n",
    "        CentroidDistances += [np.sqrt((x-BallPosition[0])**2 + (y-BallPosition[1])**2)]\n",
    "    InterventionClusterIndex = CentroidDistances.index(sorted(CentroidDistances)[0]) #Sorting the clusters in increasing order of proximity\n",
    "    MutualHelpClusterIndex = CentroidDistances.index(sorted(CentroidDistances)[1])\n",
    "    CooperationClusterIndex = CentroidDistances.index(sorted(CentroidDistances)[2])\n",
    "    Clusters = [TempClusters[InterventionClusterIndex],TempClusters[MutualHelpClusterIndex],TempClusters[CooperationClusterIndex]]\n",
    "    #Pass down all necessary information for GetPressureInfo\n",
    "    return Clusters, sorted(CentroidDistances), Min, DefData, AttData, BallPosition, PlayerInPos, MinProjectedVelocity, VVector"
   ]
  },
  {
   "cell_type": "code",
   "execution_count": 59,
   "id": "14f4aedf-33ae-45bd-b925-95abe570271f",
   "metadata": {},
   "outputs": [],
   "source": [
    "#From the ball position and full info on position and velocities of the defensive team, check whether a player is free\n",
    "def IsFree(BallPosition, TargetPosition, DefData,VVector): \n",
    "    x1, y1 = BallPosition[0], BallPosition[1] #position where the pass is taking place\n",
    "    x2, y2 = TargetPosition[0], TargetPosition[1] #Hypothetical pass target\n",
    "    Distance = np.sqrt((x2-x1)**2 + (y2-y1)**2)\n",
    "    k = 0 #Index of the velocity vector\n",
    "    for i in DefData: #Iterate over all defensive players\n",
    "        x3, y3 = i[0], i[1]\n",
    "        DistanceToIntercept = ((x2-x1)*(x3-x1)+(y2-y1)*(y3-y1))/Distance #Find distance to point P via projection\n",
    "        if DistanceToIntercept >= Distance or DistanceToIntercept < 0: #If point P is not between the 2 players, use pass receiver as point P\n",
    "            TimeToInt = TimeToIntercept([x3,y3],VVector[k],TargetPosition,MaxAcceleration,MaxVelocity,0,0) #Uses our time to intercept from the PCM\n",
    "            BallTravelTime = Distance/15\n",
    "            if BallTravelTime >= TimeToInt: #If any defender can reach point P before the ball, target player is not free\n",
    "                return 0\n",
    "        else:\n",
    "            x4 = x1 + (DistanceToIntercept/Distance) * (x2-x1) #Get coordinates of point P\n",
    "            y4 = y1 + (DistanceToIntercept/Distance) * (y2-y1)\n",
    "            TimeToInt = TimeToIntercept([x3,y3],VVector[k],[x4,y4],MaxAcceleration,MaxVelocity,0,0)\n",
    "            BallTravelTime = DistanceToIntercept/15\n",
    "            if BallTravelTime >= TimeToInt:\n",
    "                return 0\n",
    "        k += 1\n",
    "    return 1 #Player is free"
   ]
  },
  {
   "cell_type": "code",
   "execution_count": 60,
   "id": "bfd49f60-87ba-4688-bb27-ff8ac7a7f686",
   "metadata": {},
   "outputs": [],
   "source": [
    "def GetDistanceAngle(BallPosition,Team): #Outputs distance and angle to opponents goal\n",
    "    BallX = BallPosition[0]\n",
    "    BallY = BallPosition[1]\n",
    "    GoalY = 0\n",
    "    if Team == 2:\n",
    "        GoalX = -field_dim[0]/2\n",
    "    else:\n",
    "        GoalX = field_dim[0]/2\n",
    "    GoalDistance = np.sqrt((BallX-GoalX)**2 + (BallY-GoalY)**2)\n",
    "    d1 = np.sqrt((BallX-GoalX)**2 + (BallY-3.66)**2) #Distances to each post\n",
    "    d2 = np.sqrt((BallX-GoalX)**2 + (BallY+3.66)**2)\n",
    "    GoalAngle = np.arccos((d1**2 + d2**2 - 7.32**2)/(2*d1*d2))\n",
    "    return GoalDistance, GoalAngle"
   ]
  },
  {
   "cell_type": "code",
   "execution_count": 61,
   "id": "97afa68c-2266-4e3e-b7df-54fae1850f1c",
   "metadata": {},
   "outputs": [],
   "source": [
    "def GetPressureInfo(n,Team,model = 0): #Outputs the pressure variables for our pressure model, given an index and team in possession\n",
    "    Clusters, CentroidDistances, MinDistance, DefData, AttData, BallPosition, PlayerInPos, MinProjectedVelocity, VVector = ClusterFrame(n,Team,model)\n",
    "    size1 = len(Clusters[0])\n",
    "    size2 = len(Clusters[1])\n",
    "    size3 = len(Clusters[2])\n",
    "    CentroidDistance1 = CentroidDistances[0]\n",
    "    CentroidDistance2 = CentroidDistances[1]\n",
    "    CentroidDistance3 = CentroidDistances[2]\n",
    "    Diameters = []\n",
    "    for c in Clusters:\n",
    "        Diameter = 0\n",
    "        for i in range(len(c)):\n",
    "            for j in range(i+1,len(c)):\n",
    "                SquaredDistance = (DefData[c[i]-2][0]-DefData[c[j]-2][0])**2 + (DefData[c[i]-2][1]-DefData[c[j]-2][1])**2\n",
    "                Diameter = max(Diameter,SquaredDistance)\n",
    "        Diameters += [np.sqrt(Diameter)]\n",
    "    Diameter1 = Diameters[0]\n",
    "    Diameter2 = Diameters[1]\n",
    "    Diameter3 = Diameters[2]\n",
    "    FreePlayers = 0\n",
    "    for j in range(len(AttData)):\n",
    "        if j != PlayerInPos[1]-1: #Check if not the player in possession\n",
    "            FreePlayers += IsFree(BallPosition, [AttData[j][0],AttData[j][1]], DefData, VVector)\n",
    "    DistanceGoal, GoalAngle = GetDistanceAngle(BallPosition,Team)\n",
    "    return MinDistance, CentroidDistance1, CentroidDistance2, CentroidDistance3, size1, size2, size3, Diameter1, Diameter2, Diameter3, FreePlayers,DistanceGoal,GoalAngle, MinProjectedVelocity"
   ]
  },
  {
   "cell_type": "code",
   "execution_count": 62,
   "id": "b0241e73-11be-4ae0-abe7-2a1e5656674d",
   "metadata": {},
   "outputs": [],
   "source": [
    "#Defines the list of all the transitions. In addition to the PCM ones, this will consider those ending in balls out the sidelne\n",
    "def PressureTransition(Frame,FinalFrame,SuccessFlag,Team,Transitions,model): #adds transitions\n",
    "    if SuccessFlag: #Check controlled touch\n",
    "        for j in range(FinalFrame,FinalFrame + 21): #Check if team stays in possession for 2 full seconds (We consider it a controlled touch)\n",
    "            if FrameToTeam(j) != Team:\n",
    "                SuccessFlag = 0\n",
    "                break\n",
    "    n = FrameToIndex(Frame)\n",
    "    MinDistance, CentroidDistance1, CentroidDistance2, CentroidDistance3, size1, size2, size3, Diameter1, Diameter2, Diameter3, FreePlayers,DistanceGoal,GoalAngle, MinProjectedVelocity = GetPressureInfo(n,Team,model)\n",
    "    Transitions += [[Frame,MinDistance, CentroidDistance1, CentroidDistance2, CentroidDistance3, size1, size2, size3, Diameter1, Diameter2, Diameter3, FreePlayers,DistanceGoal,GoalAngle, MinProjectedVelocity,SuccessFlag]]\n",
    "    return Transitions\n",
    "def Pressure_transitions(model):\n",
    "    i = 0\n",
    "    Transitions = []\n",
    "    while i < len(PlayerPoslist):\n",
    "        Player = [PlayerPoslist[i][1],PlayerPoslist[i][2]] #Saves player information to identify when the ball leaves\n",
    "        while not isinstance(PlayerPoslist[i],str) and PlayerPoslist[i][2] == Player[1] and PlayerPoslist[i][1] == Player[0]:\n",
    "            i += 1\n",
    "        if isinstance(PlayerPoslist[i],str):\n",
    "            if PlayerPoslist[i] == 'Turnover' or PlayerPoslist[i] == 'OutThrow': #Attempts to ignore shots\n",
    "                Frame = PlayerPoslist[i-1][0]\n",
    "                FinalFrame = 0 #Doesn't matter\n",
    "                i += 1\n",
    "                SuccessFlag = 0\n",
    "                Transitions = PressureTransition(Frame,FinalFrame,SuccessFlag,Player[0],Transitions,model)\n",
    "            else:\n",
    "                i += 1\n",
    "        elif PlayerPoslist[i][2] != 0: #This implies the possession has moved to a player of the same team, succesfull transition\n",
    "            Frame = PlayerPoslist[i-1][0]\n",
    "            FinalFrame = PlayerPoslist[i][0]\n",
    "            SuccessFlag = 1\n",
    "            Transitions = PressureTransition(Frame,FinalFrame,SuccessFlag,Player[0],Transitions,model)\n",
    "        else:\n",
    "            Frame = PlayerPoslist[i-1][0]\n",
    "            while not isinstance(PlayerPoslist[i],str) and PlayerPoslist[i][2] == 0:\n",
    "                i += 1\n",
    "            if isinstance(PlayerPoslist[i],str):\n",
    "                if PlayerPoslist[i] == 'Turnover' or PlayerPoslist[i] == 'OutThrow': #Attempts to ignore shots\n",
    "                    i += 1\n",
    "                    SuccessFlag = 0\n",
    "                    FinalFrame = 0 #Doesn't matter\n",
    "                    Transitions = PressureTransition(Frame,FinalFrame,SuccessFlag,Player[0],Transitions,model)\n",
    "                else:\n",
    "                    i += 1\n",
    "            else:\n",
    "                SuccessFlag = 1\n",
    "                FinalFrame = PlayerPoslist[i][0]\n",
    "                Transitions = PressureTransition(Frame,FinalFrame,SuccessFlag,Player[0],Transitions,model)\n",
    "    return Transitions"
   ]
  },
  {
   "cell_type": "markdown",
   "id": "154d9668-7f9a-4bd2-9b01-a0cb4b429cc7",
   "metadata": {},
   "source": [
    "#### Saving all transitions in datasets to use in the pressure model"
   ]
  },
  {
   "cell_type": "code",
   "execution_count": 63,
   "id": "cd1fe6ee-317c-4d8d-be13-0b708b513ce6",
   "metadata": {},
   "outputs": [],
   "source": [
    "#Transitions = Pressure_transitions(3)"
   ]
  },
  {
   "cell_type": "code",
   "execution_count": 64,
   "id": "8c5443a1-c250-4a4c-9fa4-4968dd36afb6",
   "metadata": {},
   "outputs": [],
   "source": [
    "#dfTransitions = pd.DataFrame(Transitions, columns=['Frame','MinDistance', 'CentroidDistance1', 'CentroidDistance2', 'CentroidDistance3', 'ClusterSize1', 'ClusterSize2', 'ClusterSize3', 'Diameter1', 'Diameter2', 'Diameter3','FreePlayers','DistanceGoal','GoalAngle','MinProjectedVelocity','SuccessFlag'])"
   ]
  },
  {
   "cell_type": "code",
   "execution_count": 65,
   "id": "4f36ebc2-05d7-4587-b275-7902d12a6168",
   "metadata": {},
   "outputs": [],
   "source": [
    "#dfTransitions.to_csv('dfTransitions7.csv',index = False)"
   ]
  },
  {
   "cell_type": "code",
   "execution_count": 66,
   "id": "4aa4f9ca-b9ca-42bb-b6e4-d9c1c01107e9",
   "metadata": {},
   "outputs": [],
   "source": [
    "#df1 = pd.read_csv('dfTransitions1.csv')\n",
    "#df2 = pd.read_csv('dfTransitions2.csv')\n",
    "#df3 = pd.read_csv('dfTransitions3.csv')\n",
    "#df4 = pd.read_csv('dfTransitions4.csv')\n",
    "#df5 = pd.read_csv('dfTransitions5.csv')\n",
    "#df6 = pd.read_csv('dfTransitions6.csv')\n",
    "#df7 = pd.read_csv('dfTransitions7.csv')\n",
    "#concatenated_df = pd.concat([df1, df2,df3,df4,df5,df6,df7])\n",
    "#concatenated_df.to_csv('FixedKmedoids.csv',header = True, index = False)"
   ]
  },
  {
   "cell_type": "markdown",
   "id": "fd1e3617-b8f9-4779-bf3e-a4d547873be4",
   "metadata": {},
   "source": [
    "## Visualizations"
   ]
  },
  {
   "cell_type": "markdown",
   "id": "053f2c78-eaa7-4d7b-bd0c-5cf0f14743ba",
   "metadata": {},
   "source": [
    "#### Creates visualizations and videos, with options to use velocities, the cluster algorithms or the PCM"
   ]
  },
  {
   "cell_type": "code",
   "execution_count": 67,
   "id": "5242cda1-6148-4f97-ac64-07a166c00e7b",
   "metadata": {},
   "outputs": [],
   "source": [
    "def genPCM(i):\n",
    "    return generate_PCM(i)[0]\n",
    "\n",
    "def generate_frame(i, hometeam, awayteam, ball, vhometeam, vawayteam, fig, ax, field_dimen, team_colors, include_player_velocities, PlayerMarkerSize, PlayerAlpha, annotate, PCM, cluster, index, a, writer, results):\n",
    "    figobjs = []  # Collect objects for deletion\n",
    "    Team = FrameToTeam(IndexToFrame(i))  # Determine team with the ball\n",
    "\n",
    "    if PCM:\n",
    "        if Team==1:\n",
    "            cmap = 'bwr'\n",
    "        else:\n",
    "            cmap = 'bwr_r'\n",
    "        PPCF = results[i-a]\n",
    "        objs = ax.imshow(np.flipud(PPCF), extent=(-field_dimen[0] / 2., field_dimen[0] / 2., -field_dimen[1] / 2., field_dimen[1] / 2.), interpolation='spline36', vmin=0.0, vmax=1.0, cmap=cmap, alpha=0.5)\n",
    "        figobjs.append(objs)\n",
    "\n",
    "    posteam = [0, 0]\n",
    "    posteam[Team - 1] = 1\n",
    "    b = ball.loc[i]\n",
    "\n",
    "    for team, color, vel, posflag in zip([hometeam.loc[i], awayteam.loc[i]], team_colors, [vhometeam.loc[i], vawayteam.loc[i]], posteam):\n",
    "        x_columns = [c for c in team.keys() if not c % 2 and c != 0]\n",
    "        y_columns = [c for c in team.keys() if c % 2 and c != 1]\n",
    "        if cluster and not posflag:\n",
    "            #Add a number in the bottom line to choose the clustering algorithm\n",
    "            Clusters = ClusterFrame(i,Team)[0]\n",
    "            colors = ['#2cf525','#fff700','#ffab00']\n",
    "            polycolors = ['#3C9E1A','#E3E315','#CE7C14']\n",
    "            for j in range(3):\n",
    "                cl = Clusters[j] \n",
    "                cx_columns = [2*c for c in cl] # column header for player x positions\n",
    "                cy_columns = [2*c + 1 for c in cl] # column header for player y positions\n",
    "                points = []\n",
    "                for k in range(len(cl)):\n",
    "                    points += [[team[cx_columns[k]],team[cy_columns[k]]]]\n",
    "                points = np.array(points)\n",
    "                if len(points) >= 3:\n",
    "                    # Create a filled Polygon object from the hull vertices\n",
    "                    hull = ConvexHull(points)\n",
    "                    polygon = Polygon(hull.points[hull.vertices], closed=True, facecolor= polycolors[j], edgecolor= colors[j])\n",
    "                    objs = ax.add_patch(polygon)\n",
    "                    figobjs.append(objs)\n",
    "                else:\n",
    "                    # If there are only 2 points, draw a line between them\n",
    "                    objs, = ax.plot(points[:, 0], points[:, 1],color = colors[j])\n",
    "                    figobjs.append(objs)\n",
    "        objs, = ax.plot( team[x_columns], team[y_columns], color+'o', markersize=PlayerMarkerSize, alpha=PlayerAlpha ) # plot player positions\n",
    "        figobjs.append(objs)\n",
    "        if include_player_velocities:\n",
    "            vx_columns = [c for c in vel.keys() if c[-1:] == 'X']\n",
    "            vy_columns = [c for c in vel.keys() if c[-1:] == 'Y']\n",
    "\n",
    "            objs = ax.quiver(team[x_columns], team[y_columns], vel[vx_columns], vel[vy_columns], color=color, angles='xy', scale_units='inches', scale=10., width=0.0015, headlength=5, headwidth=3, alpha=PlayerAlpha)\n",
    "            figobjs.append(objs)\n",
    "\n",
    "        if annotate:\n",
    "            for j in range(1, 12):\n",
    "                objs = ax.text(team[x_columns[j - 1]] - 0.5, team[y_columns[j - 1]] - 0.5, str(j), fontsize=8, color='w')\n",
    "                figobjs.append(objs)\n",
    "\n",
    "    objs, = ax.plot(b[1], b[2], 'ko', markersize=6, alpha=1.0, linewidth=0)\n",
    "    figobjs.append(objs)\n",
    "\n",
    "    timestring = \"%d\" % (hometeam.loc[i][1])\n",
    "    objs = ax.text(-2.5, field_dimen[1] / 2. + 1., timestring, fontsize=14)\n",
    "    figobjs.append(objs)\n",
    "\n",
    "    if cluster:\n",
    "        ClusterString = \"Green - Intervention Cluster   Yellow - Mutual Help Cluster   Orange - Cooperation Cluster\"\n",
    "        objs = ax.text(-40, -field_dimen[1] / 2. - 2., ClusterString, fontsize=14)\n",
    "        figobjs.append(objs)\n",
    "\n",
    "    writer.grab_frame()\n",
    "\n",
    "    for obj in figobjs:\n",
    "        obj.remove()\n",
    "### If PCM is selected, multiprocessing is used to generate all PCMs in the beggining for significant speed up\n",
    "def make_video(hometeam, awayteam, ball, vhometeam, vawayteam, fpath, fname='clip_test', figax=None, frames_per_second=10, team_colors=('b', 'r'), field_dimen=(100.0, 60.0), include_player_velocities=False, PlayerMarkerSize=10, PlayerAlpha=0.7, annotate=False, PCM=False, cluster=False):\n",
    "    assert np.all(hometeam.index == awayteam.index), \"Home and away team Dataframe indices must be the same\"\n",
    "    index = hometeam.index\n",
    "    a = index[0]\n",
    "    metadata = dict(title='Tracking Data', artist='matplotlib', comment='Tracking data clip')\n",
    "\n",
    "    fname = os.path.join(fpath, fname + '.mp4')\n",
    "    writer = FFMpegWriter(fps=frames_per_second, metadata=metadata)\n",
    "\n",
    "    if figax is None and not PCM:\n",
    "        fig, ax = v.plot_pitch(field_dimen=field_dimen)\n",
    "    else:\n",
    "        fig, ax = v.plot_pitch(field_color='white', field_dimen=field_dimen)\n",
    "\n",
    "    fig.set_tight_layout(True)\n",
    "\n",
    "    print(\"Generating movie...\", end='')\n",
    "    results = []\n",
    "    if PCM:\n",
    "        with Pool() as pool:\n",
    "            results = pool.map(genPCM, index)\n",
    "\n",
    "    with writer.saving(fig, fname, 100):\n",
    "        for i in index:\n",
    "            generate_frame(i, hometeam, awayteam, ball, vhometeam, vawayteam, fig, ax, field_dimen, team_colors, include_player_velocities, PlayerMarkerSize, PlayerAlpha, annotate, PCM, cluster, index, a, writer, results)\n",
    "\n",
    "    print(\"done\")\n",
    "    plt.clf()\n",
    "    plt.close(fig)"
   ]
  },
  {
   "cell_type": "code",
   "execution_count": 70,
   "id": "ca745a86-ee9e-4ddf-a3eb-3bdb39b80434",
   "metadata": {},
   "outputs": [],
   "source": [
    "def faster_video(n,name = \"Test\"): #Makes a simple video using n cores, but faster (used to generate full games)\n",
    "    inputs = []\n",
    "    j=0\n",
    "    for i in list(split(range(len(hometeam)),n)):\n",
    "        j += 1\n",
    "        #Change inputs here if needed\n",
    "        inputs += [[hometeam.iloc[i],awayteam.iloc[i],ball.iloc[i],vhometeam.iloc[i],vawayteam.iloc[i], '/home/macaco3001/Desktop/Tese/Example_Data/Videos/temp',str(j), None, 10, ('b', 'r'), field_dim, False, 10,0.7, True, False, False]]\n",
    "    with Pool() as pool:\n",
    "        pool.starmap(make_video,inputs)\n",
    "    #Adjust path here\n",
    "    video_files_path = \"/home/macaco3001/Desktop/Tese/Example_Data/Videos/temp\"\n",
    "    \n",
    "    video_file_list =  []\n",
    "    for i in range(1,n+1): #Creates n separate videos to be glued together later\n",
    "        video_file_list += [os.path.join(video_files_path, str(i) + '.mp4')]\n",
    "    \n",
    "    loaded_video_list = []\n",
    "    \n",
    "    for video in video_file_list: \n",
    "        print(f\"Adding video file:{video}\")\n",
    "        loaded_video_list.append(VideoFileClip(video))\n",
    "    \n",
    "    final_clip = concatenate_videoclips(loaded_video_list) #Combines all videos\n",
    "    \n",
    "    merged_video_name = name\n",
    "    #Adjust path here\n",
    "    fname = os.path.join(\"/home/macaco3001/Desktop/Tese/Example_Data/Videos\", merged_video_name + '.mp4')\n",
    "    final_clip.write_videofile(fname)"
   ]
  },
  {
   "cell_type": "code",
   "execution_count": null,
   "id": "9df8892c-8cf4-4045-b2e5-e41884b30b5d",
   "metadata": {},
   "outputs": [],
   "source": [
    "#Determine ranges to be made into a video (Should match)\n",
    "hometeam = dfhome.iloc[0:1000]\n",
    "awayteam = dfaway.iloc[0:1000]\n",
    "ball = dfball.iloc[0:1000]\n",
    "vhometeam = velocity_dfhome.iloc[0:1000]\n",
    "vawayteam = velocity_dfaway.iloc[0:1000]"
   ]
  },
  {
   "cell_type": "code",
   "execution_count": 71,
   "id": "b6880687-f818-4de0-9ccc-580253092386",
   "metadata": {
    "scrolled": true
   },
   "outputs": [
    {
     "name": "stdout",
     "output_type": "stream",
     "text": [
      "--- 2.0742416381835938e-05 seconds ---\n"
     ]
    }
   ],
   "source": [
    "start_time = time.time()\n",
    "#faster_video(12,\"INI1Full\")\n",
    "print(\"--- %s seconds ---\" % (time.time() - start_time))"
   ]
  },
  {
   "cell_type": "code",
   "execution_count": 72,
   "id": "50a31bea-cc21-4f2c-805f-33541027b46f",
   "metadata": {
    "scrolled": true
   },
   "outputs": [
    {
     "name": "stdout",
     "output_type": "stream",
     "text": [
      "--- 2.09808349609375e-05 seconds ---\n"
     ]
    }
   ],
   "source": [
    "start_time = time.time()\n",
    "#make_video(hometeam,awayteam,ball,vhometeam,vawayteam, '/home/macaco3001/Desktop/Tese/Example_Data/Videos',fname = 'test', include_player_velocities = True, cluster = True, PCM = False, field_dimen = field_dim, annotate = True)\n",
    "print(\"--- %s seconds ---\" % (time.time() - start_time))"
   ]
  },
  {
   "cell_type": "markdown",
   "id": "19016c18-7e07-4f15-93fe-0dde46a31430",
   "metadata": {},
   "source": [
    "# Saving auxiliar model scores into a dataframe"
   ]
  },
  {
   "cell_type": "markdown",
   "id": "2099e2b2-8aab-4a20-bddd-e6818f57aebd",
   "metadata": {},
   "source": [
    "### Building PCM score"
   ]
  },
  {
   "cell_type": "code",
   "execution_count": 73,
   "id": "4b722e44-be1e-4c36-990e-9fb37789c9ed",
   "metadata": {},
   "outputs": [],
   "source": [
    "def GetSection(BallPosition,x_index,y_index): #Get section of a square from the 60x100 grid\n",
    "    x, y = BallPosition[0], BallPosition[1]\n",
    "    if x < x_index[16]:\n",
    "        SecX = 0\n",
    "    elif x < x_index[33]:                                                                                                                                                                                                                                                                                                                                                                                                                                                                                           \n",
    "        SecX = 1\n",
    "    elif x < x_index[50]:\n",
    "        SecX = 2\n",
    "    elif x < x_index[67]:\n",
    "        SecX = 3\n",
    "    elif x < x_index[84]:\n",
    "        SecX = 4\n",
    "    else:\n",
    "        SecX = 5\n",
    "    if y < y_index[10]:\n",
    "        SecY = 3\n",
    "    elif y < y_index[30]:\n",
    "        SecY = 2\n",
    "    elif y < y_index[50]:\n",
    "        SecY = 1\n",
    "    else:\n",
    "        SecY = 0\n",
    "    return (SecX,SecY)"
   ]
  },
  {
   "cell_type": "code",
   "execution_count": 74,
   "id": "0f78dca0-65b2-4a94-99e2-28a892c75d63",
   "metadata": {},
   "outputs": [],
   "source": [
    "def GetWeights(Section, Team): #Weights assigned to each zone\n",
    "    if Team == 1:\n",
    "        if Section == (0,0):\n",
    "            Weights = [[4,4,0,0,0,0],[4,2,1,0,0,0],[4,1,0,0,0,0],[0,0,0,0,0,0]]\n",
    "        elif Section == (0,1):\n",
    "            Weights = [[2,2,1,0,0,0],[4,4,2,0,0,0],[4,4,2,0,0,0],[2,2,1,0,0,0]]\n",
    "        elif Section == (0,2):\n",
    "            Weights = [[2,2,1,0,0,0],[4,4,2,0,0,0],[4,4,2,0,0,0],[2,2,1,0,0,0]]\n",
    "        elif Section == (0,3):\n",
    "            Weights = [[0,0,0,0,0,0],[4,1,0,0,0,0],[4,2,1,0,0,0],[4,4,0,0,0,0]]\n",
    "        elif Section == (1,0):\n",
    "            Weights = [[2,4,4,1,0,0],[1,4,2,1,0,0],[1,1,1,0,0,0],[0,0,0,0,0,0]]\n",
    "        elif Section == (1,1):\n",
    "            Weights = [[2,4,2,1,0,0],[2,4,4,2,0,0],[2,4,2,1,0,0],[1,2,1,0,0,0]]\n",
    "        elif Section == (1,2):\n",
    "            Weights = [[1,2,1,0,0,0],[2,4,2,1,0,0],[2,4,4,2,0,0],[2,4,2,1,0,0]]\n",
    "        elif Section == (1,3):\n",
    "            Weights = [[0,0,0,0,0,0],[1,1,1,0,0,0],[1,4,2,1,0,0],[2,4,4,1,0,0]]\n",
    "        elif Section == (2,0):\n",
    "            Weights = [[1,1,3,3,4,0],[1,1,2,3,4,0],[1,1,2,2,0,0],[0,0,0,0,0,0]]\n",
    "        elif Section == (2,1):\n",
    "            Weights = [[0,1,2,3,4,0],[1,1,3,3,4,0],[1,1,2,3,4,0],[0,1,2,2,0,0]]\n",
    "        elif Section == (2,2):\n",
    "            Weights = [[0,1,2,2,0,0],[1,1,2,3,4,0],[1,1,3,3,4,0],[0,1,2,3,4,0]]\n",
    "        elif Section == (2,3):\n",
    "            Weights = [[0,0,0,0,0,0],[1,1,2,2,0,0],[1,1,2,3,4,0],[1,1,3,3,4,0]]\n",
    "        elif Section == (3,0):\n",
    "            Weights = [[0,0,1,2,3,3],[0,0,1,2,4,4],[0,0,1,2,3,4],[0,0,0,0,0,0]]\n",
    "        elif Section == (3,1):\n",
    "            Weights = [[0,0,1,2,3,3],[0,0,1,2,4,4],[0,0,1,2,4,4],[0,0,1,2,2,0]]\n",
    "        elif Section == (3,2):\n",
    "            Weights = [[0,0,1,2,2,0],[0,0,1,2,4,4],[0,0,1,2,4,4],[0,0,1,2,3,3]]\n",
    "        elif Section == (3,3):\n",
    "            Weights = [[0,0,0,0,0,0],[0,0,1,2,3,4],[0,0,1,2,4,4],[0,0,1,2,3,3]]\n",
    "        elif Section == (4,0):\n",
    "            Weights = [[0,0,0,1,2,2],[0,0,0,1,2,4],[0,0,0,1,2,4],[0,0,0,0,0,0]]\n",
    "        elif Section == (4,1):\n",
    "            Weights = [[0,0,0,1,2,2],[0,0,0,1,2,4],[0,0,0,1,2,4],[0,0,0,0,2,2]]\n",
    "        elif Section == (4,2):\n",
    "            Weights = [[0,0,0,0,2,2],[0,0,0,1,2,4],[0,0,0,1,2,4],[0,0,0,1,2,2]]\n",
    "        elif Section == (4,3):\n",
    "            Weights = [[0,0,0,0,0,0],[0,0,0,1,2,4],[0,0,0,1,2,4],[0,0,0,1,2,2]]\n",
    "        elif Section == (5,0):\n",
    "            Weights = [[0,0,0,0,2,2],[0,0,0,0,2,4],[0,0,0,0,1,4],[0,0,0,0,0,0]]\n",
    "        elif Section == (5,1):\n",
    "            Weights = [[0,0,0,0,1,2],[0,0,0,0,2,4],[0,0,0,0,2,4],[0,0,0,0,1,2]]\n",
    "        elif Section == (5,2):\n",
    "            Weights = [[0,0,0,0,1,2],[0,0,0,0,2,4],[0,0,0,0,2,4],[0,0,0,0,1,2]]\n",
    "        elif Section == (5,3):\n",
    "            Weights = [[0,0,0,0,0,0],[0,0,0,0,1,4],[0,0,0,0,2,4],[0,0,0,0,2,2]]\n",
    "        return Weights\n",
    "    else: #Trick to not have to manually assign for the second team\n",
    "        return np.rot90(GetWeights(tuple(np.subtract((5, 3), Section)),1),2).tolist()"
   ]
  },
  {
   "cell_type": "code",
   "execution_count": 75,
   "id": "ba1b18bd-71b4-4298-bafe-b44bf74a98d3",
   "metadata": {},
   "outputs": [],
   "source": [
    "def PCMScore(Frame): #Given a frame, outputs the PCM score (using the weights defined above)\n",
    "    Team = FrameToTeam(Frame)\n",
    "    Index = FrameToIndex(Frame)\n",
    "    dx = field_dim[0]/100\n",
    "    dy = field_dim[1]/60\n",
    "    x_index = np.arange(101)*dx - field_dim[0]/2\n",
    "    x_index[0] = -1000\n",
    "    x_index[-1] = 1000\n",
    "    y_index = np.arange(61)*dy - field_dim[1]/2\n",
    "    y_index[0] = -1000\n",
    "    y_index[-1] = 1000\n",
    "    AttPlayers, DefPlayers, BallPosition = initPCM(Index,Team)\n",
    "    Section = GetSection(BallPosition,x_index,y_index)\n",
    "    Weights = GetWeights(Section,Team)\n",
    "    Sum = np.matrix(Weights).sum()\n",
    "    xgrid = np.arange(100)*dx - field_dim[0]/2. + dx/2.\n",
    "    ygrid = np.arange(60)*dy - field_dim[1]/2. + dy/2.\n",
    "    xlimits = [0,16,33,50,67,84,100]\n",
    "    ylimits = [0,10,30,50,60]\n",
    "    #Number of cells of each zone\n",
    "    NumberOfCells = [[160,170,170,170,170,160],[320,340,340,340,340,320],[320,340,340,340,340,320],[160,170,170,170,170,160]]\n",
    "    Score = 0\n",
    "    for i in range(len(Weights)):\n",
    "        for j in range(len(Weights[0])):\n",
    "            if Weights[i][j] != 0:\n",
    "                for x in range(xlimits[j],xlimits[j+1]):\n",
    "                    for y in range(ylimits[i],ylimits[i+1]):\n",
    "                        Score += (Weights[i][j]/(Sum * NumberOfCells[i][j])) * pcm_at_target([xgrid[x],ygrid[y]],AttPlayers,DefPlayers,BallPosition)[0]\n",
    "    return Score"
   ]
  },
  {
   "cell_type": "code",
   "execution_count": 76,
   "id": "8c65b6ef-4f9d-49ed-afd1-301ef644c12d",
   "metadata": {},
   "outputs": [],
   "source": [
    "def XGScore(Frame): #xG Score using the logistic regression coefficients obtained\n",
    "    Team = FrameToTeam(Frame)\n",
    "    n = FrameToIndex(Frame)\n",
    "    BallPosition = [dfball.iloc[n][1],dfball.iloc[n][2]]\n",
    "    GoalDistance, GoalAngle = GetDistanceAngle(BallPosition,Team)\n",
    "    Score = 1/(1+np.exp(-(-1.27302171 - 0.10000641 * GoalDistance + 1.71619144 * GoalAngle)))\n",
    "    return Score"
   ]
  },
  {
   "cell_type": "code",
   "execution_count": 77,
   "id": "e43a09c1-082a-4d67-942a-99a8ef50fac1",
   "metadata": {},
   "outputs": [],
   "source": [
    "from sklearn.model_selection import train_test_split\n",
    "import xgboost as xgb\n",
    "from xgboost import XGBClassifier"
   ]
  },
  {
   "cell_type": "markdown",
   "id": "86b820cf-f058-45d0-a4f9-af97e932f8e8",
   "metadata": {},
   "source": [
    "#### Defining the pressure score"
   ]
  },
  {
   "cell_type": "code",
   "execution_count": 78,
   "id": "e306f4e9-5a6a-4212-adc6-249057555535",
   "metadata": {
    "scrolled": true
   },
   "outputs": [
    {
     "data": {
      "text/html": [
       "<style>#sk-container-id-1 {color: black;}#sk-container-id-1 pre{padding: 0;}#sk-container-id-1 div.sk-toggleable {background-color: white;}#sk-container-id-1 label.sk-toggleable__label {cursor: pointer;display: block;width: 100%;margin-bottom: 0;padding: 0.3em;box-sizing: border-box;text-align: center;}#sk-container-id-1 label.sk-toggleable__label-arrow:before {content: \"▸\";float: left;margin-right: 0.25em;color: #696969;}#sk-container-id-1 label.sk-toggleable__label-arrow:hover:before {color: black;}#sk-container-id-1 div.sk-estimator:hover label.sk-toggleable__label-arrow:before {color: black;}#sk-container-id-1 div.sk-toggleable__content {max-height: 0;max-width: 0;overflow: hidden;text-align: left;background-color: #f0f8ff;}#sk-container-id-1 div.sk-toggleable__content pre {margin: 0.2em;color: black;border-radius: 0.25em;background-color: #f0f8ff;}#sk-container-id-1 input.sk-toggleable__control:checked~div.sk-toggleable__content {max-height: 200px;max-width: 100%;overflow: auto;}#sk-container-id-1 input.sk-toggleable__control:checked~label.sk-toggleable__label-arrow:before {content: \"▾\";}#sk-container-id-1 div.sk-estimator input.sk-toggleable__control:checked~label.sk-toggleable__label {background-color: #d4ebff;}#sk-container-id-1 div.sk-label input.sk-toggleable__control:checked~label.sk-toggleable__label {background-color: #d4ebff;}#sk-container-id-1 input.sk-hidden--visually {border: 0;clip: rect(1px 1px 1px 1px);clip: rect(1px, 1px, 1px, 1px);height: 1px;margin: -1px;overflow: hidden;padding: 0;position: absolute;width: 1px;}#sk-container-id-1 div.sk-estimator {font-family: monospace;background-color: #f0f8ff;border: 1px dotted black;border-radius: 0.25em;box-sizing: border-box;margin-bottom: 0.5em;}#sk-container-id-1 div.sk-estimator:hover {background-color: #d4ebff;}#sk-container-id-1 div.sk-parallel-item::after {content: \"\";width: 100%;border-bottom: 1px solid gray;flex-grow: 1;}#sk-container-id-1 div.sk-label:hover label.sk-toggleable__label {background-color: #d4ebff;}#sk-container-id-1 div.sk-serial::before {content: \"\";position: absolute;border-left: 1px solid gray;box-sizing: border-box;top: 0;bottom: 0;left: 50%;z-index: 0;}#sk-container-id-1 div.sk-serial {display: flex;flex-direction: column;align-items: center;background-color: white;padding-right: 0.2em;padding-left: 0.2em;position: relative;}#sk-container-id-1 div.sk-item {position: relative;z-index: 1;}#sk-container-id-1 div.sk-parallel {display: flex;align-items: stretch;justify-content: center;background-color: white;position: relative;}#sk-container-id-1 div.sk-item::before, #sk-container-id-1 div.sk-parallel-item::before {content: \"\";position: absolute;border-left: 1px solid gray;box-sizing: border-box;top: 0;bottom: 0;left: 50%;z-index: -1;}#sk-container-id-1 div.sk-parallel-item {display: flex;flex-direction: column;z-index: 1;position: relative;background-color: white;}#sk-container-id-1 div.sk-parallel-item:first-child::after {align-self: flex-end;width: 50%;}#sk-container-id-1 div.sk-parallel-item:last-child::after {align-self: flex-start;width: 50%;}#sk-container-id-1 div.sk-parallel-item:only-child::after {width: 0;}#sk-container-id-1 div.sk-dashed-wrapped {border: 1px dashed gray;margin: 0 0.4em 0.5em 0.4em;box-sizing: border-box;padding-bottom: 0.4em;background-color: white;}#sk-container-id-1 div.sk-label label {font-family: monospace;font-weight: bold;display: inline-block;line-height: 1.2em;}#sk-container-id-1 div.sk-label-container {text-align: center;}#sk-container-id-1 div.sk-container {/* jupyter's `normalize.less` sets `[hidden] { display: none; }` but bootstrap.min.css set `[hidden] { display: none !important; }` so we also need the `!important` here to be able to override the default hidden behavior on the sphinx rendered scikit-learn.org. See: https://github.com/scikit-learn/scikit-learn/issues/21755 */display: inline-block !important;position: relative;}#sk-container-id-1 div.sk-text-repr-fallback {display: none;}</style><div id=\"sk-container-id-1\" class=\"sk-top-container\"><div class=\"sk-text-repr-fallback\"><pre>XGBClassifier(base_score=None, booster=None, callbacks=None,\n",
       "              colsample_bylevel=0.5, colsample_bynode=1.0, colsample_bytree=0.5,\n",
       "              device=&#x27;cuda&#x27;, early_stopping_rounds=None,\n",
       "              enable_categorical=False, eval_metric=None, feature_types=None,\n",
       "              gamma=0.3404126229044155, grow_policy=None, importance_type=None,\n",
       "              interaction_constraints=None, learning_rate=0.003911225659823791,\n",
       "              max_bin=None, max_cat_threshold=None, max_cat_to_onehot=None,\n",
       "              max_delta_step=None, max_depth=8, max_leaves=None,\n",
       "              min_child_weight=None, missing=nan, monotone_constraints=None,\n",
       "              multi_strategy=None, n_estimators=1000, n_jobs=12,\n",
       "              num_parallel_tree=None, random_state=123, ...)</pre><b>In a Jupyter environment, please rerun this cell to show the HTML representation or trust the notebook. <br />On GitHub, the HTML representation is unable to render, please try loading this page with nbviewer.org.</b></div><div class=\"sk-container\" hidden><div class=\"sk-item\"><div class=\"sk-estimator sk-toggleable\"><input class=\"sk-toggleable__control sk-hidden--visually\" id=\"sk-estimator-id-1\" type=\"checkbox\" checked><label for=\"sk-estimator-id-1\" class=\"sk-toggleable__label sk-toggleable__label-arrow\">XGBClassifier</label><div class=\"sk-toggleable__content\"><pre>XGBClassifier(base_score=None, booster=None, callbacks=None,\n",
       "              colsample_bylevel=0.5, colsample_bynode=1.0, colsample_bytree=0.5,\n",
       "              device=&#x27;cuda&#x27;, early_stopping_rounds=None,\n",
       "              enable_categorical=False, eval_metric=None, feature_types=None,\n",
       "              gamma=0.3404126229044155, grow_policy=None, importance_type=None,\n",
       "              interaction_constraints=None, learning_rate=0.003911225659823791,\n",
       "              max_bin=None, max_cat_threshold=None, max_cat_to_onehot=None,\n",
       "              max_delta_step=None, max_depth=8, max_leaves=None,\n",
       "              min_child_weight=None, missing=nan, monotone_constraints=None,\n",
       "              multi_strategy=None, n_estimators=1000, n_jobs=12,\n",
       "              num_parallel_tree=None, random_state=123, ...)</pre></div></div></div></div></div>"
      ],
      "text/plain": [
       "XGBClassifier(base_score=None, booster=None, callbacks=None,\n",
       "              colsample_bylevel=0.5, colsample_bynode=1.0, colsample_bytree=0.5,\n",
       "              device='cuda', early_stopping_rounds=None,\n",
       "              enable_categorical=False, eval_metric=None, feature_types=None,\n",
       "              gamma=0.3404126229044155, grow_policy=None, importance_type=None,\n",
       "              interaction_constraints=None, learning_rate=0.003911225659823791,\n",
       "              max_bin=None, max_cat_threshold=None, max_cat_to_onehot=None,\n",
       "              max_delta_step=None, max_depth=8, max_leaves=None,\n",
       "              min_child_weight=None, missing=nan, monotone_constraints=None,\n",
       "              multi_strategy=None, n_estimators=1000, n_jobs=12,\n",
       "              num_parallel_tree=None, random_state=123, ...)"
      ]
     },
     "execution_count": 78,
     "metadata": {},
     "output_type": "execute_result"
    }
   ],
   "source": [
    "#Defining the XGBOOST model obtained\n",
    "data = pd.read_csv('FixedRBF.csv')\n",
    "x = data.drop(['SuccessFlag','Frame'], axis=1)\n",
    "y = data['SuccessFlag']\n",
    "scaler = StandardScaler()\n",
    "x = scaler.fit_transform(x)\n",
    "xtrain, xtest, ytrain, ytest = train_test_split( x, y, test_size=0.25, random_state=2023)\n",
    "model = XGBClassifier(base_score=None, booster=None, callbacks=None,\n",
    "                colsample_bylevel=0.5, colsample_bynode=1.0, colsample_bytree=0.5,\n",
    "                device='cuda', early_stopping_rounds=None,\n",
    "                enable_categorical=False, eval_metric=None, feature_types=None,\n",
    "                gamma=0.3404126229044155, grow_policy=None, importance_type=None,\n",
    "                interaction_constraints=None, learning_rate=0.003911225659823791,\n",
    "                max_bin=None, max_cat_threshold=None, max_cat_to_onehot=None,\n",
    "                max_delta_step=None, max_depth=8, max_leaves=None,\n",
    "                min_child_weight=None, monotone_constraints=None,\n",
    "                multi_strategy=None, n_estimators=1000, n_jobs=12,\n",
    "                num_parallel_tree=None, random_state=123)\n",
    "model.fit(xtrain, ytrain)"
   ]
  },
  {
   "cell_type": "code",
   "execution_count": 79,
   "id": "0a4204e5-ce17-4ffb-b700-109fbaeae207",
   "metadata": {},
   "outputs": [],
   "source": [
    "def PressureScore(Frame): #Outputs the pressure score given a frame\n",
    "    Index = FrameToIndex(Frame)\n",
    "    Team = FrameToTeam(Frame)\n",
    "    input = list(GetPressureInfo(Index,Team))\n",
    "    input = scaler.transform([input])\n",
    "    Score = model.predict_proba(input)[:,1][0]\n",
    "    return Score"
   ]
  },
  {
   "cell_type": "code",
   "execution_count": 80,
   "id": "6d732385-26c0-44cc-9847-6f5aba83192c",
   "metadata": {},
   "outputs": [],
   "source": [
    "def CreateRewardList(l): #Prepares multiprocessing to create a dataframe of all scores (pressure done separately)\n",
    "    RetList = []\n",
    "    for i in l:\n",
    "        if not isinstance(i,str):\n",
    "            Frame, Team, Player = i[0], i[1], i[2]\n",
    "            XG = XGScore(Frame)\n",
    "            PCM = PCMScore(Frame)\n",
    "            n = FrameToIndex(Frame)\n",
    "            BallPosition = [dfball.iloc[n,1],dfball.iloc[n,2]]\n",
    "            dx = field_dim[0]/100\n",
    "            dy = field_dim[1]/60\n",
    "            x_index = np.arange(101)*dx - field_dim[0]/2\n",
    "            x_index[0] = -1000\n",
    "            x_index[-1] = 1000\n",
    "            y_index = np.arange(61)*dy - field_dim[1]/2\n",
    "            y_index[0] = -1000\n",
    "            y_index[-1] = 1000\n",
    "            BallX = GetSection(BallPosition,x_index,y_index)[0]\n",
    "            RetList += [[Match_index,Frame,Team,Player,BallX,PCM,XG]]\n",
    "        else:\n",
    "            RetList += [[Match_index,i,0,0,0,0,0]]\n",
    "    return RetList"
   ]
  },
  {
   "cell_type": "code",
   "execution_count": 81,
   "id": "aa7fb675-aaef-41ed-8052-1839abf64051",
   "metadata": {},
   "outputs": [],
   "source": [
    "def split(a, n): #Splitting a list in n equal-ish parts, used for multiprocessing\n",
    "    k, m = divmod(len(a), n)\n",
    "    return (a[i*k+min(i, m):(i+1)*k+min(i+1, m)] for i in range(n))"
   ]
  },
  {
   "cell_type": "markdown",
   "id": "94550ffe-2e3f-4cf1-b48d-307455fc6434",
   "metadata": {},
   "source": [
    "#### Creation of a dataframe with all scores, then saved"
   ]
  },
  {
   "cell_type": "code",
   "execution_count": 82,
   "id": "2732d5df-332e-42fb-a04c-65172fd0f1d0",
   "metadata": {},
   "outputs": [],
   "source": [
    "#inputs = []\n",
    "#for i in list(split(PlayerPoslist,12)):\n",
    "#    inputs += [i]"
   ]
  },
  {
   "cell_type": "code",
   "execution_count": 83,
   "id": "239a38d4-3a54-43e7-a7c7-7522f9ab1e84",
   "metadata": {
    "scrolled": true
   },
   "outputs": [],
   "source": [
    "#start_time = time.time()\n",
    "#if __name__ == \"__main__\":\n",
    "#    with Pool() as pool:\n",
    "#        results = pool.map(CreateRewardList,inputs)\n",
    "#print(\"--- %s seconds ---\" % (time.time() - start_time))"
   ]
  },
  {
   "cell_type": "code",
   "execution_count": 84,
   "id": "c26d57d9-c81d-4cb2-91ca-359b2724a3db",
   "metadata": {},
   "outputs": [],
   "source": [
    "#results = CreateRewardList(PlayerPoslist)"
   ]
  },
  {
   "cell_type": "code",
   "execution_count": 85,
   "id": "52a90ec8-238d-4f87-8430-e0e091bfecc4",
   "metadata": {},
   "outputs": [],
   "source": [
    "#temp = []\n",
    "#for i in results:\n",
    "#    temp += i"
   ]
  },
  {
   "cell_type": "code",
   "execution_count": 86,
   "id": "49cd5a77-dcea-43ea-ae4d-7603d087694a",
   "metadata": {},
   "outputs": [],
   "source": [
    "#start_time = time.time()\n",
    "#for i in results:\n",
    "#    if isinstance(i[1],str):\n",
    "#        i += [0]\n",
    "#    else:\n",
    "#        Pressure = PressureScore(i[1])\n",
    "#        i += [Pressure]\n",
    "#print(\"--- %s seconds ---\" % (time.time() - start_time))"
   ]
  },
  {
   "cell_type": "code",
   "execution_count": 87,
   "id": "4d0f1639-8dee-487e-a39d-7fe2e3b20999",
   "metadata": {},
   "outputs": [],
   "source": [
    "#dfr = pd.DataFrame(results, columns = ['Match','Frame','Team','Player','BallX','PCM','XG','Pressure'])"
   ]
  },
  {
   "cell_type": "code",
   "execution_count": 88,
   "id": "c1418266-691c-4c74-8947-4bf8b8dd6bfe",
   "metadata": {},
   "outputs": [],
   "source": [
    "#dfr.to_csv('dfr1.csv',index = False)"
   ]
  },
  {
   "cell_type": "code",
   "execution_count": 89,
   "id": "ffb55733-823f-4dc4-a0e5-59605f10cab3",
   "metadata": {},
   "outputs": [],
   "source": [
    "#df1 = pd.read_csv('dfr1.csv')\n",
    "#df2 = pd.read_csv('dfr2.csv')\n",
    "#df3 = pd.read_csv('dfr3.csv')\n",
    "#df4 = pd.read_csv('dfr4.csv')\n",
    "#df5 = pd.read_csv('dfr5.csv')\n",
    "#df6 = pd.read_csv('dfr6.csv')\n",
    "#df7 = pd.read_csv('dfr7.csv')\n",
    "#concatenated_df = pd.concat([df1, df2,df3,df4,df5,df6,df7])\n",
    "#concatenated_df.to_csv('dfreward.csv',header = True, index = False)"
   ]
  },
  {
   "cell_type": "markdown",
   "id": "2d80be2b-5d52-44cd-8472-0d549180d442",
   "metadata": {},
   "source": [
    "# Final data treatment"
   ]
  },
  {
   "cell_type": "markdown",
   "id": "14972963-4397-4b69-8207-1426f1c51336",
   "metadata": {},
   "source": [
    "## Reward Function creation"
   ]
  },
  {
   "cell_type": "code",
   "execution_count": 90,
   "id": "7b28b0f8-b472-4f59-9fbe-ac21a344d2a4",
   "metadata": {},
   "outputs": [],
   "source": [
    "dfReward = pd.read_csv('dfreward.csv')"
   ]
  },
  {
   "cell_type": "code",
   "execution_count": 91,
   "id": "05029b6d-8766-4499-a486-5c848e57dc14",
   "metadata": {},
   "outputs": [],
   "source": [
    "#Average XGScore upon ball recovery, to analyse turnovers\n",
    "XGList = []\n",
    "for i in range(len(dfReward)):\n",
    "    if dfReward.iloc[i][0] == Match_index and dfReward.iloc[i][1] == 'Turnover':\n",
    "        Team = dfReward.iloc[i-1][2]\n",
    "        if Team == 1:\n",
    "            Team = 2\n",
    "        else:\n",
    "            Team = 1\n",
    "        Frame = int(dfReward.iloc[i-1][1]) + 1\n",
    "        n = FrameToIndex(Frame)\n",
    "        BallPosition = [dfball.iloc[n][1],dfball.iloc[n][2]]\n",
    "        GoalDistance, GoalAngle = GetDistanceAngle(BallPosition,Team)\n",
    "        XG = 1/(1+np.exp(-(-1.27302171 - 0.10000641 * GoalDistance + 1.71619144 * GoalAngle)))\n",
    "        XGList += [[Match_index, Frame, XG]]"
   ]
  },
  {
   "cell_type": "markdown",
   "id": "ae3fc222-0867-4b1e-86ec-4ffb6e6819a2",
   "metadata": {},
   "source": [
    "##### Creation of xGRecovery dataset to analyse turnovers"
   ]
  },
  {
   "cell_type": "code",
   "execution_count": 92,
   "id": "9e91e46b-d969-47bc-81ca-b999dcd832b7",
   "metadata": {},
   "outputs": [],
   "source": [
    "#dfxg = pd.DataFrame(XGList, columns = ['Match_index','Frame','XGRecovery']) "
   ]
  },
  {
   "cell_type": "code",
   "execution_count": 93,
   "id": "9b4cd783-d998-476d-9b9f-568739024454",
   "metadata": {},
   "outputs": [],
   "source": [
    "#dfxg.to_csv('XG1.csv', header = True, index = False)"
   ]
  },
  {
   "cell_type": "code",
   "execution_count": 94,
   "id": "8e417d2e-56aa-4b69-9736-93325c053d05",
   "metadata": {},
   "outputs": [],
   "source": [
    "#df1 = pd.read_csv('XG1.csv')\n",
    "#df2 = pd.read_csv('XG2.csv')\n",
    "#df3 = pd.read_csv('XG3.csv')\n",
    "#df4 = pd.read_csv('XG4.csv')\n",
    "#df5 = pd.read_csv('XG5.csv')\n",
    "#df6 = pd.read_csv('XG6.csv')\n",
    "#df7 = pd.read_csv('XG7.csv')\n",
    "#concatenated_df = pd.concat([df1, df2,df3,df4,df5,df6,df7])\n",
    "#concatenated_df.to_csv('XGRecovery.csv',header = True, index = False)"
   ]
  },
  {
   "cell_type": "code",
   "execution_count": 95,
   "id": "6adacfde-b210-4166-bce1-1a49c2442fa5",
   "metadata": {},
   "outputs": [],
   "source": [
    "dfRecovery = pd.read_csv('XGRecovery.csv')"
   ]
  },
  {
   "cell_type": "code",
   "execution_count": 96,
   "id": "3fd1dea9-5b02-4eed-8f8e-35e5bbc0e8d9",
   "metadata": {},
   "outputs": [
    {
     "data": {
      "text/html": [
       "<div>\n",
       "<style scoped>\n",
       "    .dataframe tbody tr th:only-of-type {\n",
       "        vertical-align: middle;\n",
       "    }\n",
       "\n",
       "    .dataframe tbody tr th {\n",
       "        vertical-align: top;\n",
       "    }\n",
       "\n",
       "    .dataframe thead th {\n",
       "        text-align: right;\n",
       "    }\n",
       "</style>\n",
       "<table border=\"1\" class=\"dataframe\">\n",
       "  <thead>\n",
       "    <tr style=\"text-align: right;\">\n",
       "      <th></th>\n",
       "      <th>Match_index</th>\n",
       "      <th>Frame</th>\n",
       "      <th>XGRecovery</th>\n",
       "    </tr>\n",
       "  </thead>\n",
       "  <tbody>\n",
       "    <tr>\n",
       "      <th>count</th>\n",
       "      <td>749.000000</td>\n",
       "      <td>749.000000</td>\n",
       "      <td>749.000000</td>\n",
       "    </tr>\n",
       "    <tr>\n",
       "      <th>mean</th>\n",
       "      <td>3.949266</td>\n",
       "      <td>37242.518024</td>\n",
       "      <td>0.003862</td>\n",
       "    </tr>\n",
       "    <tr>\n",
       "      <th>std</th>\n",
       "      <td>1.935481</td>\n",
       "      <td>21912.664905</td>\n",
       "      <td>0.012298</td>\n",
       "    </tr>\n",
       "    <tr>\n",
       "      <th>min</th>\n",
       "      <td>1.000000</td>\n",
       "      <td>524.000000</td>\n",
       "      <td>0.000008</td>\n",
       "    </tr>\n",
       "    <tr>\n",
       "      <th>25%</th>\n",
       "      <td>2.000000</td>\n",
       "      <td>21056.000000</td>\n",
       "      <td>0.000106</td>\n",
       "    </tr>\n",
       "    <tr>\n",
       "      <th>50%</th>\n",
       "      <td>4.000000</td>\n",
       "      <td>34957.000000</td>\n",
       "      <td>0.000472</td>\n",
       "    </tr>\n",
       "    <tr>\n",
       "      <th>75%</th>\n",
       "      <td>5.000000</td>\n",
       "      <td>48491.000000</td>\n",
       "      <td>0.002252</td>\n",
       "    </tr>\n",
       "    <tr>\n",
       "      <th>max</th>\n",
       "      <td>7.000000</td>\n",
       "      <td>86242.000000</td>\n",
       "      <td>0.176182</td>\n",
       "    </tr>\n",
       "  </tbody>\n",
       "</table>\n",
       "</div>"
      ],
      "text/plain": [
       "       Match_index         Frame  XGRecovery\n",
       "count   749.000000    749.000000  749.000000\n",
       "mean      3.949266  37242.518024    0.003862\n",
       "std       1.935481  21912.664905    0.012298\n",
       "min       1.000000    524.000000    0.000008\n",
       "25%       2.000000  21056.000000    0.000106\n",
       "50%       4.000000  34957.000000    0.000472\n",
       "75%       5.000000  48491.000000    0.002252\n",
       "max       7.000000  86242.000000    0.176182"
      ]
     },
     "execution_count": 96,
     "metadata": {},
     "output_type": "execute_result"
    }
   ],
   "source": [
    "dfRecovery.describe()"
   ]
  },
  {
   "cell_type": "markdown",
   "id": "c01fc60d-b2a6-48b3-b2e4-f62345ce5b05",
   "metadata": {},
   "source": [
    "We opt for a reward of -200*Opponent's XG for a turnover, where 200 is chosen to make the median turnover have about the same penalty as a ball going out from the goal line (-0.1 reward)"
   ]
  },
  {
   "cell_type": "markdown",
   "id": "2bb0aa79-e75a-4fa2-a9af-3241c2aa1846",
   "metadata": {},
   "source": [
    "## Creates the final reward list"
   ]
  },
  {
   "cell_type": "code",
   "execution_count": 97,
   "id": "4e2af6a0-2f2f-4d17-8168-5a93a389e822",
   "metadata": {},
   "outputs": [],
   "source": [
    "RewardData = []\n",
    "for i in range(len(dfReward)):\n",
    "    Data = dfReward.iloc[i]\n",
    "    if Data[1] == 'Turnover':\n",
    "        Frame = int(dfReward.iloc[i-1,1]) + 1 #Find frame and match of the turnover by looking at previous frame\n",
    "        Match = dfReward.iloc[i-1,0]\n",
    "        Reward = -float(dfRecovery[(dfRecovery['Frame'] == Frame) & (dfRecovery['Match_index'] == Match)]['XGRecovery']) * 200 #Find turnover in XGRecovery dataset\n",
    "        RewardData += [[0,'Turnover',0,0,Reward]]\n",
    "    elif Data[1] == 'Goal':\n",
    "        RewardData += [[0,'Goal',0,0,20]]\n",
    "    elif Data[1] == 'OutThrow':\n",
    "        RewardData += [[0,'OutThrow',0,0,-0.2]]\n",
    "    elif Data[1] == 'OutGK':\n",
    "        RewardData += [[0,'OutGK',0,0,-0.1]]\n",
    "    elif Data[1] == 'OutKept' or Data[1] == 'OutCorner' or Data[1] == 'Foul':\n",
    "        RewardData += [[0,Data[1],0,0,0]]\n",
    "    else:\n",
    "        Match = Data[0]\n",
    "        Frame = Data[1]\n",
    "        Team = Data[2]\n",
    "        Player = Data[3]\n",
    "        BallX = Data[4]\n",
    "        PCM = Data[5]\n",
    "        XG = Data[6]\n",
    "        Pressure = Data[7]\n",
    "        multiplier = 1\n",
    "        if Team == 1:\n",
    "            if BallX <= 1: #Defensive third\n",
    "                multiplier = 1/3\n",
    "            elif BallX <= 3:\n",
    "                multiplier = 2/3# Midfield\n",
    "        else:\n",
    "            if BallX >= 4:\n",
    "                multiplier = 1/3 #Defensive third\n",
    "            elif BallX >= 2:\n",
    "                multiplier = 2/3 #Midfield\n",
    "        if Player == 0: #No player on the ball\n",
    "            Reward = multiplier * PCM\n",
    "            RewardData += [[Match,int(Frame),Team,Player,Reward]]\n",
    "        elif multiplier == 1/3: #Defensive third\n",
    "            Reward = (0.7 * Pressure + 0.3 * PCM) * multiplier\n",
    "            RewardData += [[Match,int(Frame),Team,Player,Reward]]\n",
    "        elif multiplier == 2/3: #Midfield\n",
    "            Reward = (0.5 * Pressure + 0.5 * PCM) * multiplier\n",
    "            RewardData += [[Match,int(Frame),Team,Player,Reward]]\n",
    "        else: #Attacking third\n",
    "            Reward = (0.2 * Pressure + 0.3 * PCM + 0.5 * XG) * multiplier\n",
    "            RewardData += [[Match,int(Frame),Team,Player,Reward]]"
   ]
  },
  {
   "cell_type": "code",
   "execution_count": 98,
   "id": "023e2a0f-501f-40cc-8e04-f7767790e1be",
   "metadata": {},
   "outputs": [],
   "source": [
    "#dfRewardList = pd.DataFrame(RewardData, columns = ['Match_index','Frame','Team','Player','Reward']) "
   ]
  },
  {
   "cell_type": "code",
   "execution_count": 99,
   "id": "9fedf925-216c-4c4b-99ac-a75d5f867c08",
   "metadata": {},
   "outputs": [],
   "source": [
    "#dfRewardList.to_csv('RewardList.csv', header = True, index = False)"
   ]
  },
  {
   "cell_type": "code",
   "execution_count": 100,
   "id": "f7f327b1-7e6d-4451-9d8a-bbe67559908f",
   "metadata": {},
   "outputs": [],
   "source": [
    "RewardList = pd.read_csv('RewardList.csv')"
   ]
  },
  {
   "cell_type": "code",
   "execution_count": 101,
   "id": "7071c3f0-ed70-4b06-84a5-987f2ce9e6f1",
   "metadata": {},
   "outputs": [
    {
     "name": "stdout",
     "output_type": "stream",
     "text": [
      "0.3008506558775074 0.27849054747905805\n"
     ]
    }
   ],
   "source": [
    "#Evaluating the average reward for when a player is in possession and when the ball is in movement\n",
    "SumPos = 0\n",
    "CountPos = 0\n",
    "SumNoPos = 0\n",
    "CountNoPos = 0\n",
    "for i in range(len(RewardList)):\n",
    "    if RewardList.iloc[i,3] == 0:\n",
    "        SumNoPos += RewardList.iloc[i,4]\n",
    "        CountNoPos += 1\n",
    "    else:\n",
    "        SumPos += RewardList.iloc[i,4]\n",
    "        CountPos += 1\n",
    "print(SumPos/CountPos,SumNoPos/CountNoPos)"
   ]
  },
  {
   "cell_type": "markdown",
   "id": "123b412d-41fe-4498-9379-5fba0ad0e16d",
   "metadata": {},
   "source": [
    "### Create discretized dataframes for the ball and tracking data"
   ]
  },
  {
   "cell_type": "code",
   "execution_count": 106,
   "id": "8db2755f",
   "metadata": {},
   "outputs": [],
   "source": [
    "dx = field_dim[0]/100\n",
    "dy = field_dim[1]/60\n",
    "x_index = np.arange(101)*dx - field_dim[0]/2\n",
    "x_index[0] = -1000\n",
    "x_index[-1] = 1000\n",
    "y_index = np.arange(61)*dy - field_dim[1]/2\n",
    "y_index[0] = -1000\n",
    "y_index[-1] = 1000\n",
    "discaway = dfaway.copy()\n",
    "for i in range(1,12):\n",
    "    discaway[2*i] = pd.cut(discaway[2*i], bins=x_index, labels = False)\n",
    "    discaway[2*i + 1] = pd.cut(discaway[2*i+1], bins=y_index, labels = False)\n",
    "dischome = dfhome.copy()\n",
    "for i in range(1,12):\n",
    "    dischome[2*i] = pd.cut(dischome[2*i], bins=x_index, labels = False)\n",
    "    dischome[2*i + 1] = pd.cut(dischome[2*i+1], bins=y_index, labels = False)\n",
    "discball = dfball.copy()\n",
    "discball['X'] = pd.cut(discball['X'], bins=x_index, labels = False)\n",
    "discball['Y'] = pd.cut(discball['Y'], bins=y_index, labels = False)"
   ]
  },
  {
   "cell_type": "markdown",
   "id": "0f7c3ee5-3f26-4146-a81c-8a24e9aed7d8",
   "metadata": {},
   "source": [
    "## Saving all relevant information in csv files for later use in reinforcement learning"
   ]
  },
  {
   "cell_type": "code",
   "execution_count": 107,
   "id": "46c0f19b-0726-44cf-ab37-bc1502886df6",
   "metadata": {},
   "outputs": [],
   "source": [
    "ToSavePlayerPoslist = []\n",
    "for i in PlayerPoslist:\n",
    "    if isinstance(i,str):\n",
    "        ToSavePlayerPoslist += [[i,0,0]]\n",
    "    else:\n",
    "        ToSavePlayerPoslist += [i]"
   ]
  },
  {
   "cell_type": "code",
   "execution_count": 108,
   "id": "bbe7a353-050b-4372-bb10-fe321643d4dd",
   "metadata": {},
   "outputs": [],
   "source": [
    "dfPlayerPos = pd.DataFrame(ToSavePlayerPoslist,columns = ['Frame','Team','Player'])\n",
    "Match_col = np.ones(len(dfPlayerPos)) * Match_index\n",
    "dfPlayerPos.insert(0,'Match_index',Match_col)\n",
    "dfPlayerPos.to_csv('PlayerPos'+str(Match_index)+'.csv',header = True, index = False)"
   ]
  },
  {
   "cell_type": "code",
   "execution_count": 109,
   "id": "0f406c00-ddf1-4204-9a34-0b0c3437037a",
   "metadata": {},
   "outputs": [],
   "source": [
    "Match_col = np.ones(len(dfhome)) * Match_index #Column with match_index\n",
    "Home = dischome.copy()\n",
    "Away = discaway.copy()\n",
    "VelHome = velocity_dfhome.copy()\n",
    "VelAway = velocity_dfaway.copy()\n",
    "AccHome = acc_dfhome.copy()\n",
    "AccAway = acc_dfaway.copy()\n",
    "Ball = discball.copy()\n",
    "VelBall = velocity_dfball.copy()\n",
    "Home.insert(0,'Match_index',Match_col)\n",
    "Away.insert(0,'Match_index',Match_col)\n",
    "VelHome.insert(0,'Match_index',Match_col)\n",
    "VelAway.insert(0,'Match_index',Match_col)\n",
    "AccHome.insert(0,'Match_index',Match_col)\n",
    "AccAway.insert(0,'Match_index',Match_col)\n",
    "Ball.insert(0,'Match_index',Match_col)\n",
    "VelBall.insert(0,'Match_index',Match_col)\n",
    "Home.to_csv('Home'+str(Match_index)+'.csv',header = True, index = False)\n",
    "Away.to_csv('Away'+str(Match_index)+'.csv',header = True, index = False)\n",
    "VelHome.to_csv('VelHome'+str(Match_index)+'.csv',header = True, index = False)\n",
    "VelAway.to_csv('VelAway'+str(Match_index)+'.csv',header = True, index = False)\n",
    "AccHome.to_csv('AccHome'+str(Match_index)+'.csv',header = True, index = False)\n",
    "AccAway.to_csv('AccAway'+str(Match_index)+'.csv',header = True, index = False)\n",
    "Ball.to_csv('Ball'+str(Match_index)+'.csv',header = True, index = False)\n",
    "VelBall.to_csv('VelBall'+str(Match_index)+'.csv',header = True, index = False)"
   ]
  },
  {
   "cell_type": "code",
   "execution_count": 110,
   "id": "8c7a04c2-6281-4dcf-99fa-2abc8a28c864",
   "metadata": {},
   "outputs": [],
   "source": [
    "dfPlayerPosList = []\n",
    "HomeList = []\n",
    "AwayList = []\n",
    "VelHomeList = []\n",
    "VelAwayList = []\n",
    "AccHomeList = []\n",
    "AccAwayList = []\n",
    "BallList = []\n",
    "VelBallList = []\n",
    "for i in range(1,8):\n",
    "    dfPlayerPosList += [pd.read_csv('PlayerPos'+str(i)+'.csv')]\n",
    "    HomeList += [pd.read_csv('Home'+str(i)+'.csv')]\n",
    "    AwayList += [pd.read_csv('Away'+str(i)+'.csv')]\n",
    "    VelHomeList += [pd.read_csv('VelHome'+str(i)+'.csv')]\n",
    "    VelAwayList += [pd.read_csv('VelAway'+str(i)+'.csv')]\n",
    "    AccHomeList += [pd.read_csv('AccHome'+str(i)+'.csv')]\n",
    "    AccAwayList += [pd.read_csv('AccAway'+str(i)+'.csv')]\n",
    "    BallList += [pd.read_csv('Ball'+str(i)+'.csv')]\n",
    "    VelBallList += [pd.read_csv('VelBall'+str(i)+'.csv')]\n",
    "concat_PlayerPos = pd.concat(dfPlayerPosList)\n",
    "concat_PlayerPos.to_csv('PlayerPos.csv', header = True, index = False)\n",
    "concat_Home = pd.concat(HomeList)\n",
    "concat_Home.to_csv('Home.csv', header = True, index = False)\n",
    "concat_Away = pd.concat(AwayList)\n",
    "concat_Away.to_csv('Away.csv', header = True, index = False)\n",
    "concat_VelHome = pd.concat(VelHomeList)\n",
    "concat_VelHome.to_csv('VelHome.csv', header = True, index = False)\n",
    "concat_VelAway = pd.concat(VelAwayList)\n",
    "concat_VelAway.to_csv('VelAway.csv', header = True, index = False)\n",
    "concat_AccHome = pd.concat(AccHomeList)\n",
    "concat_AccHome.to_csv('AccHome.csv', header = True, index = False)\n",
    "concat_AccAway = pd.concat(AccAwayList)\n",
    "concat_AccAway.to_csv('AccAway.csv', header = True, index = False)\n",
    "concat_Ball = pd.concat(BallList)\n",
    "concat_Ball.to_csv('Ball.csv', header = True, index = False)\n",
    "concat_VelBall = pd.concat(VelBallList)\n",
    "concat_VelBall.to_csv('VelBall.csv', header = True, index = False)"
   ]
  },
  {
   "cell_type": "code",
   "execution_count": null,
   "id": "b88f0c13-a31a-4096-ac9c-72ceb2ac9aba",
   "metadata": {},
   "outputs": [],
   "source": []
  }
 ],
 "metadata": {
  "celltoolbar": "Raw Cell Format",
  "kernelspec": {
   "display_name": "Python 3 (ipykernel)",
   "language": "python",
   "name": "python3"
  },
  "language_info": {
   "codemirror_mode": {
    "name": "ipython",
    "version": 3
   },
   "file_extension": ".py",
   "mimetype": "text/x-python",
   "name": "python",
   "nbconvert_exporter": "python",
   "pygments_lexer": "ipython3",
   "version": "3.9.18"
  }
 },
 "nbformat": 4,
 "nbformat_minor": 5
}
