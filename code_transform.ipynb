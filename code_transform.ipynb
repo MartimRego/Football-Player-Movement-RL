{
 "cells": [
  {
   "cell_type": "markdown",
   "id": "b2876556-d3b4-45ac-aaaa-ab738d040c3a",
   "metadata": {},
   "source": [
    "# Changes the ball touch dataset for some games where field rotation is required"
   ]
  },
  {
   "cell_type": "code",
   "execution_count": 1,
   "id": "e4483d1a-cb42-446d-9cfe-bad04a1f4fb1",
   "metadata": {},
   "outputs": [],
   "source": [
    "import numpy as np\n",
    "import pandas as pd\n",
    "from matplotlib import animation\n",
    "from matplotlib import pyplot as plt\n",
    "import math\n",
    "import time\n",
    "import multiprocessing as mp\n",
    "from multiprocessing import Pool"
   ]
  },
  {
   "cell_type": "code",
   "execution_count": 2,
   "id": "205a348b-f896-4f99-8131-be5c17d7a3f6",
   "metadata": {},
   "outputs": [],
   "source": [
    "dfcodes=pd.read_csv('F_PB_INI1C.csv',header=None) #Load game to transform"
   ]
  },
  {
   "cell_type": "code",
   "execution_count": 21,
   "id": "fb61332a-6417-44fe-b7ab-30de602a8ed5",
   "metadata": {},
   "outputs": [],
   "source": [
    "for i in range(len(dfcodes)):\n",
    "    if dfcodes.iloc[i][1] == 3: #Applies 180 degree rotation for ball out the sideline\n",
    "        if dfcodes.iloc[i][2] > 4:\n",
    "            dfcodes.iloc[i][2] -= 4\n",
    "        else:\n",
    "            dfcodes.iloc[i][2] += 4\n",
    "    if dfcodes.iloc[i][1] == 4: #Applies 180 degree rotation for ball out the back line\n",
    "        if dfcodes.iloc[i][2] > 3:\n",
    "            dfcodes.iloc[i][2] -= 3\n",
    "        else:\n",
    "            dfcodes.iloc[i][2] += 3"
   ]
  },
  {
   "cell_type": "code",
   "execution_count": 26,
   "id": "3451ac98-2917-4e67-8805-ab008cd8c66e",
   "metadata": {},
   "outputs": [],
   "source": [
    "dfcodes.to_csv('dfcodestest.txt', header = False, index = False)"
   ]
  },
  {
   "cell_type": "code",
   "execution_count": null,
   "id": "0c555358-f60f-4523-8b3d-315240085adc",
   "metadata": {},
   "outputs": [],
   "source": []
  }
 ],
 "metadata": {
  "kernelspec": {
   "display_name": "Python 3 (ipykernel)",
   "language": "python",
   "name": "python3"
  },
  "language_info": {
   "codemirror_mode": {
    "name": "ipython",
    "version": 3
   },
   "file_extension": ".py",
   "mimetype": "text/x-python",
   "name": "python",
   "nbconvert_exporter": "python",
   "pygments_lexer": "ipython3",
   "version": "3.11.3"
  }
 },
 "nbformat": 4,
 "nbformat_minor": 5
}
