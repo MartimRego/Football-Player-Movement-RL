{
 "cells": [
  {
   "cell_type": "markdown",
   "id": "bf8d1241-e94f-40c2-a719-3b8fa71efc94",
   "metadata": {},
   "source": [
    "# Applies a filter to the tracking data for smoothening"
   ]
  },
  {
   "cell_type": "code",
   "execution_count": 81,
   "id": "72e37bd7-8cb1-4ae8-adaf-56c1c70eac0d",
   "metadata": {},
   "outputs": [],
   "source": [
    "import numpy as np\n",
    "from scipy.signal import butter, filtfilt\n",
    "import pandas as pd"
   ]
  },
  {
   "cell_type": "code",
   "execution_count": 82,
   "id": "cc797f03-bb65-4a6d-96c4-abea6b8ffed2",
   "metadata": {},
   "outputs": [],
   "source": [
    "#Definin the lowpass filter\n",
    "def lpass_filter(data, cut, n, srate):\n",
    "    Wn = cut / srate\n",
    "    b, a = butter(n, Wn, btype='low')\n",
    "    new_data = filtfilt(b, a, data)\n",
    "    ldata = new_data\n",
    "    return ldata"
   ]
  },
  {
   "cell_type": "code",
   "execution_count": 83,
   "id": "ef482941-85fa-4b96-b843-512bb1d7b4c9",
   "metadata": {},
   "outputs": [],
   "source": [
    "# Dataset to apply filter to\n",
    "df = pd.read_csv('AwayTeam6.csv',header = None)"
   ]
  },
  {
   "cell_type": "code",
   "execution_count": 84,
   "id": "05c09cdf-8e06-4e8f-8e0e-a3dcb1a8f3c4",
   "metadata": {},
   "outputs": [],
   "source": [
    "# Cutoff frequency, filter order, and sampling rate\n",
    "cut = 1\n",
    "n = 3\n",
    "srate = 10"
   ]
  },
  {
   "cell_type": "code",
   "execution_count": 85,
   "id": "21e2ceb8-4da8-4618-8d9d-864d6e681330",
   "metadata": {},
   "outputs": [],
   "source": [
    "new_df = df.iloc[:,2:24] #skips first 2 columns that aren't tracking data"
   ]
  },
  {
   "cell_type": "code",
   "execution_count": 86,
   "id": "09021000-1087-4e7c-bcf0-1a18e444fa23",
   "metadata": {},
   "outputs": [],
   "source": [
    "def apply_low_pass_filter(column):\n",
    "    return lpass_filter(column, cut, n, srate)\n",
    "# Apply the function to every column and save the results in a new DataFrame\n",
    "filtered_df = new_df.apply(apply_low_pass_filter)"
   ]
  },
  {
   "cell_type": "code",
   "execution_count": 87,
   "id": "fd5022af-b34f-485f-ba14-60a7dbc1ae70",
   "metadata": {},
   "outputs": [],
   "source": [
    "#Insert back the first 2 columns\n",
    "filtered_df.insert(0,0, df.iloc[:,0])\n",
    "filtered_df.insert(1,1, df.iloc[:,1])"
   ]
  },
  {
   "cell_type": "code",
   "execution_count": 88,
   "id": "171e16b2-c520-4809-b92a-99ff80caef08",
   "metadata": {},
   "outputs": [],
   "source": [
    "filtered_df.to_csv('AwayTeam7.csv', header = False, index = False) #Saves the new filtered dataset as a csv"
   ]
  },
  {
   "cell_type": "code",
   "execution_count": null,
   "id": "2b3c2ded-2663-45ea-9352-10ab38dde3c7",
   "metadata": {},
   "outputs": [],
   "source": []
  }
 ],
 "metadata": {
  "kernelspec": {
   "display_name": "Python 3 (ipykernel)",
   "language": "python",
   "name": "python3"
  },
  "language_info": {
   "codemirror_mode": {
    "name": "ipython",
    "version": 3
   },
   "file_extension": ".py",
   "mimetype": "text/x-python",
   "name": "python",
   "nbconvert_exporter": "python",
   "pygments_lexer": "ipython3",
   "version": "3.11.3"
  }
 },
 "nbformat": 4,
 "nbformat_minor": 5
}
