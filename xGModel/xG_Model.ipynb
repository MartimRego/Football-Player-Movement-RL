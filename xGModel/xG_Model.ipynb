{
 "cells": [
  {
   "cell_type": "markdown",
   "id": "26dd4417-0723-4608-bbf5-df2c807ce853",
   "metadata": {},
   "source": [
    "# xG model implementation"
   ]
  },
  {
   "cell_type": "markdown",
   "id": "aabdfb58-39b0-4cff-89ce-9f5fc9de68e0",
   "metadata": {},
   "source": [
    "##### This code is borrowed heavily from https://github.com/Friends-of-Tracking-Data-FoTD/SoccermaticsForPython for the data treatment section"
   ]
  },
  {
   "cell_type": "code",
   "execution_count": 1,
   "id": "3a701483-a332-48a5-abbe-081946ebbc46",
   "metadata": {},
   "outputs": [],
   "source": [
    "#The basics\n",
    "import pandas as pd\n",
    "import numpy as np\n",
    "import json\n",
    "\n",
    "#Plotting\n",
    "import matplotlib.pyplot as plt\n",
    "import FCPython \n",
    "\n",
    "#Statistical fitting of models\n",
    "import statsmodels.api as sm\n",
    "import statsmodels.formula.api as smf\n",
    "\n",
    "from imblearn.over_sampling import SMOTE\n",
    "from imblearn.over_sampling import ADASYN\n",
    "from imblearn.under_sampling import ClusterCentroids\n",
    "import seaborn as sns\n",
    "from sklearn.metrics import roc_curve\n",
    "from sklearn.metrics import f1_score\n",
    "from sklearn.metrics import roc_auc_score\n",
    "from sklearn.metrics import precision_recall_curve, auc\n",
    "from sklearn.metrics import accuracy_score \n",
    "from sklearn.metrics import confusion_matrix"
   ]
  },
  {
   "cell_type": "markdown",
   "id": "88c90f8a-67c3-4ed3-a049-63f74828c5be",
   "metadata": {},
   "source": [
    "##### Single run code"
   ]
  },
  {
   "cell_type": "code",
   "execution_count": 2,
   "id": "f65dcc09-b197-42fa-a48b-8901f373448d",
   "metadata": {},
   "outputs": [
    {
     "data": {
      "text/plain": [
       "\"\\n#Decide which league to load\\n#Wyscout data from https://figshare.com/collections/Soccer_match_event_dataset/4415000/2\\nwith open('All_data.json') as f: #All_data is a dataset consisting of the fusion of all 7 competitions\\n    data = json.load(f)\\n\\ntrain = pd.DataFrame(data)\\n\\nshots=train[train['subEventName']=='Shot']\\n\\nshots_model=pd.DataFrame(columns=['Goal','X','Y'])\\n\\n#Go through the dataframe and calculate X, Y co-ordinates.\\n#Distance from a line in the centre\\n#Shot angle.\\n#Details of tags can be found here: https://apidocs.wyscout.com/matches-wyid-events\\nfor i,shot in shots.iterrows():\\n    \\n    header=0\\n    for shottags in shot['tags']:\\n        if shottags['id']==403:\\n            header=1\\n    #Only include non-headers        \\n    if not(header):        \\n        shots_model.at[i,'X']=100-shot['positions'][0]['x']\\n        shots_model.at[i,'Y']=shot['positions'][0]['y']\\n        shots_model.at[i,'C']=abs(shot['positions'][0]['y']-50)\\n    \\n        #Distance in metres and shot angle in radians.\\n        x=shots_model.at[i,'X']*105/100\\n        y=shots_model.at[i,'C']*65/100\\n        shots_model.at[i,'Distance']=np.sqrt(x**2 + y**2)\\n        a = np.arctan(7.32 *x /(x**2 + y**2 - (7.32/2)**2))\\n        if a<0:\\n            a=np.pi+a\\n        shots_model.at[i,'Angle'] =a\\n    \\n        #Was it a goal\\n        shots_model.at[i,'Goal']=0\\n        for shottags in shot['tags']:\\n                #Tags contain that its a goal\\n                if shottags['id']==101:\\n                    shots_model.at[i,'Goal']=1\\n\\n\\nshots_model.to_csv('shots.csv', index = False)\\n\""
      ]
     },
     "execution_count": 2,
     "metadata": {},
     "output_type": "execute_result"
    }
   ],
   "source": [
    "'''\n",
    "#Decide which league to load\n",
    "#Wyscout data from https://figshare.com/collections/Soccer_match_event_dataset/4415000/2\n",
    "with open('All_data.json') as f: #All_data is a dataset consisting of the fusion of all 7 competitions\n",
    "    data = json.load(f)\n",
    "\n",
    "train = pd.DataFrame(data)\n",
    "\n",
    "shots=train[train['subEventName']=='Shot']\n",
    "\n",
    "shots_model=pd.DataFrame(columns=['Goal','X','Y'])\n",
    "\n",
    "#Go through the dataframe and calculate X, Y co-ordinates.\n",
    "#Distance from a line in the centre\n",
    "#Shot angle.\n",
    "#Details of tags can be found here: https://apidocs.wyscout.com/matches-wyid-events\n",
    "for i,shot in shots.iterrows():\n",
    "    \n",
    "    header=0\n",
    "    for shottags in shot['tags']:\n",
    "        if shottags['id']==403:\n",
    "            header=1\n",
    "    #Only include non-headers        \n",
    "    if not(header):        \n",
    "        shots_model.at[i,'X']=100-shot['positions'][0]['x']\n",
    "        shots_model.at[i,'Y']=shot['positions'][0]['y']\n",
    "        shots_model.at[i,'C']=abs(shot['positions'][0]['y']-50)\n",
    "    \n",
    "        #Distance in metres and shot angle in radians.\n",
    "        x=shots_model.at[i,'X']*105/100\n",
    "        y=shots_model.at[i,'C']*65/100\n",
    "        shots_model.at[i,'Distance']=np.sqrt(x**2 + y**2)\n",
    "        a = np.arctan(7.32 *x /(x**2 + y**2 - (7.32/2)**2))\n",
    "        if a<0:\n",
    "            a=np.pi+a\n",
    "        shots_model.at[i,'Angle'] =a\n",
    "    \n",
    "        #Was it a goal\n",
    "        shots_model.at[i,'Goal']=0\n",
    "        for shottags in shot['tags']:\n",
    "                #Tags contain that its a goal\n",
    "                if shottags['id']==101:\n",
    "                    shots_model.at[i,'Goal']=1\n",
    "\n",
    "\n",
    "shots_model.to_csv('shots.csv', index = False)\n",
    "'''"
   ]
  },
  {
   "cell_type": "code",
   "execution_count": 3,
   "id": "0910c2d9-d119-4576-a6cb-c4d59aec4517",
   "metadata": {},
   "outputs": [],
   "source": [
    "data = pd.read_csv('shots.csv') #Load dataset with all shots from the 7 competitions"
   ]
  },
  {
   "cell_type": "code",
   "execution_count": 4,
   "id": "475f2c7c-fa22-4690-8af2-60c40f518398",
   "metadata": {},
   "outputs": [
    {
     "data": {
      "text/html": [
       "<div>\n",
       "<style scoped>\n",
       "    .dataframe tbody tr th:only-of-type {\n",
       "        vertical-align: middle;\n",
       "    }\n",
       "\n",
       "    .dataframe tbody tr th {\n",
       "        vertical-align: top;\n",
       "    }\n",
       "\n",
       "    .dataframe thead th {\n",
       "        text-align: right;\n",
       "    }\n",
       "</style>\n",
       "<table border=\"1\" class=\"dataframe\">\n",
       "  <thead>\n",
       "    <tr style=\"text-align: right;\">\n",
       "      <th></th>\n",
       "      <th>Goal</th>\n",
       "      <th>X</th>\n",
       "      <th>Y</th>\n",
       "      <th>C</th>\n",
       "      <th>Distance</th>\n",
       "      <th>Angle</th>\n",
       "    </tr>\n",
       "  </thead>\n",
       "  <tbody>\n",
       "    <tr>\n",
       "      <th>0</th>\n",
       "      <td>1</td>\n",
       "      <td>12</td>\n",
       "      <td>41</td>\n",
       "      <td>9.0</td>\n",
       "      <td>13.891814</td>\n",
       "      <td>0.474451</td>\n",
       "    </tr>\n",
       "    <tr>\n",
       "      <th>1</th>\n",
       "      <td>0</td>\n",
       "      <td>15</td>\n",
       "      <td>52</td>\n",
       "      <td>2.0</td>\n",
       "      <td>15.803560</td>\n",
       "      <td>0.453823</td>\n",
       "    </tr>\n",
       "    <tr>\n",
       "      <th>2</th>\n",
       "      <td>0</td>\n",
       "      <td>19</td>\n",
       "      <td>33</td>\n",
       "      <td>17.0</td>\n",
       "      <td>22.805811</td>\n",
       "      <td>0.280597</td>\n",
       "    </tr>\n",
       "    <tr>\n",
       "      <th>3</th>\n",
       "      <td>0</td>\n",
       "      <td>25</td>\n",
       "      <td>30</td>\n",
       "      <td>20.0</td>\n",
       "      <td>29.292704</td>\n",
       "      <td>0.223680</td>\n",
       "    </tr>\n",
       "    <tr>\n",
       "      <th>4</th>\n",
       "      <td>0</td>\n",
       "      <td>10</td>\n",
       "      <td>39</td>\n",
       "      <td>11.0</td>\n",
       "      <td>12.703248</td>\n",
       "      <td>0.479051</td>\n",
       "    </tr>\n",
       "    <tr>\n",
       "      <th>...</th>\n",
       "      <td>...</td>\n",
       "      <td>...</td>\n",
       "      <td>...</td>\n",
       "      <td>...</td>\n",
       "      <td>...</td>\n",
       "      <td>...</td>\n",
       "    </tr>\n",
       "    <tr>\n",
       "      <th>36086</th>\n",
       "      <td>1</td>\n",
       "      <td>8</td>\n",
       "      <td>53</td>\n",
       "      <td>3.0</td>\n",
       "      <td>8.623369</td>\n",
       "      <td>0.789654</td>\n",
       "    </tr>\n",
       "    <tr>\n",
       "      <th>36087</th>\n",
       "      <td>0</td>\n",
       "      <td>35</td>\n",
       "      <td>61</td>\n",
       "      <td>11.0</td>\n",
       "      <td>37.439084</td>\n",
       "      <td>0.191399</td>\n",
       "    </tr>\n",
       "    <tr>\n",
       "      <th>36088</th>\n",
       "      <td>0</td>\n",
       "      <td>19</td>\n",
       "      <td>33</td>\n",
       "      <td>17.0</td>\n",
       "      <td>22.805811</td>\n",
       "      <td>0.280597</td>\n",
       "    </tr>\n",
       "    <tr>\n",
       "      <th>36089</th>\n",
       "      <td>0</td>\n",
       "      <td>22</td>\n",
       "      <td>76</td>\n",
       "      <td>26.0</td>\n",
       "      <td>28.622019</td>\n",
       "      <td>0.206836</td>\n",
       "    </tr>\n",
       "    <tr>\n",
       "      <th>36090</th>\n",
       "      <td>0</td>\n",
       "      <td>30</td>\n",
       "      <td>29</td>\n",
       "      <td>21.0</td>\n",
       "      <td>34.330344</td>\n",
       "      <td>0.195368</td>\n",
       "    </tr>\n",
       "  </tbody>\n",
       "</table>\n",
       "<p>36091 rows × 6 columns</p>\n",
       "</div>"
      ],
      "text/plain": [
       "       Goal   X   Y     C   Distance     Angle\n",
       "0         1  12  41   9.0  13.891814  0.474451\n",
       "1         0  15  52   2.0  15.803560  0.453823\n",
       "2         0  19  33  17.0  22.805811  0.280597\n",
       "3         0  25  30  20.0  29.292704  0.223680\n",
       "4         0  10  39  11.0  12.703248  0.479051\n",
       "...     ...  ..  ..   ...        ...       ...\n",
       "36086     1   8  53   3.0   8.623369  0.789654\n",
       "36087     0  35  61  11.0  37.439084  0.191399\n",
       "36088     0  19  33  17.0  22.805811  0.280597\n",
       "36089     0  22  76  26.0  28.622019  0.206836\n",
       "36090     0  30  29  21.0  34.330344  0.195368\n",
       "\n",
       "[36091 rows x 6 columns]"
      ]
     },
     "execution_count": 4,
     "metadata": {},
     "output_type": "execute_result"
    }
   ],
   "source": [
    "data"
   ]
  },
  {
   "cell_type": "code",
   "execution_count": 5,
   "id": "4202355b",
   "metadata": {},
   "outputs": [
    {
     "data": {
      "text/html": [
       "<div>\n",
       "<style scoped>\n",
       "    .dataframe tbody tr th:only-of-type {\n",
       "        vertical-align: middle;\n",
       "    }\n",
       "\n",
       "    .dataframe tbody tr th {\n",
       "        vertical-align: top;\n",
       "    }\n",
       "\n",
       "    .dataframe thead th {\n",
       "        text-align: right;\n",
       "    }\n",
       "</style>\n",
       "<table border=\"1\" class=\"dataframe\">\n",
       "  <thead>\n",
       "    <tr style=\"text-align: right;\">\n",
       "      <th></th>\n",
       "      <th>Goal</th>\n",
       "      <th>X</th>\n",
       "      <th>Y</th>\n",
       "      <th>C</th>\n",
       "      <th>Distance</th>\n",
       "      <th>Angle</th>\n",
       "    </tr>\n",
       "  </thead>\n",
       "  <tbody>\n",
       "    <tr>\n",
       "      <th>count</th>\n",
       "      <td>36091.000000</td>\n",
       "      <td>36091.000000</td>\n",
       "      <td>36091.000000</td>\n",
       "      <td>36091.000000</td>\n",
       "      <td>36091.000000</td>\n",
       "      <td>36091.000000</td>\n",
       "    </tr>\n",
       "    <tr>\n",
       "      <th>mean</th>\n",
       "      <td>0.100274</td>\n",
       "      <td>16.522596</td>\n",
       "      <td>49.166468</td>\n",
       "      <td>12.385941</td>\n",
       "      <td>19.943718</td>\n",
       "      <td>0.374042</td>\n",
       "    </tr>\n",
       "    <tr>\n",
       "      <th>std</th>\n",
       "      <td>0.300370</td>\n",
       "      <td>8.096451</td>\n",
       "      <td>14.598449</td>\n",
       "      <td>7.771339</td>\n",
       "      <td>8.113562</td>\n",
       "      <td>0.221278</td>\n",
       "    </tr>\n",
       "    <tr>\n",
       "      <th>min</th>\n",
       "      <td>0.000000</td>\n",
       "      <td>0.000000</td>\n",
       "      <td>0.000000</td>\n",
       "      <td>0.000000</td>\n",
       "      <td>0.650000</td>\n",
       "      <td>-0.000000</td>\n",
       "    </tr>\n",
       "    <tr>\n",
       "      <th>25%</th>\n",
       "      <td>0.000000</td>\n",
       "      <td>10.000000</td>\n",
       "      <td>37.000000</td>\n",
       "      <td>6.000000</td>\n",
       "      <td>13.895413</td>\n",
       "      <td>0.246902</td>\n",
       "    </tr>\n",
       "    <tr>\n",
       "      <th>50%</th>\n",
       "      <td>0.000000</td>\n",
       "      <td>15.000000</td>\n",
       "      <td>49.000000</td>\n",
       "      <td>12.000000</td>\n",
       "      <td>18.911174</td>\n",
       "      <td>0.304760</td>\n",
       "    </tr>\n",
       "    <tr>\n",
       "      <th>75%</th>\n",
       "      <td>0.000000</td>\n",
       "      <td>23.000000</td>\n",
       "      <td>61.000000</td>\n",
       "      <td>18.000000</td>\n",
       "      <td>25.933087</td>\n",
       "      <td>0.428496</td>\n",
       "    </tr>\n",
       "    <tr>\n",
       "      <th>max</th>\n",
       "      <td>1.000000</td>\n",
       "      <td>99.000000</td>\n",
       "      <td>100.000000</td>\n",
       "      <td>50.000000</td>\n",
       "      <td>103.952032</td>\n",
       "      <td>2.582829</td>\n",
       "    </tr>\n",
       "  </tbody>\n",
       "</table>\n",
       "</div>"
      ],
      "text/plain": [
       "               Goal             X             Y             C      Distance  \\\n",
       "count  36091.000000  36091.000000  36091.000000  36091.000000  36091.000000   \n",
       "mean       0.100274     16.522596     49.166468     12.385941     19.943718   \n",
       "std        0.300370      8.096451     14.598449      7.771339      8.113562   \n",
       "min        0.000000      0.000000      0.000000      0.000000      0.650000   \n",
       "25%        0.000000     10.000000     37.000000      6.000000     13.895413   \n",
       "50%        0.000000     15.000000     49.000000     12.000000     18.911174   \n",
       "75%        0.000000     23.000000     61.000000     18.000000     25.933087   \n",
       "max        1.000000     99.000000    100.000000     50.000000    103.952032   \n",
       "\n",
       "              Angle  \n",
       "count  36091.000000  \n",
       "mean       0.374042  \n",
       "std        0.221278  \n",
       "min       -0.000000  \n",
       "25%        0.246902  \n",
       "50%        0.304760  \n",
       "75%        0.428496  \n",
       "max        2.582829  "
      ]
     },
     "execution_count": 5,
     "metadata": {},
     "output_type": "execute_result"
    }
   ],
   "source": [
    "data.describe()"
   ]
  },
  {
   "cell_type": "code",
   "execution_count": 6,
   "id": "41a19984-192b-4f80-b25d-b742b0117d4e",
   "metadata": {},
   "outputs": [],
   "source": [
    "x = data.drop(['Goal','X','Y','C'], axis=1)\n",
    "y = data['Goal']"
   ]
  },
  {
   "cell_type": "code",
   "execution_count": 7,
   "id": "422ec601-f9d4-4c48-8c66-b0f6fdaa55b5",
   "metadata": {
    "scrolled": true
   },
   "outputs": [
    {
     "data": {
      "image/png": "[encoded data removed]",
      "text/plain": [
       "<Figure size 1558.88x1500 with 1 Axes>"
      ]
     },
     "metadata": {},
     "output_type": "display_data"
    }
   ],
   "source": [
    "sns.lmplot(x= 'Distance', \n",
    "           y= 'Angle', \n",
    "           height=15,\n",
    "           aspect=1,\n",
    "           data=data, \n",
    "           fit_reg=False, \n",
    "           hue= 'Goal', \n",
    "           legend=True)\n",
    "\n",
    "plt.xlabel(\"Distance\")\n",
    "plt.ylabel(\"Angle\")\n",
    " \n",
    "plt.show()"
   ]
  },
  {
   "cell_type": "markdown",
   "id": "05bd3053-d8f0-44a9-b575-b57e7c5b9227",
   "metadata": {},
   "source": [
    "##### Data standardization (not used as it yielded worst results)"
   ]
  },
  {
   "cell_type": "code",
   "execution_count": 8,
   "id": "e4c90092-a1f2-4cbf-a2c9-ad1bc7d25ace",
   "metadata": {},
   "outputs": [],
   "source": [
    "#from sklearn.preprocessing import StandardScaler\n",
    "#scaler = StandardScaler()\n",
    "#x = scaler.fit_transform(x)"
   ]
  },
  {
   "cell_type": "code",
   "execution_count": 9,
   "id": "e5559ed5-2a34-4cf5-bae9-4164d0ecb596",
   "metadata": {},
   "outputs": [],
   "source": [
    "# Train/test split\n",
    "from sklearn.model_selection import train_test_split \n",
    "  \n",
    "xtrain, xtest, ytrain, ytest = train_test_split( \n",
    "    x, y, test_size=0.25, random_state=123)"
   ]
  },
  {
   "cell_type": "markdown",
   "id": "ad76f2c1-aa5d-4529-bc68-0329d333262d",
   "metadata": {},
   "source": [
    "#### We implement oversampling and undersampling techniques (SMOTE, ADASYN and Cluster Centroids) until we have full class balance"
   ]
  },
  {
   "cell_type": "code",
   "execution_count": 10,
   "id": "22b04515-ab6d-426c-8b43-1ae2fcac665e",
   "metadata": {},
   "outputs": [],
   "source": [
    "oversample = SMOTE(random_state = 123)\n",
    "xtrain_smote, ytrain_smote = oversample.fit_resample(xtrain, ytrain)"
   ]
  },
  {
   "cell_type": "code",
   "execution_count": 11,
   "id": "2f61687b-283c-434e-bb6c-639d0971f194",
   "metadata": {},
   "outputs": [],
   "source": [
    "oversample = ADASYN(sampling_strategy = 0.5, random_state = 123)\n",
    "xtrain_ada, ytrain_ada = oversample.fit_resample(xtrain, ytrain)"
   ]
  },
  {
   "cell_type": "code",
   "execution_count": 12,
   "id": "05ad9465-5cf7-40f4-a0b0-f54622bd3a5c",
   "metadata": {},
   "outputs": [
    {
     "name": "stderr",
     "output_type": "stream",
     "text": [
      "/home/macaco3001/anaconda3/envs/tf/lib/python3.9/site-packages/sklearn/cluster/_kmeans.py:1412: FutureWarning: The default value of `n_init` will change from 10 to 'auto' in 1.4. Set the value of `n_init` explicitly to suppress the warning\n",
      "  super()._check_params_vs_input(X, default_n_init=10)\n",
      "/home/macaco3001/anaconda3/envs/tf/lib/python3.9/site-packages/sklearn/base.py:1151: ConvergenceWarning: Number of distinct clusters (1362) found smaller than n_clusters (2728). Possibly due to duplicate points in X.\n",
      "  return fit_method(estimator, *args, **kwargs)\n"
     ]
    }
   ],
   "source": [
    "cc = ClusterCentroids(random_state = 123)\n",
    "xtrain_res, ytrain_res = cc.fit_resample(xtrain, ytrain)"
   ]
  },
  {
   "cell_type": "markdown",
   "id": "c12d4a86-0eb8-4433-ae95-736aa1e816f3",
   "metadata": {},
   "source": [
    "### Logistic Regression models"
   ]
  },
  {
   "cell_type": "code",
   "execution_count": 13,
   "id": "12be5b7e-16f7-4ab7-8f63-077ac30c5c59",
   "metadata": {},
   "outputs": [
    {
     "name": "stdout",
     "output_type": "stream",
     "text": [
      "Accuracy :  0.9060179541172559\n",
      "F1Score :  0.8758642047170241\n",
      "AUC Score :  0.8021553596852826\n",
      "PR-AUC Score: 0.36856109873314835\n",
      "Best Threshold=0.096420\n",
      "[[5640 2492]\n",
      " [ 207  684]]\n",
      "Accuracy with custom threshold: 0.7008755402859359\n",
      "F1Score with custom threshold: 0.7604580993268847\n",
      "Coefficients: [[-0.10000641  1.71619144]]\n",
      "Intercept: [-1.27302171]\n"
     ]
    }
   ],
   "source": [
    "from sklearn.linear_model import LogisticRegression \n",
    "\n",
    "classifier = LogisticRegression(random_state = 123) \n",
    "classifier.fit(xtrain, ytrain)\n",
    "y_pred = classifier.predict(xtest)\n",
    "y_score = classifier.predict_proba(xtest)[:, 1]\n",
    "print (\"Accuracy : \", accuracy_score(ytest, y_pred))\n",
    "print(\"F1Score : \",f1_score(ytest, y_pred, average=\"weighted\"))\n",
    "print(\"AUC Score : \", roc_auc_score(ytest, y_score))\n",
    "precision, recall, _= precision_recall_curve(ytest, y_score) \n",
    "pr_auc = auc(recall, precision)\n",
    "print(\"PR-AUC Score:\", pr_auc)\n",
    "# calculate roc curves\n",
    "fpr, tpr, thresholds = roc_curve(ytest, y_score)\n",
    "# get the best threshold\n",
    "J = tpr - fpr\n",
    "ix = np.argmax(J)\n",
    "best_thresh = thresholds[ix]\n",
    "print('Best Threshold=%f' % (best_thresh))\n",
    "threshold = best_thresh\n",
    "y_pred = (y_score >= best_thresh).astype(int)\n",
    "print(confusion_matrix(ytest, y_pred))\n",
    "print('Accuracy with custom threshold:' , accuracy_score(ytest, y_pred))\n",
    "print('F1Score with custom threshold:' , f1_score(ytest, y_pred, average=\"weighted\"))\n",
    "print('Coefficients:' ,classifier.coef_)\n",
    "print('Intercept:' ,classifier.intercept_)"
   ]
  },
  {
   "cell_type": "code",
   "execution_count": 14,
   "id": "f1275cdb-4040-4bc2-915b-172c536e59ee",
   "metadata": {},
   "outputs": [
    {
     "name": "stdout",
     "output_type": "stream",
     "text": [
      "Accuracy :  0.7386678488307659\n",
      "F1Score :  0.7883786410080711\n",
      "AUC Score :  0.8020288003277019\n",
      "PR-AUC Score: 0.36892041373191337\n",
      "Best Threshold=0.469188\n",
      "[[5663 2469]\n",
      " [ 207  684]]\n",
      "Accuracy with custom threshold: 0.7034245816247368\n",
      "F1Score with custom threshold: 0.7624132589576161\n",
      "Coefficients: [[-0.08514875  2.3985075 ]]\n",
      "Intercept: [0.36481587]\n"
     ]
    }
   ],
   "source": [
    "classifier = LogisticRegression(random_state = 123) \n",
    "classifier.fit(xtrain_smote, ytrain_smote)\n",
    "y_pred = classifier.predict(xtest)\n",
    "y_score = classifier.predict_proba(xtest)[:, 1]\n",
    "print (\"Accuracy : \", accuracy_score(ytest, y_pred))\n",
    "print(\"F1Score : \",f1_score(ytest, y_pred, average=\"weighted\"))\n",
    "print(\"AUC Score : \", roc_auc_score(ytest, y_score))\n",
    "precision, recall, _= precision_recall_curve(ytest, y_score) \n",
    "pr_auc = auc(recall, precision)\n",
    "print(\"PR-AUC Score:\", pr_auc)\n",
    "# calculate roc curves\n",
    "fpr, tpr, thresholds = roc_curve(ytest, y_score)\n",
    "# get the best threshold\n",
    "J = tpr - fpr\n",
    "ix = np.argmax(J)\n",
    "best_thresh = thresholds[ix]\n",
    "print('Best Threshold=%f' % (best_thresh))\n",
    "threshold = best_thresh\n",
    "y_pred = (y_score >= best_thresh).astype(int)\n",
    "print(confusion_matrix(ytest, y_pred))\n",
    "print('Accuracy with custom threshold:' , accuracy_score(ytest, y_pred))\n",
    "print('F1Score with custom threshold:' , f1_score(ytest, y_pred, average=\"weighted\"))\n",
    "print('Coefficients:' ,classifier.coef_)\n",
    "print('Intercept:' ,classifier.intercept_)"
   ]
  },
  {
   "cell_type": "code",
   "execution_count": 15,
   "id": "ccbbb5b2-8325-4edc-8c41-4307e541bfc0",
   "metadata": {},
   "outputs": [
    {
     "name": "stdout",
     "output_type": "stream",
     "text": [
      "Accuracy :  0.8490524215892719\n",
      "F1Score :  0.8620326911723923\n",
      "AUC Score :  0.8022089093371272\n",
      "PR-AUC Score: 0.36869709258820166\n",
      "Best Threshold=0.350396\n",
      "[[5647 2485]\n",
      " [ 206  685]]\n",
      "Accuracy with custom threshold: 0.7017621633603015\n",
      "F1Score with custom threshold: 0.7611460153799742\n",
      "Coefficients: [[-0.08736036  1.72760863]]\n",
      "Intercept: [0.15069707]\n"
     ]
    }
   ],
   "source": [
    "classifier = LogisticRegression(random_state = 123) \n",
    "classifier.fit(xtrain_ada, ytrain_ada)\n",
    "y_pred = classifier.predict(xtest)\n",
    "y_score = classifier.predict_proba(xtest)[:, 1]\n",
    "print (\"Accuracy : \", accuracy_score(ytest, y_pred))\n",
    "print(\"F1Score : \",f1_score(ytest, y_pred, average=\"weighted\"))\n",
    "print(\"AUC Score : \", roc_auc_score(ytest, y_score))\n",
    "precision, recall, _= precision_recall_curve(ytest, y_score) \n",
    "pr_auc = auc(recall, precision)\n",
    "print(\"PR-AUC Score:\", pr_auc)\n",
    "# calculate roc curves\n",
    "fpr, tpr, thresholds = roc_curve(ytest, y_score)\n",
    "# get the best threshold\n",
    "J = tpr - fpr\n",
    "ix = np.argmax(J)\n",
    "best_thresh = thresholds[ix]\n",
    "print('Best Threshold=%f' % (best_thresh))\n",
    "threshold = best_thresh\n",
    "y_pred = (y_score >= best_thresh).astype(int)\n",
    "print(confusion_matrix(ytest, y_pred))\n",
    "print('Accuracy with custom threshold:' , accuracy_score(ytest, y_pred))\n",
    "print('F1Score with custom threshold:' , f1_score(ytest, y_pred, average=\"weighted\"))\n",
    "print('Coefficients:' ,classifier.coef_)\n",
    "print('Intercept:' ,classifier.intercept_)"
   ]
  },
  {
   "cell_type": "code",
   "execution_count": 16,
   "id": "e00e65fb-5543-48e8-88d3-23a1d31a1de5",
   "metadata": {},
   "outputs": [
    {
     "name": "stdout",
     "output_type": "stream",
     "text": [
      "Accuracy :  0.6886844730134102\n",
      "F1Score :  0.751137828551421\n",
      "AUC Score :  0.8010766378326635\n",
      "PR-AUC Score: 0.3664968098503296\n",
      "Best Threshold=0.497038\n",
      "[[5506 2626]\n",
      " [ 188  703]]\n",
      "Accuracy with custom threshold: 0.6881303335919318\n",
      "F1Score with custom threshold: 0.7507211217236727\n",
      "Coefficients: [[-0.08765549  0.62362751]]\n",
      "Intercept: [1.19322252]\n"
     ]
    }
   ],
   "source": [
    "classifier = LogisticRegression(random_state = 123) \n",
    "classifier.fit(xtrain_res, ytrain_res)\n",
    "y_pred = classifier.predict(xtest)\n",
    "y_score = classifier.predict_proba(xtest)[:, 1]\n",
    "print (\"Accuracy : \", accuracy_score(ytest, y_pred))\n",
    "print(\"F1Score : \",f1_score(ytest, y_pred, average=\"weighted\"))\n",
    "print(\"AUC Score : \", roc_auc_score(ytest, y_score))\n",
    "precision, recall, _= precision_recall_curve(ytest, y_score) \n",
    "pr_auc = auc(recall, precision)\n",
    "print(\"PR-AUC Score:\", pr_auc)\n",
    "# calculate roc curves\n",
    "fpr, tpr, thresholds = roc_curve(ytest, y_score)\n",
    "# get the best threshold\n",
    "J = tpr - fpr\n",
    "ix = np.argmax(J)\n",
    "best_thresh = thresholds[ix]\n",
    "print('Best Threshold=%f' % (best_thresh))\n",
    "threshold = best_thresh\n",
    "y_pred = (y_score >= best_thresh).astype(int)\n",
    "print(confusion_matrix(ytest, y_pred))\n",
    "print('Accuracy with custom threshold:' , accuracy_score(ytest, y_pred))\n",
    "print('F1Score with custom threshold:' , f1_score(ytest, y_pred, average=\"weighted\"))\n",
    "print('Coefficients:' ,classifier.coef_)\n",
    "print('Intercept:' ,classifier.intercept_)"
   ]
  },
  {
   "cell_type": "markdown",
   "id": "7778bd55-e19f-4991-9ba6-2a0a57b03eb9",
   "metadata": {},
   "source": [
    "### XGBOOST models"
   ]
  },
  {
   "cell_type": "code",
   "execution_count": 17,
   "id": "ae0c6699-a830-4f98-ba1c-38bed1d80360",
   "metadata": {},
   "outputs": [],
   "source": [
    "import xgboost as xgb\n",
    "from xgboost import XGBClassifier"
   ]
  },
  {
   "cell_type": "code",
   "execution_count": 23,
   "id": "c262565f-17c1-40e8-bcbb-2340915eb148",
   "metadata": {},
   "outputs": [
    {
     "name": "stdout",
     "output_type": "stream",
     "text": [
      "Accuracy :  0.9053529868114818\n",
      "F1Score :  0.8759894724790943\n",
      "AUC Score :  0.7865932511981044\n",
      "PR-AUC Score: 0.3498617699741313\n",
      "Best Threshold=0.116625\n",
      "[[5941 2191]\n",
      " [ 253  638]]\n",
      "Accuracy with custom threshold: 0.7291366507813366\n",
      "F1Score with custom threshold: 0.7813711887196692\n"
     ]
    }
   ],
   "source": [
    "# Create an instance of the XGBClassifier\n",
    "model = XGBClassifier(objective='binary:logistic', base_score = 0.1) #Base score of 0.1 accounts for class imbalance\n",
    "\n",
    "# Fit the model to the training data\n",
    "model.fit(xtrain, ytrain)\n",
    "y_pred = model.predict(xtest)\n",
    "y_score = model.predict_proba(xtest)[:, 1]\n",
    "print (\"Accuracy : \", accuracy_score(ytest, y_pred))\n",
    "print(\"F1Score : \",f1_score(ytest, y_pred, average=\"weighted\"))\n",
    "print(\"AUC Score : \", roc_auc_score(ytest, y_score))\n",
    "precision, recall, _= precision_recall_curve(ytest, y_score) \n",
    "pr_auc = auc(recall, precision)\n",
    "print(\"PR-AUC Score:\", pr_auc)\n",
    "# calculate roc curves\n",
    "fpr, tpr, thresholds = roc_curve(ytest, y_score)\n",
    "# get the best threshold\n",
    "J = tpr - fpr\n",
    "ix = np.argmax(J)\n",
    "best_thresh = thresholds[ix]\n",
    "print('Best Threshold=%f' % (best_thresh))\n",
    "threshold = best_thresh\n",
    "y_pred = (y_score >= best_thresh).astype(int)\n",
    "print(confusion_matrix(ytest, y_pred))\n",
    "print('Accuracy with custom threshold:' , accuracy_score(ytest, y_pred))\n",
    "print('F1Score with custom threshold:' , f1_score(ytest, y_pred, average=\"weighted\"))"
   ]
  },
  {
   "cell_type": "code",
   "execution_count": 19,
   "id": "b9f481b4-1d42-49a7-8f5b-3be364263330",
   "metadata": {},
   "outputs": [
    {
     "name": "stdout",
     "output_type": "stream",
     "text": [
      "Accuracy :  0.7166130998559237\n",
      "F1Score :  0.7721094210822455\n",
      "AUC Score :  0.7823119703345971\n",
      "PR-AUC Score: 0.34524958295061575\n",
      "Best Threshold=0.554410\n",
      "[[6149 1983]\n",
      " [ 273  618]]\n",
      "Accuracy with custom threshold: 0.7499722930289261\n",
      "F1Score with custom threshold: 0.7965021053912114\n"
     ]
    }
   ],
   "source": [
    "# Create an instance of the XGBClassifier\n",
    "model = XGBClassifier(objective='binary:logistic')\n",
    "\n",
    "# Fit the model to the training data\n",
    "model.fit(xtrain_smote, ytrain_smote)\n",
    "y_pred = model.predict(xtest)\n",
    "y_score = model.predict_proba(xtest)[:, 1]\n",
    "print (\"Accuracy : \", accuracy_score(ytest, y_pred))\n",
    "print(\"F1Score : \",f1_score(ytest, y_pred, average=\"weighted\"))\n",
    "print(\"AUC Score : \", roc_auc_score(ytest, y_score))\n",
    "precision, recall, _= precision_recall_curve(ytest, y_score) \n",
    "pr_auc = auc(recall, precision)\n",
    "print(\"PR-AUC Score:\", pr_auc)\n",
    "# calculate roc curves\n",
    "fpr, tpr, thresholds = roc_curve(ytest, y_score)\n",
    "# get the best threshold\n",
    "J = tpr - fpr\n",
    "ix = np.argmax(J)\n",
    "best_thresh = thresholds[ix]\n",
    "print('Best Threshold=%f' % (best_thresh))\n",
    "threshold = best_thresh\n",
    "y_pred = (y_score >= best_thresh).astype(int)\n",
    "print(confusion_matrix(ytest, y_pred))\n",
    "print('Accuracy with custom threshold:' , accuracy_score(ytest, y_pred))\n",
    "print('F1Score with custom threshold:' , f1_score(ytest, y_pred, average=\"weighted\"))"
   ]
  },
  {
   "cell_type": "code",
   "execution_count": 20,
   "id": "b875e2c6-14b3-4006-804e-05c452a6247d",
   "metadata": {},
   "outputs": [
    {
     "name": "stdout",
     "output_type": "stream",
     "text": [
      "Accuracy :  0.8127008755402859\n",
      "F1Score :  0.8380610088589147\n",
      "AUC Score :  0.78060914661177\n",
      "PR-AUC Score: 0.32925185138648916\n",
      "Best Threshold=0.410670\n",
      "[[6016 2116]\n",
      " [ 264  627]]\n",
      "Accuracy with custom threshold: 0.7362296353762606\n",
      "F1Score with custom threshold: 0.7864946703663069\n"
     ]
    }
   ],
   "source": [
    "# Create an instance of the XGBClassifier\n",
    "model = XGBClassifier(objective='binary:logistic')\n",
    "\n",
    "# Fit the model to the training data\n",
    "model.fit(xtrain_ada, ytrain_ada)\n",
    "y_pred = model.predict(xtest)\n",
    "y_score = model.predict_proba(xtest)[:, 1]\n",
    "print (\"Accuracy : \", accuracy_score(ytest, y_pred))\n",
    "print(\"F1Score : \",f1_score(ytest, y_pred, average=\"weighted\"))\n",
    "print(\"AUC Score : \", roc_auc_score(ytest, y_score))\n",
    "precision, recall, _= precision_recall_curve(ytest, y_score) \n",
    "pr_auc = auc(recall, precision)\n",
    "print(\"PR-AUC Score:\", pr_auc)\n",
    "# calculate roc curves\n",
    "fpr, tpr, thresholds = roc_curve(ytest, y_score)\n",
    "# get the best threshold\n",
    "J = tpr - fpr\n",
    "ix = np.argmax(J)\n",
    "best_thresh = thresholds[ix]\n",
    "print('Best Threshold=%f' % (best_thresh))\n",
    "threshold = best_thresh\n",
    "y_pred = (y_score >= best_thresh).astype(int)\n",
    "print(confusion_matrix(ytest, y_pred))\n",
    "print('Accuracy with custom threshold:' , accuracy_score(ytest, y_pred))\n",
    "print('F1Score with custom threshold:' , f1_score(ytest, y_pred, average=\"weighted\"))"
   ]
  },
  {
   "cell_type": "code",
   "execution_count": 21,
   "id": "758f8259-b949-45ce-a338-07461458cf00",
   "metadata": {},
   "outputs": [
    {
     "name": "stdout",
     "output_type": "stream",
     "text": [
      "Accuracy :  0.44464147179430347\n",
      "F1Score :  0.5338882883036531\n",
      "AUC Score :  0.7124149761262402\n",
      "PR-AUC Score: 0.21762683986713516\n",
      "Best Threshold=0.761672\n",
      "[[5543 2589]\n",
      " [ 275  616]]\n",
      "Accuracy with custom threshold: 0.6825889393771473\n",
      "F1Score with custom threshold: 0.7459224872781307\n"
     ]
    }
   ],
   "source": [
    "# Create an instance of the XGBClassifier\n",
    "model = XGBClassifier(objective='binary:logistic')\n",
    "\n",
    "# Fit the model to the training data\n",
    "model.fit(xtrain_res, ytrain_res)\n",
    "y_pred = model.predict(xtest)\n",
    "y_score = model.predict_proba(xtest)[:, 1]\n",
    "print (\"Accuracy : \", accuracy_score(ytest, y_pred))\n",
    "print(\"F1Score : \",f1_score(ytest, y_pred, average=\"weighted\"))\n",
    "print(\"AUC Score : \", roc_auc_score(ytest, y_score))\n",
    "precision, recall, _= precision_recall_curve(ytest, y_score) \n",
    "pr_auc = auc(recall, precision)\n",
    "print(\"PR-AUC Score:\", pr_auc)\n",
    "# calculate roc curves\n",
    "fpr, tpr, thresholds = roc_curve(ytest, y_score)\n",
    "# get the best threshold\n",
    "J = tpr - fpr\n",
    "ix = np.argmax(J)\n",
    "best_thresh = thresholds[ix]\n",
    "print('Best Threshold=%f' % (best_thresh))\n",
    "threshold = best_thresh\n",
    "y_pred = (y_score >= best_thresh).astype(int)\n",
    "print(confusion_matrix(ytest, y_pred))\n",
    "print('Accuracy with custom threshold:' , accuracy_score(ytest, y_pred))\n",
    "print('F1Score with custom threshold:' , f1_score(ytest, y_pred, average=\"weighted\"))"
   ]
  },
  {
   "cell_type": "code",
   "execution_count": null,
   "id": "c9240e32-9c01-4351-b2a4-bf3ad3cd3279",
   "metadata": {},
   "outputs": [],
   "source": []
  }
 ],
 "metadata": {
  "kernelspec": {
   "display_name": "Python 3 (ipykernel)",
   "language": "python",
   "name": "python3"
  },
  "language_info": {
   "codemirror_mode": {
    "name": "ipython",
    "version": 3
   },
   "file_extension": ".py",
   "mimetype": "text/x-python",
   "name": "python",
   "nbconvert_exporter": "python",
   "pygments_lexer": "ipython3",
   "version": "3.11.3"
  }
 },
 "nbformat": 4,
 "nbformat_minor": 5
}
